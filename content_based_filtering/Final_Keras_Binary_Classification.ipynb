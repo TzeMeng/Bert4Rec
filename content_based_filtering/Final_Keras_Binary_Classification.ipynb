{
 "cells": [
  {
   "cell_type": "code",
   "execution_count": null,
   "metadata": {
    "colab": {
     "base_uri": "https://localhost:8080/"
    },
    "id": "7SCjWBPfnPn2",
    "outputId": "c40f28dd-2177-418c-edf5-f5061325c999"
   },
   "outputs": [
    {
     "name": "stdout",
     "output_type": "stream",
     "text": [
      "Drive already mounted at /content/drive/; to attempt to forcibly remount, call drive.mount(\"/content/drive/\", force_remount=True).\n"
     ]
    }
   ],
   "source": [
    "import numpy as np\n",
    "import pandas as pd\n",
    "import seaborn as sns\n",
    "import matplotlib.pyplot as plt\n",
    "\n",
    "from google.colab import drive\n",
    "drive.mount('/content/drive/')"
   ]
  },
  {
   "cell_type": "markdown",
   "metadata": {
    "id": "rjQY27brne3h"
   },
   "source": [
    "# Remap label values to bins of score\n",
    "\n",
    "**Current Labels & Coresponding Movie Score by User:**\n",
    "\n",
    "```score: label value```\n",
    "```{0.5: 0,\n",
    " 1.0: 1,\n",
    " 1.5: 2,\n",
    " 2.0: 3,\n",
    " 2.5: 4,\n",
    " 3.0: 5,\n",
    " 3.5: 6,\n",
    " 4.0: 7,\n",
    " 4.5: 8,\n",
    " 5.0: 9}```\n",
    "\n",
    " **Remap to:** \n",
    " ```{0.5 to 3.0 inclusive: 0 ; 3.5 to 5 inclusive: 1} ```"
   ]
  },
  {
   "cell_type": "code",
   "execution_count": null,
   "metadata": {
    "id": "h1RG-zstoOtR"
   },
   "outputs": [],
   "source": [
    "# Load all data\n",
    "X_train_trf1 = pd.read_csv('/content/drive/My Drive/Colab Notebooks/X_train_trf1_v3.csv')\n",
    "X_val_trf1 = pd.read_csv('/content/drive/My Drive/Colab Notebooks/X_val_trf1_v3.csv')\n",
    "X_test_trf1 = pd.read_csv('/content/drive/My Drive/Colab Notebooks/X_test_trf1_v3.csv')\n"
   ]
  },
  {
   "cell_type": "code",
   "execution_count": null,
   "metadata": {
    "id": "UAFREbjRXJ8F"
   },
   "outputs": [],
   "source": [
    "movielist = pd.concat([X_train_trf1.loc[:,['primaryTitle', 'movieId_ori','movieId']],\n",
    "           X_val_trf1.loc[:,['primaryTitle', 'movieId_ori','movieId']],\n",
    "           X_test_trf1.loc[:,['primaryTitle', 'movieId_ori','movieId']]\n",
    "], axis = 0).drop_duplicates()"
   ]
  },
  {
   "cell_type": "code",
   "execution_count": null,
   "metadata": {
    "colab": {
     "base_uri": "https://localhost:8080/",
     "height": 423
    },
    "id": "OMu32K1ydIaL",
    "outputId": "fe1c60bd-3e15-448c-be2f-48ba13be618e"
   },
   "outputs": [
    {
     "data": {
      "text/html": [
       "<div>\n",
       "<style scoped>\n",
       "    .dataframe tbody tr th:only-of-type {\n",
       "        vertical-align: middle;\n",
       "    }\n",
       "\n",
       "    .dataframe tbody tr th {\n",
       "        vertical-align: top;\n",
       "    }\n",
       "\n",
       "    .dataframe thead th {\n",
       "        text-align: right;\n",
       "    }\n",
       "</style>\n",
       "<table border=\"1\" class=\"dataframe\">\n",
       "  <thead>\n",
       "    <tr style=\"text-align: right;\">\n",
       "      <th></th>\n",
       "      <th>userId</th>\n",
       "      <th>userId_ori</th>\n",
       "    </tr>\n",
       "  </thead>\n",
       "  <tbody>\n",
       "    <tr>\n",
       "      <th>0</th>\n",
       "      <td>0.758627</td>\n",
       "      <td>123711</td>\n",
       "    </tr>\n",
       "    <tr>\n",
       "      <th>1</th>\n",
       "      <td>0.176422</td>\n",
       "      <td>30111</td>\n",
       "    </tr>\n",
       "    <tr>\n",
       "      <th>2</th>\n",
       "      <td>0.633602</td>\n",
       "      <td>103611</td>\n",
       "    </tr>\n",
       "    <tr>\n",
       "      <th>3</th>\n",
       "      <td>0.191045</td>\n",
       "      <td>32462</td>\n",
       "    </tr>\n",
       "    <tr>\n",
       "      <th>4</th>\n",
       "      <td>0.600113</td>\n",
       "      <td>98227</td>\n",
       "    </tr>\n",
       "    <tr>\n",
       "      <th>...</th>\n",
       "      <td>...</td>\n",
       "      <td>...</td>\n",
       "    </tr>\n",
       "    <tr>\n",
       "      <th>650</th>\n",
       "      <td>0.572919</td>\n",
       "      <td>93855</td>\n",
       "    </tr>\n",
       "    <tr>\n",
       "      <th>667</th>\n",
       "      <td>0.408931</td>\n",
       "      <td>67491</td>\n",
       "    </tr>\n",
       "    <tr>\n",
       "      <th>668</th>\n",
       "      <td>0.894942</td>\n",
       "      <td>145626</td>\n",
       "    </tr>\n",
       "    <tr>\n",
       "      <th>695</th>\n",
       "      <td>0.186778</td>\n",
       "      <td>31776</td>\n",
       "    </tr>\n",
       "    <tr>\n",
       "      <th>908</th>\n",
       "      <td>0.235874</td>\n",
       "      <td>39669</td>\n",
       "    </tr>\n",
       "  </tbody>\n",
       "</table>\n",
       "<p>188 rows × 2 columns</p>\n",
       "</div>"
      ],
      "text/plain": [
       "       userId  userId_ori\n",
       "0    0.758627      123711\n",
       "1    0.176422       30111\n",
       "2    0.633602      103611\n",
       "3    0.191045       32462\n",
       "4    0.600113       98227\n",
       "..        ...         ...\n",
       "650  0.572919       93855\n",
       "667  0.408931       67491\n",
       "668  0.894942      145626\n",
       "695  0.186778       31776\n",
       "908  0.235874       39669\n",
       "\n",
       "[188 rows x 2 columns]"
      ]
     },
     "execution_count": 4,
     "metadata": {
      "tags": []
     },
     "output_type": "execute_result"
    }
   ],
   "source": [
    "userlist = pd.concat([X_train_trf1.loc[:,['userId', 'userId_ori']],\n",
    "           X_val_trf1.loc[:,['userId', 'userId_ori']],\n",
    "           X_test_trf1.loc[:,['userId', 'userId_ori']]\n",
    "], axis = 0).drop_duplicates()\n",
    "\n",
    "userlist "
   ]
  },
  {
   "cell_type": "code",
   "execution_count": null,
   "metadata": {
    "colab": {
     "base_uri": "https://localhost:8080/"
    },
    "id": "Rd5F__XZR7PG",
    "outputId": "33cca199-6912-47fd-d095-e73188a26da6"
   },
   "outputs": [
    {
     "name": "stdout",
     "output_type": "stream",
     "text": [
      "(232599, 43)\n",
      "(41047, 43)\n",
      "(68433, 43)\n"
     ]
    }
   ],
   "source": [
    "for i in [X_train_trf1,X_val_trf1,X_test_trf1]:\n",
    "  print(i.shape)\n",
    "\n",
    "X_test_complete = X_test_trf1.loc[:,['primaryTitle', 'userId_ori',\n",
    "                                     'userId']]\n",
    "\n",
    "for i in [X_train_trf1,X_val_trf1,X_test_trf1]:\n",
    "  i.drop(['rating_month__1',\n",
    " 'rating_month__2',\n",
    " 'rating_month__3',\n",
    " 'rating_month__4',\n",
    " 'rating_month__5',\n",
    " 'rating_month__6',\n",
    " 'rating_month__7',\n",
    " 'rating_month__8',\n",
    " 'rating_month__9',\n",
    " 'rating_month__10',\n",
    " 'rating_month__11',\n",
    " 'rating_month__12',\n",
    " 'rating_year',\n",
    " 'primaryTitle',\n",
    " 'movieId_ori',\n",
    " 'userId_ori'], axis=1, inplace = True)\n",
    "\n",
    "#X_train_trf1 = X_train_trf1.to_numpy()\n",
    "#X_val_trf1 = X_val_trf1.to_numpy()\n",
    "#X_test_trf1 = X_test_trf1.to_numpy() \n",
    "\n",
    "y_train = pd.read_csv('/content/drive/My Drive/Colab Notebooks/y_train_nn_v3.csv').to_numpy().flatten()\n",
    "y_val= pd.read_csv('/content/drive/My Drive/Colab Notebooks/y_val_nn_v3.csv').to_numpy().flatten()\n",
    "y_test= pd.read_csv('/content/drive/My Drive/Colab Notebooks/y_test_nn_v3.csv').to_numpy().flatten()\n",
    "\n",
    "# Convert 9bins to 2bins func\n",
    "# index 0 to 6: movie scores given by user, where 0:0.5, 1:1, 2:1.5, 3:2, 4:2.5, 5: 3,  \n",
    "def nineToTwoBins(y_dataset):\n",
    "    y_dataset = (y_dataset >= 3.5).astype(int)\n",
    "    return y_dataset"
   ]
  },
  {
   "cell_type": "code",
   "execution_count": null,
   "metadata": {
    "colab": {
     "base_uri": "https://localhost:8080/"
    },
    "id": "02U60GESkt0G",
    "outputId": "e3e61470-6802-44d8-f26b-44efd43a475f"
   },
   "outputs": [
    {
     "data": {
      "text/plain": [
       "(68433, 3)"
      ]
     },
     "execution_count": 6,
     "metadata": {
      "tags": []
     },
     "output_type": "execute_result"
    }
   ],
   "source": [
    "X_test_complete.shape"
   ]
  },
  {
   "cell_type": "code",
   "execution_count": null,
   "metadata": {
    "colab": {
     "base_uri": "https://localhost:8080/"
    },
    "id": "lLG-MXznGBbk",
    "outputId": "ab400159-4530-494e-f8b9-119f13a7e981"
   },
   "outputs": [
    {
     "name": "stdout",
     "output_type": "stream",
     "text": [
      "(232599, 27)\n",
      "(41047, 27)\n",
      "(68433, 27)\n"
     ]
    }
   ],
   "source": [
    "for i in [X_train_trf1,X_val_trf1,X_test_trf1]:\n",
    "  print(i.shape)"
   ]
  },
  {
   "cell_type": "code",
   "execution_count": null,
   "metadata": {
    "colab": {
     "base_uri": "https://localhost:8080/"
    },
    "id": "22KeBJ1yEf2j",
    "outputId": "38a23a90-f19d-4d4e-fda0-7c40fbf0157f"
   },
   "outputs": [
    {
     "data": {
      "text/plain": [
       "3.0    53122\n",
       "4.0    46565\n",
       "3.5    39189\n",
       "2.5    22437\n",
       "2.0    22227\n",
       "4.5    13954\n",
       "5.0    13402\n",
       "1.0     9206\n",
       "1.5     7165\n",
       "0.5     5332\n",
       "dtype: int64"
      ]
     },
     "execution_count": 8,
     "metadata": {
      "tags": []
     },
     "output_type": "execute_result"
    }
   ],
   "source": [
    "pd.Series(y_train).value_counts()"
   ]
  },
  {
   "cell_type": "code",
   "execution_count": null,
   "metadata": {
    "id": "0jDVJIhbpFZa"
   },
   "outputs": [],
   "source": [
    "# Convert to binary bins, 0 if score < 3.5, 1 if score >= 3.5:\n",
    "y_train = (nineToTwoBins(y_train))\n",
    "y_val = (nineToTwoBins(y_val))\n",
    "y_test = (nineToTwoBins(y_test))\n"
   ]
  },
  {
   "cell_type": "markdown",
   "metadata": {
    "id": "O4a4IbVurPfH"
   },
   "source": [
    "# Import Libraries for Keras"
   ]
  },
  {
   "cell_type": "code",
   "execution_count": null,
   "metadata": {
    "id": "_i4R_r0SrUMF"
   },
   "outputs": [],
   "source": [
    "import keras\n",
    "from keras import backend as K\n",
    "from keras.models import Sequential\n",
    "from keras.layers import Activation\n",
    "from keras.layers.core import Dense\n",
    "from keras.optimizers import Adam\n",
    "from keras.metrics import categorical_crossentropy\n",
    "from keras.utils import to_categorical\n",
    "from keras.wrappers.scikit_learn import KerasClassifier\n",
    "from keras.layers import DenseFeatures\n",
    "\n",
    "from sklearn.model_selection import cross_val_score\n",
    "from sklearn.model_selection import KFold\n",
    "from keras.layers import Dropout"
   ]
  },
  {
   "cell_type": "code",
   "execution_count": null,
   "metadata": {
    "colab": {
     "base_uri": "https://localhost:8080/"
    },
    "id": "LNxYcsImpVK0",
    "outputId": "494b084b-eb70-4a57-d356-51905e7b377f"
   },
   "outputs": [
    {
     "name": "stdout",
     "output_type": "stream",
     "text": [
      "2\n"
     ]
    },
    {
     "data": {
      "text/plain": [
       "27"
      ]
     },
     "execution_count": 11,
     "metadata": {
      "tags": []
     },
     "output_type": "execute_result"
    }
   ],
   "source": [
    "num_classes = len(np.unique(y_train)\n",
    ")\n",
    "print(num_classes)\n",
    "\n",
    "num_features = np.shape(X_train_trf1)[1] # number of features\n",
    "num_features"
   ]
  },
  {
   "cell_type": "markdown",
   "metadata": {
    "id": "OhtorMyeryww"
   },
   "source": [
    "# Define Plotting Functions & Training Functions"
   ]
  },
  {
   "cell_type": "code",
   "execution_count": null,
   "metadata": {
    "id": "uPs6TVpQrxaY"
   },
   "outputs": [],
   "source": [
    "# Fitting & Plotting Functions\n",
    "def train_model(model, X_train, y_train, \n",
    "                X_val,y_val, epochs,\n",
    "                batch_size=None):\n",
    "  \"\"\"Train the model by feeding it data.\"\"\"\n",
    "\n",
    "  history = model.fit(x=X_train, y=y_train, batch_size=batch_size,\n",
    "                      epochs=epochs, shuffle=True, \n",
    "                      validation_data=(X_val, y_val)\n",
    "                      )\n",
    "  \n",
    "  return history   \n",
    "\n",
    "def plot_curve(hist):\n",
    "  \"\"\"Plot a curve of one or more classification metrics vs. epoch.\"\"\"  \n",
    "  # list_of_metrics should be one of the names shown in:\n",
    "  # https://www.tensorflow.org/tutorials/structured_data/imbalanced_data#define_the_model_and_metrics  \n",
    "\n",
    "  epochs = hist.epoch\n",
    "  f, ax = plt.subplots(nrows = 2, ncols=2, figsize=(12,12))\n",
    "  ax[0,0].plot(epochs, hist.history['loss'], label='Training Loss')\n",
    "  ax[0,0].plot(epochs, hist.history['val_loss'], label='Validation Loss')\n",
    "  ax[0,0].set_xlabel('Epochs')\n",
    "  ax[0,0].set_ylabel('Loss')\n",
    "  ax[0,0].legend()\n",
    "\n",
    "  ax[0,1].plot(epochs, hist.history['auc'], label='Training AUC')\n",
    "  ax[0,1].plot(epochs, hist.history['val_auc'], label='Validation AUC')\n",
    "  ax[0,1].set_xlabel('Epochs')\n",
    "  ax[0,1].set_ylabel('AUC')\n",
    "  ax[0,1].legend() \n",
    "\n",
    "  ax[1,0].plot(epochs, hist.history['precision'], label='Training Precision')\n",
    "  ax[1,0].plot(epochs, hist.history['val_precision'], label='Validation Precision')\n",
    "  ax[1,0].set_xlabel('Epochs')\n",
    "  ax[1,0].set_ylabel('Precision')\n",
    "  ax[1,0].legend() \n",
    "\n",
    "  ax[1,1].plot(epochs, hist.history['recall'], label='Training Recall')\n",
    "  ax[1,1].plot(epochs, hist.history['val_recall'], label='Validation Recall')\n",
    "  ax[1,1].set_xlabel('Epochs')\n",
    "  ax[1,1].set_ylabel('Recall')\n",
    "  ax[1,1].legend() "
   ]
  },
  {
   "cell_type": "markdown",
   "metadata": {
    "id": "pPO1Bhfpr4RO"
   },
   "source": [
    "# Deep Learning NN\n",
    "\n",
    "# Deep Learning NN\n",
    "\n",
    "**Metric to focus is probably Precision**\n",
    "![image.png](data:image/png;base64,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)\n",
    "\n",
    "**Compared to Recall**\n",
    "![image.png](data:image/png;base64,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)"
   ]
  },
  {
   "cell_type": "code",
   "execution_count": null,
   "metadata": {
    "id": "5u-PZ1ZMvewm"
   },
   "outputs": [],
   "source": [
    "from keras.metrics import AUC\n",
    "from keras.metrics import Precision\n",
    "from keras.metrics import Recall\n",
    "from keras.optimizers import Adam"
   ]
  },
  {
   "cell_type": "markdown",
   "metadata": {
    "id": "1YNqLS5Fzje9"
   },
   "source": [
    "# Hyperparameter Tuning \n",
    "\n",
    "Bayesian Optimization Approach:\n",
    "https://neptune.ai/blog/keras-tuner-tuning-hyperparameters-deep-learning-model"
   ]
  },
  {
   "cell_type": "code",
   "execution_count": null,
   "metadata": {
    "id": "vaCJd0T8rBkM"
   },
   "outputs": [],
   "source": [
    "!pip install -q -U keras-tuner\n",
    "from kerastuner.tuners import RandomSearch\n",
    "from kerastuner.engine.hypermodel import HyperModel\n",
    "from kerastuner.engine.hyperparameters import HyperParameters"
   ]
  },
  {
   "cell_type": "code",
   "execution_count": null,
   "metadata": {
    "id": "DhcBGWDSgAZ1"
   },
   "outputs": [],
   "source": [
    "def build_model(hp):\n",
    "  # create model\n",
    "  model = Sequential()\n",
    "\n",
    "  # Define input layer, and first hidden layer\n",
    "  # neurons for first hidden layer\n",
    "  model.add(Dense(hp.Int('first layer', \n",
    "                                   min_value =20, \n",
    "                                   max_value = 1000,\n",
    "                                   step = 50), input_dim=num_features, activation='relu')\n",
    "  )\n",
    "\n",
    "  # Define 2nd hidden (Dense) layers onward\n",
    "  # Tune layers, neurons\n",
    "  for i in range(hp.Int('num_layers', 2, 20)):\n",
    "      model.add(Dense(units=hp.Int('units_' + str(i), \n",
    "                                   min_value =20, \n",
    "                                   max_value = 1000,\n",
    "                                   step = 50),\n",
    "                      activation='relu', \n",
    "                      name=f'Hidden{i}')\n",
    "      )\n",
    "      # Add drop out layers to 5th hidden layer\n",
    "      if i == 4:\n",
    "        model.add(Dropout(rate=0.25)\n",
    "        )\n",
    "\n",
    "  # Define output layer\n",
    "  model.add(Dense(1, activation='sigmoid')\n",
    "  )\n",
    "\n",
    "  hp_learning_rate = hp.Choice('learning_rate', values=[0.2, 0.1, 1e-2, 1e-3, 1e-4])\n",
    "\n",
    "  # Compile model\n",
    "  # Tune learning rate at optimizer\n",
    "  model.compile(loss='binary_crossentropy', \n",
    "                  optimizer=Adam(learning_rate=hp_learning_rate), \n",
    "                  metrics=[AUC(),Precision(), Recall()]\n",
    "                  )\n",
    "  return model"
   ]
  },
  {
   "cell_type": "markdown",
   "metadata": {
    "id": "qN9yhu-7iwxI"
   },
   "source": [
    "# Hyperparameter Tuning using Random Search"
   ]
  },
  {
   "cell_type": "code",
   "execution_count": null,
   "metadata": {
    "id": "E0ljZWy73--8"
   },
   "outputs": [],
   "source": [
    "from kerastuner import Objective\n",
    "from keras.callbacks import EarlyStopping"
   ]
  },
  {
   "cell_type": "markdown",
   "metadata": {
    "id": "zz-vF3HE41ib"
   },
   "source": [
    "Try batch size = 500"
   ]
  },
  {
   "cell_type": "code",
   "execution_count": null,
   "metadata": {
    "colab": {
     "base_uri": "https://localhost:8080/"
    },
    "id": "kRagyANY0ezd",
    "outputId": "70a9fa1d-f81c-4e6f-c3b0-f4f5c14368ab"
   },
   "outputs": [
    {
     "name": "stdout",
     "output_type": "stream",
     "text": [
      "Trial 20 Complete [00h 00m 27s]\n",
      "val_loss: 0.6927978992462158\n",
      "\n",
      "Best val_loss So Far: 0.6173114776611328\n",
      "Total elapsed time: 00h 31m 24s\n",
      "INFO:tensorflow:Oracle triggered exit\n"
     ]
    }
   ],
   "source": [
    "tuner = RandomSearch(\n",
    "    build_model,\n",
    "    objective = Objective(\"val_loss\", direction=\"min\"),\n",
    "     max_trials=20,\n",
    "     directory='olddir_5') # each time you run random search, chnage directory name\n",
    "\n",
    "stop_early = EarlyStopping(monitor='val_loss', patience=7)\n",
    "\n",
    "tuner.search(x=X_train_trf1,\n",
    "             y=y_train,\n",
    "             batch_size = 500,\n",
    "             epochs = 100,\n",
    "             validation_data=(X_val_trf1, y_val),\n",
    "             callbacks=[stop_early]\n",
    "             )\n"
   ]
  },
  {
   "cell_type": "code",
   "execution_count": null,
   "metadata": {
    "colab": {
     "base_uri": "https://localhost:8080/"
    },
    "id": "z6gtscyQ2hcu",
    "outputId": "21a9e811-33f4-4135-ad58-e4684bfc009d"
   },
   "outputs": [
    {
     "name": "stdout",
     "output_type": "stream",
     "text": [
      "Model: \"sequential\"\n",
      "_________________________________________________________________\n",
      "Layer (type)                 Output Shape              Param #   \n",
      "=================================================================\n",
      "dense (Dense)                (None, 420)               11760     \n",
      "_________________________________________________________________\n",
      "Hidden0 (Dense)              (None, 520)               218920    \n",
      "_________________________________________________________________\n",
      "Hidden1 (Dense)              (None, 120)               62520     \n",
      "_________________________________________________________________\n",
      "Hidden2 (Dense)              (None, 520)               62920     \n",
      "_________________________________________________________________\n",
      "Hidden3 (Dense)              (None, 920)               479320    \n",
      "_________________________________________________________________\n",
      "Hidden4 (Dense)              (None, 470)               432870    \n",
      "_________________________________________________________________\n",
      "dropout (Dropout)            (None, 470)               0         \n",
      "_________________________________________________________________\n",
      "Hidden5 (Dense)              (None, 420)               197820    \n",
      "_________________________________________________________________\n",
      "Hidden6 (Dense)              (None, 820)               345220    \n",
      "_________________________________________________________________\n",
      "Hidden7 (Dense)              (None, 420)               344820    \n",
      "_________________________________________________________________\n",
      "Hidden8 (Dense)              (None, 270)               113670    \n",
      "_________________________________________________________________\n",
      "Hidden9 (Dense)              (None, 170)               46070     \n",
      "_________________________________________________________________\n",
      "Hidden10 (Dense)             (None, 970)               165870    \n",
      "_________________________________________________________________\n",
      "Hidden11 (Dense)             (None, 420)               407820    \n",
      "_________________________________________________________________\n",
      "dense_1 (Dense)              (None, 1)                 421       \n",
      "=================================================================\n",
      "Total params: 2,890,021\n",
      "Trainable params: 2,890,021\n",
      "Non-trainable params: 0\n",
      "_________________________________________________________________\n"
     ]
    }
   ],
   "source": [
    "tuner.hypermodel.build(tuner.get_best_hyperparameters()[0]).summary()\n"
   ]
  },
  {
   "cell_type": "code",
   "execution_count": null,
   "metadata": {
    "colab": {
     "base_uri": "https://localhost:8080/"
    },
    "id": "6D-DIGA1qnch",
    "outputId": "6604a7e1-eb84-4b56-c431-7bd42a0d0a7a"
   },
   "outputs": [
    {
     "name": "stdout",
     "output_type": "stream",
     "text": [
      "Model: \"sequential\"\n",
      "_________________________________________________________________\n",
      "Layer (type)                 Output Shape              Param #   \n",
      "=================================================================\n",
      "dense (Dense)                (None, 420)               11760     \n",
      "_________________________________________________________________\n",
      "Hidden0 (Dense)              (None, 520)               218920    \n",
      "_________________________________________________________________\n",
      "Hidden1 (Dense)              (None, 120)               62520     \n",
      "_________________________________________________________________\n",
      "Hidden2 (Dense)              (None, 520)               62920     \n",
      "_________________________________________________________________\n",
      "Hidden3 (Dense)              (None, 920)               479320    \n",
      "_________________________________________________________________\n",
      "Hidden4 (Dense)              (None, 470)               432870    \n",
      "_________________________________________________________________\n",
      "dropout (Dropout)            (None, 470)               0         \n",
      "_________________________________________________________________\n",
      "Hidden5 (Dense)              (None, 420)               197820    \n",
      "_________________________________________________________________\n",
      "Hidden6 (Dense)              (None, 820)               345220    \n",
      "_________________________________________________________________\n",
      "Hidden7 (Dense)              (None, 420)               344820    \n",
      "_________________________________________________________________\n",
      "Hidden8 (Dense)              (None, 270)               113670    \n",
      "_________________________________________________________________\n",
      "Hidden9 (Dense)              (None, 170)               46070     \n",
      "_________________________________________________________________\n",
      "Hidden10 (Dense)             (None, 970)               165870    \n",
      "_________________________________________________________________\n",
      "Hidden11 (Dense)             (None, 420)               407820    \n",
      "_________________________________________________________________\n",
      "dense_1 (Dense)              (None, 1)                 421       \n",
      "=================================================================\n",
      "Total params: 2,890,021\n",
      "Trainable params: 2,890,021\n",
      "Non-trainable params: 0\n",
      "_________________________________________________________________\n",
      "WARNING:tensorflow:Unresolved object in checkpoint: (root).optimizer.iter\n",
      "WARNING:tensorflow:Unresolved object in checkpoint: (root).optimizer.beta_1\n",
      "WARNING:tensorflow:Unresolved object in checkpoint: (root).optimizer.beta_2\n",
      "WARNING:tensorflow:Unresolved object in checkpoint: (root).optimizer.decay\n",
      "WARNING:tensorflow:Unresolved object in checkpoint: (root).optimizer.learning_rate\n",
      "WARNING:tensorflow:A checkpoint was restored (e.g. tf.train.Checkpoint.restore or tf.keras.Model.load_weights) but not all checkpointed values were used. See above for specific issues. Use expect_partial() on the load status object, e.g. tf.train.Checkpoint.restore(...).expect_partial(), to silence these warnings, or use assert_consumed() to make the check explicit. See https://www.tensorflow.org/guide/checkpoint#loading_mechanics for details.\n"
     ]
    }
   ],
   "source": [
    "tuner.get_best_models()[0].summary()"
   ]
  },
  {
   "cell_type": "code",
   "execution_count": null,
   "metadata": {
    "colab": {
     "base_uri": "https://localhost:8080/"
    },
    "id": "2fabRUzH3IaM",
    "outputId": "37c46abb-6ba6-4813-836f-08c1c9da1a9e"
   },
   "outputs": [
    {
     "name": "stdout",
     "output_type": "stream",
     "text": [
      "83/83 [==============================] - 1s 6ms/step - loss: 0.6125 - auc: 0.7243 - precision: 0.6475 - recall: 0.6864\n",
      "loss 0.6173114776611328\n",
      "auc 0.7187758684158325\n",
      "precision 0.6431270837783813\n",
      "recall 0.6820800304412842\n"
     ]
    }
   ],
   "source": [
    "best_model_rs = tuner.get_best_models()[0]\n",
    "\n",
    "# After building a model against the training set, test that model\n",
    "# against the val set.\n",
    "result = best_model_rs.evaluate(x=X_val_trf1, \n",
    "                  y=y_val, \n",
    "                  batch_size=500)\n",
    "for item in zip(best_model_rs.metrics_names, result):\n",
    "  print (item[0], item[1])"
   ]
  },
  {
   "cell_type": "code",
   "execution_count": null,
   "metadata": {
    "colab": {
     "base_uri": "https://localhost:8080/"
    },
    "id": "23ZfKbgSoSx5",
    "outputId": "a2119a24-b3f2-4996-c7d0-95ecd4dc8d5a"
   },
   "outputs": [
    {
     "data": {
      "text/plain": [
       "{'first layer': 420,\n",
       " 'learning_rate': 0.001,\n",
       " 'num_layers': 12,\n",
       " 'units_0': 520,\n",
       " 'units_1': 120,\n",
       " 'units_10': 970,\n",
       " 'units_11': 420,\n",
       " 'units_12': 220,\n",
       " 'units_13': 70,\n",
       " 'units_14': 570,\n",
       " 'units_15': 720,\n",
       " 'units_16': 270,\n",
       " 'units_2': 520,\n",
       " 'units_3': 920,\n",
       " 'units_4': 470,\n",
       " 'units_5': 420,\n",
       " 'units_6': 820,\n",
       " 'units_7': 420,\n",
       " 'units_8': 270,\n",
       " 'units_9': 170}"
      ]
     },
     "execution_count": 30,
     "metadata": {
      "tags": []
     },
     "output_type": "execute_result"
    }
   ],
   "source": [
    "tuner.get_best_hyperparameters()[0].values"
   ]
  },
  {
   "cell_type": "code",
   "execution_count": null,
   "metadata": {
    "id": "Kq2pXxG9pXP5"
   },
   "outputs": [],
   "source": [
    "best_model_rs.save('best_model_rs.h5')\n",
    "#best_model_rs = keras.models.load_model('/content/drive/My Drive/Colab Notebooks/best_model_rs.h5')"
   ]
  },
  {
   "cell_type": "markdown",
   "metadata": {
    "id": "RVKUZRb6RYGX"
   },
   "source": [
    "Changing to Bayesian Optimization"
   ]
  },
  {
   "cell_type": "code",
   "execution_count": null,
   "metadata": {
    "id": "H7oNBRVw7oJA"
   },
   "outputs": [],
   "source": [
    "from kerastuner.tuners import BayesianOptimization"
   ]
  },
  {
   "cell_type": "code",
   "execution_count": null,
   "metadata": {
    "colab": {
     "base_uri": "https://localhost:8080/"
    },
    "id": "ct45aaAr5PFN",
    "outputId": "c447f9c8-ca67-4449-dfad-d9e855d29dec"
   },
   "outputs": [
    {
     "name": "stdout",
     "output_type": "stream",
     "text": [
      "Trial 10 Complete [00h 44m 26s]\n",
      "val_loss: 0.6526498794555664\n",
      "\n",
      "Best val_loss So Far: 0.6207305312156677\n",
      "Total elapsed time: 05h 53m 59s\n",
      "INFO:tensorflow:Oracle triggered exit\n"
     ]
    }
   ],
   "source": [
    "class MyTuner(BayesianOptimization):\n",
    "  def run_trial(self, trial, *args, **kwargs):\n",
    "    # You can add additional HyperParameters for preprocessing and custom training loops\n",
    "    # via overriding `run_trial`\n",
    "    kwargs['batch_size'] = trial.hyperparameters.Int('batch_size', 100, 1000, step=150)\n",
    "    kwargs['epochs'] = trial.hyperparameters.Int('epochs', 50, 130, step = 20)\n",
    "    super(MyTuner, self).run_trial(trial, *args, **kwargs)\n",
    "\n",
    "# Uses same arguments as the BayesianOptimization Tuner.\n",
    "tuner_bo = MyTuner(build_model,\n",
    "    objective = Objective(\"val_loss\", direction=\"min\"),\n",
    "            max_trials=10,\n",
    "            seed=42,\n",
    "            executions_per_trial=5)\n",
    "\n",
    "stop_early = EarlyStopping(monitor='val_loss', patience=7)\n",
    "\n",
    "# Don't pass epochs or batch_size here, let the Tuner tune them.\n",
    "tuner_bo.search(x=X_train_trf1,\n",
    "             y=y_train,\n",
    "             validation_data=(X_val_trf1, y_val),\n",
    "             callbacks = [stop_early]\n",
    "             )"
   ]
  },
  {
   "cell_type": "code",
   "execution_count": null,
   "metadata": {
    "colab": {
     "base_uri": "https://localhost:8080/"
    },
    "id": "vxWTCRIH1SMA",
    "outputId": "a5b746bb-5894-448f-ec32-f0c56869bf5a"
   },
   "outputs": [
    {
     "data": {
      "text/plain": [
       "{'batch_size': 400,\n",
       " 'epochs': 50,\n",
       " 'first layer': 70,\n",
       " 'learning_rate': 0.0001,\n",
       " 'num_layers': 8,\n",
       " 'units_0': 870,\n",
       " 'units_1': 20,\n",
       " 'units_10': 820,\n",
       " 'units_11': 970,\n",
       " 'units_2': 720,\n",
       " 'units_3': 620,\n",
       " 'units_4': 870,\n",
       " 'units_5': 720,\n",
       " 'units_6': 820,\n",
       " 'units_7': 320,\n",
       " 'units_8': 170,\n",
       " 'units_9': 770}"
      ]
     },
     "execution_count": 26,
     "metadata": {
      "tags": []
     },
     "output_type": "execute_result"
    }
   ],
   "source": [
    "tuner_bo.get_best_hyperparameters()[0].values"
   ]
  },
  {
   "cell_type": "code",
   "execution_count": null,
   "metadata": {
    "colab": {
     "base_uri": "https://localhost:8080/"
    },
    "id": "bm98nPzRXImO",
    "outputId": "ae6ef7a4-aee2-4ec9-b390-e31152af6834"
   },
   "outputs": [
    {
     "name": "stdout",
     "output_type": "stream",
     "text": [
      "83/83 [==============================] - 1s 5ms/step - loss: 0.6169 - auc: 0.7176 - precision: 0.6404 - recall: 0.6908\n",
      "loss 0.6191622614860535\n",
      "auc 0.7147683501243591\n",
      "precision 0.6393564939498901\n",
      "recall 0.6868894100189209\n"
     ]
    }
   ],
   "source": [
    "best_model_bo = tuner_bo.get_best_models()[0]\n",
    "\n",
    "# After building a model against the training set, test that model\n",
    "# against the val set.\n",
    "result = best_model_bo.evaluate(x=X_val_trf1, \n",
    "                  y=y_val, \n",
    "                  batch_size=500) #set batch size from previous block of code manually\n",
    "for item in zip(best_model_bo.metrics_names, result):\n",
    "  print (item[0], item[1])"
   ]
  },
  {
   "cell_type": "code",
   "execution_count": null,
   "metadata": {
    "colab": {
     "base_uri": "https://localhost:8080/"
    },
    "id": "N8rogpbm3Uwz",
    "outputId": "8cad485b-bee2-4a89-ec82-7ae961019a71"
   },
   "outputs": [
    {
     "name": "stdout",
     "output_type": "stream",
     "text": [
      "Model: \"sequential\"\n",
      "_________________________________________________________________\n",
      "Layer (type)                 Output Shape              Param #   \n",
      "=================================================================\n",
      "dense (Dense)                (None, 70)                1960      \n",
      "_________________________________________________________________\n",
      "Hidden0 (Dense)              (None, 870)               61770     \n",
      "_________________________________________________________________\n",
      "Hidden1 (Dense)              (None, 20)                17420     \n",
      "_________________________________________________________________\n",
      "Hidden2 (Dense)              (None, 720)               15120     \n",
      "_________________________________________________________________\n",
      "Hidden3 (Dense)              (None, 620)               447020    \n",
      "_________________________________________________________________\n",
      "Hidden4 (Dense)              (None, 870)               540270    \n",
      "_________________________________________________________________\n",
      "dropout (Dropout)            (None, 870)               0         \n",
      "_________________________________________________________________\n",
      "Hidden5 (Dense)              (None, 720)               627120    \n",
      "_________________________________________________________________\n",
      "Hidden6 (Dense)              (None, 820)               591220    \n",
      "_________________________________________________________________\n",
      "Hidden7 (Dense)              (None, 320)               262720    \n",
      "_________________________________________________________________\n",
      "dense_1 (Dense)              (None, 1)                 321       \n",
      "=================================================================\n",
      "Total params: 2,564,941\n",
      "Trainable params: 2,564,941\n",
      "Non-trainable params: 0\n",
      "_________________________________________________________________\n"
     ]
    }
   ],
   "source": [
    "best_hps_bo = tuner_bo.get_best_hyperparameters()[0]\n",
    "best_model_bo = tuner_bo.hypermodel.build(best_hps_bo)\n",
    "best_model_bo.summary() # equivalent to tuner_bo.get_best_models()[0].summary()\n"
   ]
  },
  {
   "cell_type": "code",
   "execution_count": null,
   "metadata": {
    "id": "UY3BbH6R-fTN"
   },
   "outputs": [],
   "source": [
    "# Export your models & weights. Remember to download them from the folder tab on the left\n",
    "best_model_bo.save('best_model_bo.h5')\n",
    "#best_model_bo = keras.models.load_model('/content/drive/My Drive/Colab Notebooks/best_model_bo.h5').summary()"
   ]
  },
  {
   "cell_type": "markdown",
   "metadata": {
    "id": "HYEM1xnU5Jls"
   },
   "source": [
    "# Choose Neural Network based on validation precision"
   ]
  },
  {
   "cell_type": "markdown",
   "metadata": {
    "id": "GMjA461fvPNr"
   },
   "source": [
    "**Random Search Model**\n"
   ]
  },
  {
   "cell_type": "code",
   "execution_count": null,
   "metadata": {
    "id": "rrzTy816XYKx"
   },
   "outputs": [],
   "source": [
    "# Import your models \n",
    "\n",
    "##best_model_rs = keras.models.load_model('/content/drive/My Drive/Colab Notebooks/best_model_rs.h5')\n",
    "##best_model_bo = keras.models.load_model('/content/drive/My Drive/Colab Notebooks/best_model_bo.h5')"
   ]
  },
  {
   "cell_type": "code",
   "execution_count": null,
   "metadata": {
    "colab": {
     "base_uri": "https://localhost:8080/"
    },
    "id": "bkQ4E9lU_PXN",
    "outputId": "4eeb9c54-34d8-4105-9df0-0b0bb3894e13"
   },
   "outputs": [
    {
     "name": "stdout",
     "output_type": "stream",
     "text": [
      "Epoch 1/100\n",
      "466/466 [==============================] - 4s 8ms/step - loss: 0.5966 - auc: 0.7420 - precision: 0.6663 - recall: 0.6751 - val_loss: 0.6181 - val_auc: 0.7188 - val_precision: 0.6537 - val_recall: 0.6551\n",
      "Epoch 2/100\n",
      "466/466 [==============================] - 3s 7ms/step - loss: 0.5960 - auc: 0.7427 - precision: 0.6671 - recall: 0.6755 - val_loss: 0.6196 - val_auc: 0.7174 - val_precision: 0.6456 - val_recall: 0.6728\n",
      "Epoch 3/100\n",
      "466/466 [==============================] - 3s 7ms/step - loss: 0.5958 - auc: 0.7430 - precision: 0.6711 - recall: 0.6642 - val_loss: 0.6226 - val_auc: 0.7190 - val_precision: 0.6521 - val_recall: 0.6544\n",
      "Epoch 4/100\n",
      "466/466 [==============================] - 3s 7ms/step - loss: 0.5954 - auc: 0.7435 - precision: 0.6673 - recall: 0.6770 - val_loss: 0.6200 - val_auc: 0.7185 - val_precision: 0.6450 - val_recall: 0.6790\n",
      "Epoch 5/100\n",
      "466/466 [==============================] - 3s 7ms/step - loss: 0.5943 - auc: 0.7445 - precision: 0.6694 - recall: 0.6751 - val_loss: 0.6200 - val_auc: 0.7182 - val_precision: 0.6533 - val_recall: 0.6516\n",
      "Epoch 6/100\n",
      "466/466 [==============================] - 3s 7ms/step - loss: 0.5940 - auc: 0.7452 - precision: 0.6707 - recall: 0.6728 - val_loss: 0.6204 - val_auc: 0.7187 - val_precision: 0.6575 - val_recall: 0.6304\n",
      "Epoch 7/100\n",
      "466/466 [==============================] - 3s 7ms/step - loss: 0.5938 - auc: 0.7453 - precision: 0.6708 - recall: 0.6718 - val_loss: 0.6219 - val_auc: 0.7186 - val_precision: 0.6548 - val_recall: 0.6461\n",
      "Epoch 8/100\n",
      "466/466 [==============================] - 3s 7ms/step - loss: 0.5936 - auc: 0.7455 - precision: 0.6703 - recall: 0.6771 - val_loss: 0.6227 - val_auc: 0.7179 - val_precision: 0.6458 - val_recall: 0.6713\n",
      "Epoch 9/100\n",
      "466/466 [==============================] - 3s 7ms/step - loss: 0.5928 - auc: 0.7465 - precision: 0.6696 - recall: 0.6766 - val_loss: 0.6247 - val_auc: 0.7188 - val_precision: 0.6590 - val_recall: 0.6273\n",
      "Epoch 10/100\n",
      "466/466 [==============================] - 3s 7ms/step - loss: 0.5927 - auc: 0.7465 - precision: 0.6721 - recall: 0.6719 - val_loss: 0.6266 - val_auc: 0.7170 - val_precision: 0.6604 - val_recall: 0.6097\n",
      "Epoch 11/100\n",
      "466/466 [==============================] - 3s 7ms/step - loss: 0.5945 - auc: 0.7445 - precision: 0.6707 - recall: 0.6701 - val_loss: 0.6199 - val_auc: 0.7197 - val_precision: 0.6473 - val_recall: 0.6701\n",
      "Epoch 12/100\n",
      "466/466 [==============================] - 3s 7ms/step - loss: 0.5917 - auc: 0.7476 - precision: 0.6708 - recall: 0.6770 - val_loss: 0.6213 - val_auc: 0.7189 - val_precision: 0.6502 - val_recall: 0.6682\n",
      "Epoch 13/100\n",
      "466/466 [==============================] - 3s 7ms/step - loss: 0.5916 - auc: 0.7476 - precision: 0.6698 - recall: 0.6801 - val_loss: 0.6216 - val_auc: 0.7193 - val_precision: 0.6491 - val_recall: 0.6728\n",
      "Epoch 14/100\n",
      "466/466 [==============================] - 3s 7ms/step - loss: 0.5907 - auc: 0.7486 - precision: 0.6709 - recall: 0.6814 - val_loss: 0.6230 - val_auc: 0.7184 - val_precision: 0.6633 - val_recall: 0.6165\n",
      "Epoch 15/100\n",
      "466/466 [==============================] - 3s 7ms/step - loss: 0.5905 - auc: 0.7487 - precision: 0.6724 - recall: 0.6773 - val_loss: 0.6219 - val_auc: 0.7182 - val_precision: 0.6643 - val_recall: 0.6045\n",
      "Epoch 16/100\n",
      "466/466 [==============================] - 3s 7ms/step - loss: 0.5899 - auc: 0.7494 - precision: 0.6750 - recall: 0.6704 - val_loss: 0.6222 - val_auc: 0.7181 - val_precision: 0.6550 - val_recall: 0.6447\n",
      "Epoch 17/100\n",
      "466/466 [==============================] - 3s 7ms/step - loss: 0.5895 - auc: 0.7499 - precision: 0.6725 - recall: 0.6789 - val_loss: 0.6208 - val_auc: 0.7200 - val_precision: 0.6503 - val_recall: 0.6661\n",
      "Epoch 18/100\n",
      "466/466 [==============================] - 3s 7ms/step - loss: 0.5893 - auc: 0.7501 - precision: 0.6736 - recall: 0.6768 - val_loss: 0.6202 - val_auc: 0.7182 - val_precision: 0.6590 - val_recall: 0.6293\n",
      "Epoch 19/100\n",
      "466/466 [==============================] - 3s 7ms/step - loss: 0.5882 - auc: 0.7513 - precision: 0.6750 - recall: 0.6754 - val_loss: 0.6267 - val_auc: 0.7192 - val_precision: 0.6550 - val_recall: 0.6444\n",
      "Epoch 20/100\n",
      "466/466 [==============================] - 3s 7ms/step - loss: 0.5879 - auc: 0.7515 - precision: 0.6775 - recall: 0.6707 - val_loss: 0.6278 - val_auc: 0.7170 - val_precision: 0.6549 - val_recall: 0.6424\n",
      "Epoch 21/100\n",
      "466/466 [==============================] - 3s 7ms/step - loss: 0.5874 - auc: 0.7519 - precision: 0.6778 - recall: 0.6710 - val_loss: 0.6226 - val_auc: 0.7189 - val_precision: 0.6617 - val_recall: 0.6284\n",
      "Epoch 22/100\n",
      "466/466 [==============================] - 3s 7ms/step - loss: 0.5869 - auc: 0.7524 - precision: 0.6776 - recall: 0.6707 - val_loss: 0.6236 - val_auc: 0.7182 - val_precision: 0.6465 - val_recall: 0.6707\n",
      "Epoch 23/100\n",
      "466/466 [==============================] - 3s 7ms/step - loss: 0.5870 - auc: 0.7525 - precision: 0.6755 - recall: 0.6768 - val_loss: 0.6223 - val_auc: 0.7179 - val_precision: 0.6588 - val_recall: 0.6124\n",
      "Epoch 24/100\n",
      "466/466 [==============================] - 3s 7ms/step - loss: 0.5868 - auc: 0.7524 - precision: 0.6769 - recall: 0.6740 - val_loss: 0.6318 - val_auc: 0.7195 - val_precision: 0.6631 - val_recall: 0.6225\n",
      "Epoch 25/100\n",
      "466/466 [==============================] - 3s 7ms/step - loss: 0.5853 - auc: 0.7541 - precision: 0.6747 - recall: 0.6849 - val_loss: 0.6280 - val_auc: 0.7182 - val_precision: 0.6477 - val_recall: 0.6702\n",
      "Epoch 26/100\n",
      "466/466 [==============================] - 3s 7ms/step - loss: 0.5852 - auc: 0.7543 - precision: 0.6772 - recall: 0.6803 - val_loss: 0.6254 - val_auc: 0.7173 - val_precision: 0.6440 - val_recall: 0.6814\n",
      "Epoch 27/100\n",
      "466/466 [==============================] - 3s 8ms/step - loss: 0.5854 - auc: 0.7539 - precision: 0.6750 - recall: 0.6841 - val_loss: 0.6279 - val_auc: 0.7184 - val_precision: 0.6519 - val_recall: 0.6550\n",
      "Epoch 28/100\n",
      "466/466 [==============================] - 3s 7ms/step - loss: 0.5848 - auc: 0.7545 - precision: 0.6759 - recall: 0.6824 - val_loss: 0.6286 - val_auc: 0.7182 - val_precision: 0.6568 - val_recall: 0.6392\n",
      "Epoch 29/100\n",
      "466/466 [==============================] - 3s 7ms/step - loss: 0.5842 - auc: 0.7551 - precision: 0.6746 - recall: 0.6868 - val_loss: 0.6306 - val_auc: 0.7191 - val_precision: 0.6528 - val_recall: 0.6582\n",
      "Epoch 30/100\n",
      "466/466 [==============================] - 3s 7ms/step - loss: 0.5837 - auc: 0.7557 - precision: 0.6756 - recall: 0.6864 - val_loss: 0.6290 - val_auc: 0.7189 - val_precision: 0.6394 - val_recall: 0.7023\n",
      "Epoch 31/100\n",
      "466/466 [==============================] - 3s 7ms/step - loss: 0.5837 - auc: 0.7556 - precision: 0.6773 - recall: 0.6802 - val_loss: 0.6239 - val_auc: 0.7169 - val_precision: 0.6410 - val_recall: 0.6854\n",
      "Epoch 32/100\n",
      "466/466 [==============================] - 3s 7ms/step - loss: 0.5857 - auc: 0.7535 - precision: 0.6728 - recall: 0.6872 - val_loss: 0.6366 - val_auc: 0.7174 - val_precision: 0.6590 - val_recall: 0.6243\n",
      "Epoch 33/100\n",
      "466/466 [==============================] - 4s 8ms/step - loss: 0.5836 - auc: 0.7556 - precision: 0.6773 - recall: 0.6814 - val_loss: 0.6345 - val_auc: 0.7188 - val_precision: 0.6498 - val_recall: 0.6595\n",
      "Epoch 34/100\n",
      "466/466 [==============================] - 4s 8ms/step - loss: 0.5829 - auc: 0.7564 - precision: 0.6774 - recall: 0.6801 - val_loss: 0.6283 - val_auc: 0.7190 - val_precision: 0.6423 - val_recall: 0.6905\n",
      "Epoch 35/100\n",
      "466/466 [==============================] - 3s 7ms/step - loss: 0.5827 - auc: 0.7568 - precision: 0.6770 - recall: 0.6836 - val_loss: 0.6339 - val_auc: 0.7166 - val_precision: 0.6338 - val_recall: 0.7039\n",
      "Epoch 36/100\n",
      "466/466 [==============================] - 3s 7ms/step - loss: 0.5820 - auc: 0.7571 - precision: 0.6768 - recall: 0.6840 - val_loss: 0.6313 - val_auc: 0.7185 - val_precision: 0.6459 - val_recall: 0.6806\n",
      "Epoch 37/100\n",
      "466/466 [==============================] - 3s 7ms/step - loss: 0.5811 - auc: 0.7582 - precision: 0.6802 - recall: 0.6783 - val_loss: 0.6344 - val_auc: 0.7176 - val_precision: 0.6516 - val_recall: 0.6555\n",
      "Epoch 38/100\n",
      "466/466 [==============================] - 3s 8ms/step - loss: 0.5820 - auc: 0.7574 - precision: 0.6788 - recall: 0.6803 - val_loss: 0.6348 - val_auc: 0.7168 - val_precision: 0.6465 - val_recall: 0.6614\n",
      "Epoch 39/100\n",
      "466/466 [==============================] - 3s 7ms/step - loss: 0.5808 - auc: 0.7585 - precision: 0.6759 - recall: 0.6889 - val_loss: 0.6336 - val_auc: 0.7179 - val_precision: 0.6426 - val_recall: 0.6833\n",
      "Epoch 40/100\n",
      "466/466 [==============================] - 3s 7ms/step - loss: 0.5800 - auc: 0.7593 - precision: 0.6790 - recall: 0.6846 - val_loss: 0.6362 - val_auc: 0.7184 - val_precision: 0.6478 - val_recall: 0.6638\n",
      "Epoch 41/100\n",
      "466/466 [==============================] - 3s 7ms/step - loss: 0.5807 - auc: 0.7585 - precision: 0.6788 - recall: 0.6840 - val_loss: 0.6344 - val_auc: 0.7183 - val_precision: 0.6510 - val_recall: 0.6564\n",
      "Epoch 42/100\n",
      "466/466 [==============================] - 3s 7ms/step - loss: 0.5799 - auc: 0.7595 - precision: 0.6795 - recall: 0.6829 - val_loss: 0.6372 - val_auc: 0.7186 - val_precision: 0.6474 - val_recall: 0.6788\n",
      "Epoch 43/100\n",
      "466/466 [==============================] - 3s 7ms/step - loss: 0.5788 - auc: 0.7604 - precision: 0.6802 - recall: 0.6855 - val_loss: 0.6334 - val_auc: 0.7179 - val_precision: 0.6504 - val_recall: 0.6629\n",
      "Epoch 44/100\n",
      "466/466 [==============================] - 3s 7ms/step - loss: 0.5785 - auc: 0.7607 - precision: 0.6788 - recall: 0.6885 - val_loss: 0.6373 - val_auc: 0.7161 - val_precision: 0.6490 - val_recall: 0.6552\n",
      "Epoch 45/100\n",
      "466/466 [==============================] - 3s 7ms/step - loss: 0.5778 - auc: 0.7615 - precision: 0.6799 - recall: 0.6903 - val_loss: 0.6321 - val_auc: 0.7168 - val_precision: 0.6433 - val_recall: 0.6731\n",
      "Epoch 46/100\n",
      "466/466 [==============================] - 3s 7ms/step - loss: 0.5781 - auc: 0.7613 - precision: 0.6795 - recall: 0.6890 - val_loss: 0.6310 - val_auc: 0.7181 - val_precision: 0.6602 - val_recall: 0.6272\n",
      "Epoch 47/100\n",
      "466/466 [==============================] - 3s 7ms/step - loss: 0.5776 - auc: 0.7614 - precision: 0.6792 - recall: 0.6891 - val_loss: 0.6345 - val_auc: 0.7178 - val_precision: 0.6616 - val_recall: 0.6157\n",
      "Epoch 48/100\n",
      "466/466 [==============================] - 4s 8ms/step - loss: 0.5762 - auc: 0.7629 - precision: 0.6811 - recall: 0.6900 - val_loss: 0.6325 - val_auc: 0.7182 - val_precision: 0.6500 - val_recall: 0.6624\n",
      "Epoch 49/100\n",
      "466/466 [==============================] - 3s 8ms/step - loss: 0.5762 - auc: 0.7630 - precision: 0.6804 - recall: 0.6927 - val_loss: 0.6391 - val_auc: 0.7162 - val_precision: 0.6428 - val_recall: 0.6843\n",
      "Epoch 50/100\n",
      "466/466 [==============================] - 3s 7ms/step - loss: 0.5766 - auc: 0.7626 - precision: 0.6804 - recall: 0.6901 - val_loss: 0.6364 - val_auc: 0.7187 - val_precision: 0.6464 - val_recall: 0.6682\n",
      "Epoch 51/100\n",
      "466/466 [==============================] - 4s 8ms/step - loss: 0.5757 - auc: 0.7636 - precision: 0.6818 - recall: 0.6892 - val_loss: 0.6382 - val_auc: 0.7175 - val_precision: 0.6427 - val_recall: 0.6886\n",
      "Epoch 52/100\n",
      "466/466 [==============================] - 3s 7ms/step - loss: 0.5758 - auc: 0.7635 - precision: 0.6824 - recall: 0.6885 - val_loss: 0.6413 - val_auc: 0.7169 - val_precision: 0.6434 - val_recall: 0.6796\n",
      "Epoch 53/100\n",
      "466/466 [==============================] - 3s 7ms/step - loss: 0.5748 - auc: 0.7641 - precision: 0.6800 - recall: 0.6932 - val_loss: 0.6339 - val_auc: 0.7157 - val_precision: 0.6544 - val_recall: 0.6333\n",
      "Epoch 54/100\n",
      "466/466 [==============================] - 3s 7ms/step - loss: 0.5745 - auc: 0.7646 - precision: 0.6817 - recall: 0.6946 - val_loss: 0.6449 - val_auc: 0.7180 - val_precision: 0.6532 - val_recall: 0.6524\n",
      "Epoch 55/100\n",
      "466/466 [==============================] - 4s 8ms/step - loss: 0.5738 - auc: 0.7654 - precision: 0.6828 - recall: 0.6935 - val_loss: 0.6535 - val_auc: 0.7179 - val_precision: 0.6493 - val_recall: 0.6678\n",
      "Epoch 56/100\n",
      "466/466 [==============================] - 4s 8ms/step - loss: 0.5733 - auc: 0.7660 - precision: 0.6838 - recall: 0.6899 - val_loss: 0.6477 - val_auc: 0.7149 - val_precision: 0.6500 - val_recall: 0.6518\n",
      "Epoch 57/100\n",
      "466/466 [==============================] - 4s 8ms/step - loss: 0.5730 - auc: 0.7660 - precision: 0.6844 - recall: 0.6893 - val_loss: 0.6468 - val_auc: 0.7160 - val_precision: 0.6517 - val_recall: 0.6555\n",
      "Epoch 58/100\n",
      "466/466 [==============================] - 4s 8ms/step - loss: 0.5726 - auc: 0.7666 - precision: 0.6837 - recall: 0.6943 - val_loss: 0.6480 - val_auc: 0.7167 - val_precision: 0.6469 - val_recall: 0.6707\n",
      "Epoch 59/100\n",
      "466/466 [==============================] - 3s 7ms/step - loss: 0.5738 - auc: 0.7655 - precision: 0.6818 - recall: 0.6939 - val_loss: 0.6413 - val_auc: 0.7160 - val_precision: 0.6548 - val_recall: 0.6388\n",
      "Epoch 60/100\n",
      "466/466 [==============================] - 3s 7ms/step - loss: 0.5739 - auc: 0.7655 - precision: 0.6827 - recall: 0.6924 - val_loss: 0.6428 - val_auc: 0.7154 - val_precision: 0.6512 - val_recall: 0.6381\n",
      "Epoch 61/100\n",
      "466/466 [==============================] - 4s 8ms/step - loss: 0.5727 - auc: 0.7665 - precision: 0.6836 - recall: 0.6901 - val_loss: 0.6418 - val_auc: 0.7149 - val_precision: 0.6355 - val_recall: 0.6936\n",
      "Epoch 62/100\n",
      "466/466 [==============================] - 4s 8ms/step - loss: 0.5723 - auc: 0.7666 - precision: 0.6823 - recall: 0.6940 - val_loss: 0.6464 - val_auc: 0.7167 - val_precision: 0.6546 - val_recall: 0.6419\n",
      "Epoch 63/100\n",
      "466/466 [==============================] - 4s 8ms/step - loss: 0.5713 - auc: 0.7678 - precision: 0.6850 - recall: 0.6900 - val_loss: 0.6361 - val_auc: 0.7166 - val_precision: 0.6456 - val_recall: 0.6732\n",
      "Epoch 64/100\n",
      "466/466 [==============================] - 4s 8ms/step - loss: 0.5709 - auc: 0.7680 - precision: 0.6861 - recall: 0.6899 - val_loss: 0.6443 - val_auc: 0.7173 - val_precision: 0.6458 - val_recall: 0.6748\n",
      "Epoch 65/100\n",
      "466/466 [==============================] - 3s 7ms/step - loss: 0.5699 - auc: 0.7689 - precision: 0.6846 - recall: 0.6965 - val_loss: 0.6438 - val_auc: 0.7164 - val_precision: 0.6468 - val_recall: 0.6750\n",
      "Epoch 66/100\n",
      "466/466 [==============================] - 4s 8ms/step - loss: 0.5695 - auc: 0.7694 - precision: 0.6842 - recall: 0.6990 - val_loss: 0.6460 - val_auc: 0.7160 - val_precision: 0.6475 - val_recall: 0.6643\n",
      "Epoch 67/100\n",
      "466/466 [==============================] - 3s 7ms/step - loss: 0.5699 - auc: 0.7690 - precision: 0.6849 - recall: 0.6937 - val_loss: 0.6526 - val_auc: 0.7155 - val_precision: 0.6515 - val_recall: 0.6516\n",
      "Epoch 68/100\n",
      "466/466 [==============================] - 3s 7ms/step - loss: 0.5690 - auc: 0.7699 - precision: 0.6874 - recall: 0.6926 - val_loss: 0.6531 - val_auc: 0.7155 - val_precision: 0.6565 - val_recall: 0.6319\n",
      "Epoch 69/100\n",
      "466/466 [==============================] - 4s 8ms/step - loss: 0.5694 - auc: 0.7695 - precision: 0.6892 - recall: 0.6817 - val_loss: 0.6560 - val_auc: 0.7149 - val_precision: 0.6485 - val_recall: 0.6587\n",
      "Epoch 70/100\n",
      "466/466 [==============================] - 4s 8ms/step - loss: 0.5690 - auc: 0.7699 - precision: 0.6861 - recall: 0.6939 - val_loss: 0.6595 - val_auc: 0.7180 - val_precision: 0.6473 - val_recall: 0.6720\n",
      "Epoch 71/100\n",
      "466/466 [==============================] - 4s 8ms/step - loss: 0.5687 - auc: 0.7702 - precision: 0.6873 - recall: 0.6918 - val_loss: 0.6475 - val_auc: 0.7147 - val_precision: 0.6523 - val_recall: 0.6368\n",
      "Epoch 72/100\n",
      "466/466 [==============================] - 4s 8ms/step - loss: 0.5686 - auc: 0.7702 - precision: 0.6874 - recall: 0.6899 - val_loss: 0.6461 - val_auc: 0.7171 - val_precision: 0.6556 - val_recall: 0.6366\n",
      "Epoch 73/100\n",
      "466/466 [==============================] - 4s 8ms/step - loss: 0.5693 - auc: 0.7696 - precision: 0.6879 - recall: 0.6867 - val_loss: 0.6415 - val_auc: 0.7152 - val_precision: 0.6442 - val_recall: 0.6760\n",
      "Epoch 74/100\n",
      "466/466 [==============================] - 4s 8ms/step - loss: 0.5677 - auc: 0.7712 - precision: 0.6873 - recall: 0.6938 - val_loss: 0.6537 - val_auc: 0.7156 - val_precision: 0.6478 - val_recall: 0.6602\n",
      "Epoch 75/100\n",
      "466/466 [==============================] - 4s 8ms/step - loss: 0.5663 - auc: 0.7724 - precision: 0.6884 - recall: 0.6959 - val_loss: 0.6491 - val_auc: 0.7143 - val_precision: 0.6517 - val_recall: 0.6505\n",
      "Epoch 76/100\n",
      "466/466 [==============================] - 4s 8ms/step - loss: 0.5659 - auc: 0.7727 - precision: 0.6877 - recall: 0.6973 - val_loss: 0.6668 - val_auc: 0.7160 - val_precision: 0.6452 - val_recall: 0.6743\n",
      "Epoch 77/100\n",
      "466/466 [==============================] - 4s 8ms/step - loss: 0.5656 - auc: 0.7730 - precision: 0.6889 - recall: 0.6988 - val_loss: 0.6566 - val_auc: 0.7129 - val_precision: 0.6339 - val_recall: 0.6960\n",
      "Epoch 78/100\n",
      "466/466 [==============================] - 3s 7ms/step - loss: 0.5654 - auc: 0.7731 - precision: 0.6865 - recall: 0.7015 - val_loss: 0.6604 - val_auc: 0.7142 - val_precision: 0.6504 - val_recall: 0.6448\n",
      "Epoch 79/100\n",
      "466/466 [==============================] - 4s 8ms/step - loss: 0.5652 - auc: 0.7734 - precision: 0.6858 - recall: 0.7045 - val_loss: 0.6540 - val_auc: 0.7144 - val_precision: 0.6425 - val_recall: 0.6708\n",
      "Epoch 80/100\n",
      "466/466 [==============================] - 4s 8ms/step - loss: 0.5663 - auc: 0.7725 - precision: 0.6837 - recall: 0.7068 - val_loss: 0.6254 - val_auc: 0.7169 - val_precision: 0.6400 - val_recall: 0.6934\n",
      "Epoch 81/100\n",
      "466/466 [==============================] - 4s 8ms/step - loss: 0.5664 - auc: 0.7726 - precision: 0.6863 - recall: 0.7000 - val_loss: 0.6621 - val_auc: 0.7117 - val_precision: 0.6481 - val_recall: 0.6468\n",
      "Epoch 82/100\n",
      "466/466 [==============================] - 4s 8ms/step - loss: 0.5664 - auc: 0.7721 - precision: 0.6897 - recall: 0.6905 - val_loss: 0.6493 - val_auc: 0.7142 - val_precision: 0.6526 - val_recall: 0.6443\n",
      "Epoch 83/100\n",
      "466/466 [==============================] - 3s 7ms/step - loss: 0.5637 - auc: 0.7746 - precision: 0.6878 - recall: 0.7026 - val_loss: 0.6546 - val_auc: 0.7134 - val_precision: 0.6509 - val_recall: 0.6398\n",
      "Epoch 84/100\n",
      "466/466 [==============================] - 4s 8ms/step - loss: 0.5628 - auc: 0.7755 - precision: 0.6882 - recall: 0.7035 - val_loss: 0.6647 - val_auc: 0.7160 - val_precision: 0.6554 - val_recall: 0.6416\n",
      "Epoch 85/100\n",
      "466/466 [==============================] - 4s 8ms/step - loss: 0.5630 - auc: 0.7753 - precision: 0.6892 - recall: 0.7009 - val_loss: 0.6537 - val_auc: 0.7145 - val_precision: 0.6473 - val_recall: 0.6577\n",
      "Epoch 86/100\n",
      "466/466 [==============================] - 3s 8ms/step - loss: 0.5630 - auc: 0.7752 - precision: 0.6906 - recall: 0.6957 - val_loss: 0.6635 - val_auc: 0.7147 - val_precision: 0.6449 - val_recall: 0.6720\n",
      "Epoch 87/100\n",
      "466/466 [==============================] - 4s 8ms/step - loss: 0.5626 - auc: 0.7757 - precision: 0.6929 - recall: 0.6900 - val_loss: 0.6720 - val_auc: 0.7151 - val_precision: 0.6467 - val_recall: 0.6675\n",
      "Epoch 88/100\n",
      "466/466 [==============================] - 3s 7ms/step - loss: 0.5624 - auc: 0.7761 - precision: 0.6903 - recall: 0.6981 - val_loss: 0.6629 - val_auc: 0.7131 - val_precision: 0.6490 - val_recall: 0.6489\n",
      "Epoch 89/100\n",
      "466/466 [==============================] - 4s 8ms/step - loss: 0.5626 - auc: 0.7758 - precision: 0.6927 - recall: 0.6917 - val_loss: 0.6622 - val_auc: 0.7152 - val_precision: 0.6549 - val_recall: 0.6451\n",
      "Epoch 90/100\n",
      "466/466 [==============================] - 4s 8ms/step - loss: 0.5617 - auc: 0.7765 - precision: 0.6921 - recall: 0.6965 - val_loss: 0.6759 - val_auc: 0.7124 - val_precision: 0.6526 - val_recall: 0.6356\n",
      "Epoch 91/100\n",
      "466/466 [==============================] - 3s 7ms/step - loss: 0.5614 - auc: 0.7769 - precision: 0.6958 - recall: 0.6867 - val_loss: 0.6516 - val_auc: 0.7132 - val_precision: 0.6423 - val_recall: 0.6710\n",
      "Epoch 92/100\n",
      "466/466 [==============================] - 3s 8ms/step - loss: 0.5608 - auc: 0.7772 - precision: 0.6952 - recall: 0.6893 - val_loss: 0.6663 - val_auc: 0.7145 - val_precision: 0.6484 - val_recall: 0.6556\n",
      "Epoch 93/100\n",
      "466/466 [==============================] - 4s 8ms/step - loss: 0.5598 - auc: 0.7783 - precision: 0.6938 - recall: 0.6969 - val_loss: 0.6769 - val_auc: 0.7159 - val_precision: 0.6470 - val_recall: 0.6633\n",
      "Epoch 94/100\n",
      "466/466 [==============================] - 4s 8ms/step - loss: 0.5610 - auc: 0.7775 - precision: 0.6935 - recall: 0.6934 - val_loss: 0.6567 - val_auc: 0.7141 - val_precision: 0.6473 - val_recall: 0.6561\n",
      "Epoch 95/100\n",
      "466/466 [==============================] - 4s 8ms/step - loss: 0.5620 - auc: 0.7765 - precision: 0.6921 - recall: 0.6954 - val_loss: 0.6635 - val_auc: 0.7122 - val_precision: 0.6566 - val_recall: 0.6225\n",
      "Epoch 96/100\n",
      "466/466 [==============================] - 4s 8ms/step - loss: 0.5606 - auc: 0.7778 - precision: 0.6904 - recall: 0.7055 - val_loss: 0.6559 - val_auc: 0.7126 - val_precision: 0.6410 - val_recall: 0.6723\n",
      "Epoch 97/100\n",
      "466/466 [==============================] - 4s 8ms/step - loss: 0.5587 - auc: 0.7791 - precision: 0.6917 - recall: 0.7038 - val_loss: 0.6594 - val_auc: 0.7122 - val_precision: 0.6464 - val_recall: 0.6571\n",
      "Epoch 98/100\n",
      "466/466 [==============================] - 4s 8ms/step - loss: 0.5582 - auc: 0.7796 - precision: 0.6948 - recall: 0.6958 - val_loss: 0.6808 - val_auc: 0.7116 - val_precision: 0.6373 - val_recall: 0.6886\n",
      "Epoch 99/100\n",
      "466/466 [==============================] - 3s 8ms/step - loss: 0.5582 - auc: 0.7796 - precision: 0.6935 - recall: 0.6995 - val_loss: 0.6661 - val_auc: 0.7130 - val_precision: 0.6476 - val_recall: 0.6506\n",
      "Epoch 100/100\n",
      "466/466 [==============================] - 4s 8ms/step - loss: 0.5583 - auc: 0.7797 - precision: 0.6941 - recall: 0.7011 - val_loss: 0.6670 - val_auc: 0.7143 - val_precision: 0.6474 - val_recall: 0.6608\n"
     ]
    }
   ],
   "source": [
    "# The following variables are the hyperparameters.\n",
    "lr = 0.001\n",
    "epochs = 100\n",
    "batch_size = 500\n",
    "\n",
    "\n",
    "# Train the best model from  Random Search on training set.\n",
    "hist = train_model(best_model_rs, X_train_trf1, y_train, \n",
    "                   X_val_trf1, y_val, \n",
    "                   epochs, batch_size)\n"
   ]
  },
  {
   "cell_type": "code",
   "execution_count": null,
   "metadata": {
    "colab": {
     "base_uri": "https://localhost:8080/",
     "height": 714
    },
    "id": "0JoduVJnBNVV",
    "outputId": "fda3bbff-5d26-428a-b10e-ea77c3c36322"
   },
   "outputs": [
    {
     "data": {
      "image/png": "[encoded data removed]",
      "text/plain": [
       "<Figure size 864x864 with 4 Axes>"
      ]
     },
     "metadata": {
      "needs_background": "light",
      "tags": []
     },
     "output_type": "display_data"
    }
   ],
   "source": [
    "# Plot a graph of the metric vs. epochs.\n",
    "plot_curve(hist)"
   ]
  },
  {
   "cell_type": "code",
   "execution_count": null,
   "metadata": {
    "colab": {
     "base_uri": "https://localhost:8080/"
    },
    "id": "Gwaq-hpjBi0v",
    "outputId": "e0127e6d-9e09-4076-97c1-01ec98ef8e3b"
   },
   "outputs": [
    {
     "name": "stdout",
     "output_type": "stream",
     "text": [
      "137/137 [==============================] - 1s 5ms/step - loss: 0.6646 - auc: 0.7160 - precision: 0.6513 - recall: 0.6578\n",
      "loss 0.6646450161933899\n",
      "auc 0.7159740328788757\n",
      "precision 0.6513491868972778\n",
      "recall 0.6577535271644592\n"
     ]
    }
   ],
   "source": [
    "# After building a model against the training set, test that model\n",
    "# against the test set.\n",
    "result = best_model_rs.evaluate(x=X_test_trf1, \n",
    "                  y=y_test, \n",
    "                  batch_size=batch_size)\n",
    "\n",
    "for item in zip(best_model_rs.metrics_names, result):\n",
    "  print(item[0], item[1])"
   ]
  },
  {
   "cell_type": "markdown",
   "metadata": {
    "id": "rpgFSlUcvlJF"
   },
   "source": [
    "**Bayesian Optimized Model**"
   ]
  },
  {
   "cell_type": "code",
   "execution_count": null,
   "metadata": {
    "id": "sxL2zlI-vovH"
   },
   "outputs": [],
   "source": [
    "#Import Model\n",
    "\n",
    "##best_model_bo = keras.models.load_model('/content/drive/My Drive/Colab Notebooks/best_model_bo.h5')"
   ]
  },
  {
   "cell_type": "code",
   "execution_count": null,
   "metadata": {
    "colab": {
     "base_uri": "https://localhost:8080/"
    },
    "id": "-Tm_pehYv8VI",
    "outputId": "e2745dc1-ec67-4c26-f1e9-7cfe6f8e399c"
   },
   "outputs": [
    {
     "name": "stdout",
     "output_type": "stream",
     "text": [
      "Epoch 1/50\n",
      "582/582 [==============================] - 5s 7ms/step - loss: 0.6726 - auc: 0.6115 - precision: 0.5829 - recall: 0.4957 - val_loss: 0.6521 - val_auc: 0.6659 - val_precision: 0.5999 - val_recall: 0.6738\n",
      "Epoch 2/50\n",
      "582/582 [==============================] - 4s 6ms/step - loss: 0.6492 - auc: 0.6673 - precision: 0.6182 - recall: 0.5984 - val_loss: 0.6440 - val_auc: 0.6781 - val_precision: 0.6057 - val_recall: 0.6944\n",
      "Epoch 3/50\n",
      "582/582 [==============================] - 4s 6ms/step - loss: 0.6430 - auc: 0.6784 - precision: 0.6203 - recall: 0.6211 - val_loss: 0.6396 - val_auc: 0.6844 - val_precision: 0.6269 - val_recall: 0.6278\n",
      "Epoch 4/50\n",
      "582/582 [==============================] - 4s 6ms/step - loss: 0.6389 - auc: 0.6850 - precision: 0.6260 - recall: 0.6288 - val_loss: 0.6380 - val_auc: 0.6874 - val_precision: 0.6442 - val_recall: 0.5628\n",
      "Epoch 5/50\n",
      "582/582 [==============================] - 4s 6ms/step - loss: 0.6366 - auc: 0.6885 - precision: 0.6298 - recall: 0.6207 - val_loss: 0.6355 - val_auc: 0.6909 - val_precision: 0.6304 - val_recall: 0.6372\n",
      "Epoch 6/50\n",
      "582/582 [==============================] - 4s 6ms/step - loss: 0.6353 - auc: 0.6905 - precision: 0.6337 - recall: 0.6122 - val_loss: 0.6349 - val_auc: 0.6913 - val_precision: 0.6371 - val_recall: 0.6103\n",
      "Epoch 7/50\n",
      "582/582 [==============================] - 4s 6ms/step - loss: 0.6318 - auc: 0.6959 - precision: 0.6359 - recall: 0.6280 - val_loss: 0.6337 - val_auc: 0.6941 - val_precision: 0.6353 - val_recall: 0.6221\n",
      "Epoch 8/50\n",
      "582/582 [==============================] - 4s 6ms/step - loss: 0.6302 - auc: 0.6981 - precision: 0.6384 - recall: 0.6235 - val_loss: 0.6343 - val_auc: 0.6931 - val_precision: 0.6487 - val_recall: 0.5706\n",
      "Epoch 9/50\n",
      "582/582 [==============================] - 4s 6ms/step - loss: 0.6296 - auc: 0.6989 - precision: 0.6413 - recall: 0.6171 - val_loss: 0.6344 - val_auc: 0.6967 - val_precision: 0.6464 - val_recall: 0.5879\n",
      "Epoch 10/50\n",
      "582/582 [==============================] - 4s 6ms/step - loss: 0.6280 - auc: 0.7012 - precision: 0.6399 - recall: 0.6286 - val_loss: 0.6331 - val_auc: 0.6954 - val_precision: 0.6243 - val_recall: 0.6723\n",
      "Epoch 11/50\n",
      "582/582 [==============================] - 4s 6ms/step - loss: 0.6263 - auc: 0.7043 - precision: 0.6426 - recall: 0.6387 - val_loss: 0.6334 - val_auc: 0.6968 - val_precision: 0.6257 - val_recall: 0.6605\n",
      "Epoch 12/50\n",
      "582/582 [==============================] - 4s 6ms/step - loss: 0.6252 - auc: 0.7057 - precision: 0.6424 - recall: 0.6304 - val_loss: 0.6288 - val_auc: 0.7011 - val_precision: 0.6485 - val_recall: 0.5958\n",
      "Epoch 13/50\n",
      "582/582 [==============================] - 4s 7ms/step - loss: 0.6239 - auc: 0.7073 - precision: 0.6454 - recall: 0.6291 - val_loss: 0.6290 - val_auc: 0.7012 - val_precision: 0.6484 - val_recall: 0.6022\n",
      "Epoch 14/50\n",
      "582/582 [==============================] - 4s 6ms/step - loss: 0.6238 - auc: 0.7069 - precision: 0.6465 - recall: 0.6222 - val_loss: 0.6300 - val_auc: 0.7014 - val_precision: 0.6165 - val_recall: 0.7129\n",
      "Epoch 15/50\n",
      "582/582 [==============================] - 4s 7ms/step - loss: 0.6224 - auc: 0.7093 - precision: 0.6420 - recall: 0.6452 - val_loss: 0.6288 - val_auc: 0.7024 - val_precision: 0.6507 - val_recall: 0.5923\n",
      "Epoch 16/50\n",
      "582/582 [==============================] - 4s 6ms/step - loss: 0.6228 - auc: 0.7085 - precision: 0.6446 - recall: 0.6357 - val_loss: 0.6270 - val_auc: 0.7039 - val_precision: 0.6459 - val_recall: 0.6232\n",
      "Epoch 17/50\n",
      "582/582 [==============================] - 4s 6ms/step - loss: 0.6203 - auc: 0.7126 - precision: 0.6472 - recall: 0.6462 - val_loss: 0.6249 - val_auc: 0.7061 - val_precision: 0.6440 - val_recall: 0.6327\n",
      "Epoch 18/50\n",
      "582/582 [==============================] - 4s 6ms/step - loss: 0.6198 - auc: 0.7132 - precision: 0.6475 - recall: 0.6493 - val_loss: 0.6271 - val_auc: 0.7043 - val_precision: 0.6389 - val_recall: 0.6425\n",
      "Epoch 19/50\n",
      "582/582 [==============================] - 4s 6ms/step - loss: 0.6210 - auc: 0.7113 - precision: 0.6457 - recall: 0.6367 - val_loss: 0.6268 - val_auc: 0.7040 - val_precision: 0.6338 - val_recall: 0.6737\n",
      "Epoch 20/50\n",
      "582/582 [==============================] - 4s 6ms/step - loss: 0.6189 - auc: 0.7147 - precision: 0.6458 - recall: 0.6518 - val_loss: 0.6272 - val_auc: 0.7055 - val_precision: 0.6575 - val_recall: 0.5632\n",
      "Epoch 21/50\n",
      "582/582 [==============================] - 4s 6ms/step - loss: 0.6184 - auc: 0.7149 - precision: 0.6490 - recall: 0.6455 - val_loss: 0.6267 - val_auc: 0.7072 - val_precision: 0.6186 - val_recall: 0.7340\n",
      "Epoch 22/50\n",
      "582/582 [==============================] - 4s 6ms/step - loss: 0.6183 - auc: 0.7153 - precision: 0.6497 - recall: 0.6491 - val_loss: 0.6246 - val_auc: 0.7069 - val_precision: 0.6538 - val_recall: 0.6024\n",
      "Epoch 23/50\n",
      "582/582 [==============================] - 4s 6ms/step - loss: 0.6174 - auc: 0.7161 - precision: 0.6509 - recall: 0.6460 - val_loss: 0.6259 - val_auc: 0.7060 - val_precision: 0.6449 - val_recall: 0.6276\n",
      "Epoch 24/50\n",
      "582/582 [==============================] - 4s 6ms/step - loss: 0.6196 - auc: 0.7134 - precision: 0.6475 - recall: 0.6437 - val_loss: 0.6254 - val_auc: 0.7071 - val_precision: 0.6552 - val_recall: 0.5975\n",
      "Epoch 25/50\n",
      "582/582 [==============================] - 4s 6ms/step - loss: 0.6182 - auc: 0.7151 - precision: 0.6474 - recall: 0.6455 - val_loss: 0.6265 - val_auc: 0.7078 - val_precision: 0.6610 - val_recall: 0.5694\n",
      "Epoch 26/50\n",
      "582/582 [==============================] - 4s 6ms/step - loss: 0.6171 - auc: 0.7164 - precision: 0.6480 - recall: 0.6561 - val_loss: 0.6225 - val_auc: 0.7092 - val_precision: 0.6415 - val_recall: 0.6524\n",
      "Epoch 27/50\n",
      "582/582 [==============================] - 4s 6ms/step - loss: 0.6161 - auc: 0.7181 - precision: 0.6514 - recall: 0.6428 - val_loss: 0.6237 - val_auc: 0.7086 - val_precision: 0.6299 - val_recall: 0.7034\n",
      "Epoch 28/50\n",
      "582/582 [==============================] - 4s 6ms/step - loss: 0.6149 - auc: 0.7197 - precision: 0.6508 - recall: 0.6613 - val_loss: 0.6242 - val_auc: 0.7092 - val_precision: 0.6304 - val_recall: 0.6973\n",
      "Epoch 29/50\n",
      "582/582 [==============================] - 4s 6ms/step - loss: 0.6141 - auc: 0.7208 - precision: 0.6512 - recall: 0.6624 - val_loss: 0.6250 - val_auc: 0.7077 - val_precision: 0.6501 - val_recall: 0.6200\n",
      "Epoch 30/50\n",
      "582/582 [==============================] - 4s 6ms/step - loss: 0.6136 - auc: 0.7216 - precision: 0.6513 - recall: 0.6623 - val_loss: 0.6244 - val_auc: 0.7091 - val_precision: 0.6571 - val_recall: 0.5985\n",
      "Epoch 31/50\n",
      "582/582 [==============================] - 4s 6ms/step - loss: 0.6150 - auc: 0.7195 - precision: 0.6493 - recall: 0.6558 - val_loss: 0.6228 - val_auc: 0.7099 - val_precision: 0.6517 - val_recall: 0.6254\n",
      "Epoch 32/50\n",
      "582/582 [==============================] - 4s 6ms/step - loss: 0.6137 - auc: 0.7215 - precision: 0.6517 - recall: 0.6610 - val_loss: 0.6227 - val_auc: 0.7109 - val_precision: 0.6273 - val_recall: 0.7148\n",
      "Epoch 33/50\n",
      "582/582 [==============================] - 4s 6ms/step - loss: 0.6140 - auc: 0.7207 - precision: 0.6506 - recall: 0.6541 - val_loss: 0.6234 - val_auc: 0.7086 - val_precision: 0.6439 - val_recall: 0.6383\n",
      "Epoch 34/50\n",
      "582/582 [==============================] - 4s 6ms/step - loss: 0.6138 - auc: 0.7209 - precision: 0.6495 - recall: 0.6581 - val_loss: 0.6238 - val_auc: 0.7098 - val_precision: 0.6375 - val_recall: 0.6730\n",
      "Epoch 35/50\n",
      "582/582 [==============================] - 4s 6ms/step - loss: 0.6137 - auc: 0.7214 - precision: 0.6529 - recall: 0.6550 - val_loss: 0.6223 - val_auc: 0.7100 - val_precision: 0.6506 - val_recall: 0.6254\n",
      "Epoch 36/50\n",
      "582/582 [==============================] - 4s 6ms/step - loss: 0.6123 - auc: 0.7231 - precision: 0.6537 - recall: 0.6570 - val_loss: 0.6242 - val_auc: 0.7087 - val_precision: 0.6485 - val_recall: 0.6264\n",
      "Epoch 37/50\n",
      "582/582 [==============================] - 4s 6ms/step - loss: 0.6119 - auc: 0.7238 - precision: 0.6518 - recall: 0.6657 - val_loss: 0.6233 - val_auc: 0.7104 - val_precision: 0.6441 - val_recall: 0.6568\n",
      "Epoch 38/50\n",
      "582/582 [==============================] - 4s 6ms/step - loss: 0.6105 - auc: 0.7254 - precision: 0.6566 - recall: 0.6545 - val_loss: 0.6213 - val_auc: 0.7120 - val_precision: 0.6365 - val_recall: 0.6941\n",
      "Epoch 39/50\n",
      "582/582 [==============================] - 4s 6ms/step - loss: 0.6119 - auc: 0.7236 - precision: 0.6535 - recall: 0.6639 - val_loss: 0.6224 - val_auc: 0.7119 - val_precision: 0.6329 - val_recall: 0.6954\n",
      "Epoch 40/50\n",
      "582/582 [==============================] - 4s 6ms/step - loss: 0.6111 - auc: 0.7248 - precision: 0.6531 - recall: 0.6590 - val_loss: 0.6208 - val_auc: 0.7119 - val_precision: 0.6368 - val_recall: 0.6844\n",
      "Epoch 41/50\n",
      "582/582 [==============================] - 4s 6ms/step - loss: 0.6100 - auc: 0.7265 - precision: 0.6539 - recall: 0.6664 - val_loss: 0.6232 - val_auc: 0.7105 - val_precision: 0.6531 - val_recall: 0.6283\n",
      "Epoch 42/50\n",
      "582/582 [==============================] - 4s 6ms/step - loss: 0.6106 - auc: 0.7250 - precision: 0.6554 - recall: 0.6575 - val_loss: 0.6198 - val_auc: 0.7133 - val_precision: 0.6446 - val_recall: 0.6616\n",
      "Epoch 43/50\n",
      "582/582 [==============================] - 4s 6ms/step - loss: 0.6085 - auc: 0.7281 - precision: 0.6588 - recall: 0.6588 - val_loss: 0.6224 - val_auc: 0.7112 - val_precision: 0.6251 - val_recall: 0.7161\n",
      "Epoch 44/50\n",
      "582/582 [==============================] - 4s 6ms/step - loss: 0.6092 - auc: 0.7268 - precision: 0.6565 - recall: 0.6494 - val_loss: 0.6222 - val_auc: 0.7114 - val_precision: 0.6549 - val_recall: 0.6216\n",
      "Epoch 45/50\n",
      "582/582 [==============================] - 4s 6ms/step - loss: 0.6100 - auc: 0.7257 - precision: 0.6545 - recall: 0.6530 - val_loss: 0.6203 - val_auc: 0.7131 - val_precision: 0.6540 - val_recall: 0.6374\n",
      "Epoch 46/50\n",
      "582/582 [==============================] - 4s 6ms/step - loss: 0.6083 - auc: 0.7282 - precision: 0.6582 - recall: 0.6547 - val_loss: 0.6198 - val_auc: 0.7138 - val_precision: 0.6447 - val_recall: 0.6633\n",
      "Epoch 47/50\n",
      "582/582 [==============================] - 4s 6ms/step - loss: 0.6093 - auc: 0.7271 - precision: 0.6550 - recall: 0.6643 - val_loss: 0.6200 - val_auc: 0.7140 - val_precision: 0.6416 - val_recall: 0.6838\n",
      "Epoch 48/50\n",
      "582/582 [==============================] - 4s 6ms/step - loss: 0.6080 - auc: 0.7287 - precision: 0.6591 - recall: 0.6572 - val_loss: 0.6201 - val_auc: 0.7129 - val_precision: 0.6588 - val_recall: 0.6195\n",
      "Epoch 49/50\n",
      "582/582 [==============================] - 4s 6ms/step - loss: 0.6075 - auc: 0.7287 - precision: 0.6570 - recall: 0.6514 - val_loss: 0.6218 - val_auc: 0.7125 - val_precision: 0.6209 - val_recall: 0.7393\n",
      "Epoch 50/50\n",
      "582/582 [==============================] - 4s 6ms/step - loss: 0.6087 - auc: 0.7276 - precision: 0.6558 - recall: 0.6617 - val_loss: 0.6193 - val_auc: 0.7150 - val_precision: 0.6536 - val_recall: 0.6313\n"
     ]
    }
   ],
   "source": [
    "# The following variables are the hyperparameters.\n",
    "lr = 0.0001\n",
    "epochs = 50\n",
    "batch_size = 400\n",
    "\n",
    "\n",
    "# Train the best model from  Random Search on training set.\n",
    "hist = train_model(best_model_bo, X_train_trf1, y_train, \n",
    "                   X_val_trf1, y_val, \n",
    "                   epochs, batch_size)\n"
   ]
  },
  {
   "cell_type": "code",
   "execution_count": null,
   "metadata": {
    "colab": {
     "base_uri": "https://localhost:8080/",
     "height": 846
    },
    "id": "gKj8yA5ixMcz",
    "outputId": "06cc187d-e2ce-4ae2-a66b-662191808608"
   },
   "outputs": [
    {
     "name": "stdout",
     "output_type": "stream",
     "text": [
      "WARNING:tensorflow:Unresolved object in checkpoint: (root).optimizer.iter\n",
      "WARNING:tensorflow:Unresolved object in checkpoint: (root).optimizer.beta_1\n",
      "WARNING:tensorflow:Unresolved object in checkpoint: (root).optimizer.beta_2\n",
      "WARNING:tensorflow:Unresolved object in checkpoint: (root).optimizer.decay\n",
      "WARNING:tensorflow:Unresolved object in checkpoint: (root).optimizer.learning_rate\n",
      "WARNING:tensorflow:A checkpoint was restored (e.g. tf.train.Checkpoint.restore or tf.keras.Model.load_weights) but not all checkpointed values were used. See above for specific issues. Use expect_partial() on the load status object, e.g. tf.train.Checkpoint.restore(...).expect_partial(), to silence these warnings, or use assert_consumed() to make the check explicit. See https://www.tensorflow.org/guide/checkpoint#loading_mechanics for details.\n"
     ]
    },
    {
     "data": {
      "image/png": "[encoded data removed]",
      "text/plain": [
       "<Figure size 864x864 with 4 Axes>"
      ]
     },
     "metadata": {
      "needs_background": "light",
      "tags": []
     },
     "output_type": "display_data"
    }
   ],
   "source": [
    "# Plot a graph of the metric vs. epochs.\n",
    "plot_curve(hist)"
   ]
  },
  {
   "cell_type": "code",
   "execution_count": null,
   "metadata": {
    "colab": {
     "base_uri": "https://localhost:8080/"
    },
    "id": "E7HdeD6xxue_",
    "outputId": "ac140e64-78bb-4469-fe55-e9854bcc77b5"
   },
   "outputs": [
    {
     "name": "stdout",
     "output_type": "stream",
     "text": [
      "172/172 [==============================] - 1s 4ms/step - loss: 0.6194 - auc: 0.7160 - precision: 0.6569 - recall: 0.6250\n",
      "loss 0.6193670034408569\n",
      "auc 0.7159577012062073\n",
      "precision 0.656889021396637\n",
      "recall 0.6249887347221375\n"
     ]
    }
   ],
   "source": [
    "# After building a model against the training set, test that model\n",
    "# against the test set.\n",
    "result = best_model_bo.evaluate(x=X_test_trf1, \n",
    "                  y=y_test, \n",
    "                  batch_size=batch_size)\n",
    "\n",
    "for item in zip(best_model_bo.metrics_names, result):\n",
    "  print(item[0], item[1])"
   ]
  },
  {
   "cell_type": "markdown",
   "metadata": {
    "id": "oUHOhMxTn9N_"
   },
   "source": [
    "# Tweak decision threshold"
   ]
  },
  {
   "cell_type": "code",
   "execution_count": null,
   "metadata": {
    "colab": {
     "base_uri": "https://localhost:8080/"
    },
    "id": "u734WfmNn8mn",
    "outputId": "93715cb9-f093-4b3d-e39e-a2725da03a87"
   },
   "outputs": [
    {
     "data": {
      "text/plain": [
       "0.7674775928297055"
      ]
     },
     "execution_count": 40,
     "metadata": {
      "tags": []
     },
     "output_type": "execute_result"
    }
   ],
   "source": [
    "from sklearn.metrics import precision_score\n",
    "def get_precision_score(threshold, y_true, x_true, model):\n",
    "  preds = model.predict(x_true)\n",
    "  preds[preds >= threshold] = 1\n",
    "  preds[preds < threshold] = 0\n",
    "  return precision_score(y_true, preds)\n",
    "\n",
    "get_precision_score(threshold = 0.8, y_true = y_val, x_true = X_val_trf1, model = best_model_rs)"
   ]
  },
  {
   "cell_type": "code",
   "execution_count": null,
   "metadata": {
    "colab": {
     "base_uri": "https://localhost:8080/"
    },
    "id": "fXxkmfA-rzHX",
    "outputId": "df8e594d-0ae7-4bff-9d71-2a78795fb58f"
   },
   "outputs": [
    {
     "data": {
      "text/plain": [
       "0.7694884287454324"
      ]
     },
     "execution_count": 41,
     "metadata": {
      "tags": []
     },
     "output_type": "execute_result"
    }
   ],
   "source": [
    "get_precision_score(threshold = 0.8, y_true = y_test, x_true = X_test_trf1, model = best_model_rs)"
   ]
  },
  {
   "cell_type": "markdown",
   "metadata": {
    "id": "X2YWAfBEJKx9"
   },
   "source": [
    "# Make recommendation"
   ]
  },
  {
   "cell_type": "code",
   "execution_count": null,
   "metadata": {
    "colab": {
     "base_uri": "https://localhost:8080/"
    },
    "id": "IFqPI4zJiOef",
    "outputId": "c89c72e4-9968-488c-b587-99c6f05ebf39"
   },
   "outputs": [
    {
     "data": {
      "text/plain": [
       "(68433, 3)"
      ]
     },
     "execution_count": 42,
     "metadata": {
      "tags": []
     },
     "output_type": "execute_result"
    }
   ],
   "source": [
    "X_test_complete.shape"
   ]
  },
  {
   "cell_type": "code",
   "execution_count": null,
   "metadata": {
    "colab": {
     "base_uri": "https://localhost:8080/",
     "height": 423
    },
    "id": "5pYQ4gyFLo66",
    "outputId": "12642f08-116e-4a4e-ee66-ea902d4edcde"
   },
   "outputs": [
    {
     "data": {
      "text/html": [
       "<div>\n",
       "<style scoped>\n",
       "    .dataframe tbody tr th:only-of-type {\n",
       "        vertical-align: middle;\n",
       "    }\n",
       "\n",
       "    .dataframe tbody tr th {\n",
       "        vertical-align: top;\n",
       "    }\n",
       "\n",
       "    .dataframe thead th {\n",
       "        text-align: right;\n",
       "    }\n",
       "</style>\n",
       "<table border=\"1\" class=\"dataframe\">\n",
       "  <thead>\n",
       "    <tr style=\"text-align: right;\">\n",
       "      <th></th>\n",
       "      <th>primaryTitle</th>\n",
       "      <th>userId_ori</th>\n",
       "      <th>userId</th>\n",
       "      <th>Reccomend?</th>\n",
       "    </tr>\n",
       "  </thead>\n",
       "  <tbody>\n",
       "    <tr>\n",
       "      <th>25</th>\n",
       "      <td>Up in the Air</td>\n",
       "      <td>20179</td>\n",
       "      <td>0.114643</td>\n",
       "      <td>1.0</td>\n",
       "    </tr>\n",
       "    <tr>\n",
       "      <th>26</th>\n",
       "      <td>Deliverance</td>\n",
       "      <td>90691</td>\n",
       "      <td>0.553238</td>\n",
       "      <td>1.0</td>\n",
       "    </tr>\n",
       "    <tr>\n",
       "      <th>79</th>\n",
       "      <td>Ocean's 11</td>\n",
       "      <td>31567</td>\n",
       "      <td>0.185478</td>\n",
       "      <td>1.0</td>\n",
       "    </tr>\n",
       "    <tr>\n",
       "      <th>111</th>\n",
       "      <td>Die Hard</td>\n",
       "      <td>106507</td>\n",
       "      <td>0.651616</td>\n",
       "      <td>1.0</td>\n",
       "    </tr>\n",
       "    <tr>\n",
       "      <th>116</th>\n",
       "      <td>Hud</td>\n",
       "      <td>90691</td>\n",
       "      <td>0.553238</td>\n",
       "      <td>1.0</td>\n",
       "    </tr>\n",
       "    <tr>\n",
       "      <th>...</th>\n",
       "      <td>...</td>\n",
       "      <td>...</td>\n",
       "      <td>...</td>\n",
       "      <td>...</td>\n",
       "    </tr>\n",
       "    <tr>\n",
       "      <th>68388</th>\n",
       "      <td>Fried Green Tomatoes</td>\n",
       "      <td>20585</td>\n",
       "      <td>0.117169</td>\n",
       "      <td>1.0</td>\n",
       "    </tr>\n",
       "    <tr>\n",
       "      <th>68399</th>\n",
       "      <td>Saving Private Ryan</td>\n",
       "      <td>106507</td>\n",
       "      <td>0.651616</td>\n",
       "      <td>1.0</td>\n",
       "    </tr>\n",
       "    <tr>\n",
       "      <th>68408</th>\n",
       "      <td>Deliverance</td>\n",
       "      <td>94154</td>\n",
       "      <td>0.574779</td>\n",
       "      <td>1.0</td>\n",
       "    </tr>\n",
       "    <tr>\n",
       "      <th>68426</th>\n",
       "      <td>Superman</td>\n",
       "      <td>2177</td>\n",
       "      <td>0.002668</td>\n",
       "      <td>1.0</td>\n",
       "    </tr>\n",
       "    <tr>\n",
       "      <th>68431</th>\n",
       "      <td>Whiplash</td>\n",
       "      <td>94154</td>\n",
       "      <td>0.574779</td>\n",
       "      <td>1.0</td>\n",
       "    </tr>\n",
       "  </tbody>\n",
       "</table>\n",
       "<p>6568 rows × 4 columns</p>\n",
       "</div>"
      ],
      "text/plain": [
       "               primaryTitle  userId_ori    userId  Reccomend?\n",
       "25            Up in the Air       20179  0.114643         1.0\n",
       "26              Deliverance       90691  0.553238         1.0\n",
       "79               Ocean's 11       31567  0.185478         1.0\n",
       "111                Die Hard      106507  0.651616         1.0\n",
       "116                     Hud       90691  0.553238         1.0\n",
       "...                     ...         ...       ...         ...\n",
       "68388  Fried Green Tomatoes       20585  0.117169         1.0\n",
       "68399   Saving Private Ryan      106507  0.651616         1.0\n",
       "68408           Deliverance       94154  0.574779         1.0\n",
       "68426              Superman        2177  0.002668         1.0\n",
       "68431              Whiplash       94154  0.574779         1.0\n",
       "\n",
       "[6568 rows x 4 columns]"
      ]
     },
     "execution_count": 43,
     "metadata": {
      "tags": []
     },
     "output_type": "execute_result"
    }
   ],
   "source": [
    "def show_recommendation(model, X_features_complete, X_trf1,\n",
    "                        threshold):\n",
    "  prediction = model.predict(X_trf1) # probabilities\n",
    "  prediction[prediction >= threshold] = 1\n",
    "  prediction[prediction< threshold] = 0\n",
    "  prediction_ser = pd.DataFrame(prediction,\n",
    "                                columns = ['Reccomend?'])\n",
    "\n",
    "  # Combine\n",
    "  movie_user = pd.concat([X_features_complete,prediction_ser], axis=1)\n",
    "\n",
    "  # show primaryTitle, userID_ori & reccomend or not\n",
    "  return movie_user.loc[movie_user['Reccomend?'] == 1]\n",
    "\n",
    "show_recommendation(best_model_rs, X_test_complete, X_test_trf1,\n",
    "                        0.8)"
   ]
  }
 ],
 "metadata": {
  "accelerator": "GPU",
  "colab": {
   "collapsed_sections": [],
   "name": "Final_Keras_Binary_Classification.ipynb",
   "provenance": []
  },
  "kernelspec": {
   "display_name": "Python 3",
   "language": "python",
   "name": "python3"
  },
  "language_info": {
   "codemirror_mode": {
    "name": "ipython",
    "version": 3
   },
   "file_extension": ".py",
   "mimetype": "text/x-python",
   "name": "python",
   "nbconvert_exporter": "python",
   "pygments_lexer": "ipython3",
   "version": "3.7.3"
  }
 },
 "nbformat": 4,
 "nbformat_minor": 4
}
