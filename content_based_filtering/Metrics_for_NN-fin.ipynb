{
 "cells": [
  {
   "cell_type": "code",
   "execution_count": 1,
   "metadata": {
    "colab": {
     "base_uri": "https://localhost:8080/"
    },
    "id": "uZR6fAnlIOD-",
    "outputId": "1cf423e3-9d53-4ac1-961c-11103e653270"
   },
   "outputs": [
    {
     "name": "stdout",
     "output_type": "stream",
     "text": [
      "Drive already mounted at /content/drive/; to attempt to forcibly remount, call drive.mount(\"/content/drive/\", force_remount=True).\n"
     ]
    }
   ],
   "source": [
    "import numpy as np\n",
    "import pandas as pd\n",
    "import seaborn as sns\n",
    "import matplotlib.pyplot as plt\n",
    "from google.colab import drive\n",
    "drive.mount('/content/drive/')"
   ]
  },
  {
   "cell_type": "code",
   "execution_count": 2,
   "metadata": {
    "id": "O2ibzPBEJMNS"
   },
   "outputs": [],
   "source": [
    "X_train_trf1 = pd.read_csv('/content/drive/My Drive/Colab Notebooks/X_train_trf1_v3.csv')\n",
    "X_val_trf1 = pd.read_csv('/content/drive/My Drive/Colab Notebooks/X_val_trf1_v3.csv')\n",
    "X_test_trf1 = pd.read_csv('/content/drive/My Drive/Colab Notebooks/X_test_trf1_v3.csv')\n",
    "\n",
    "y_train = pd.read_csv('/content/drive/My Drive/Colab Notebooks/y_train_nn_v3.csv').to_numpy().flatten()\n",
    "y_val= pd.read_csv('/content/drive/My Drive/Colab Notebooks/y_val_nn_v3.csv').to_numpy().flatten()\n",
    "y_test= pd.read_csv('/content/drive/My Drive/Colab Notebooks/y_test_nn_v3.csv').to_numpy().flatten()\n",
    "\n",
    "movielist = pd.concat([X_train_trf1.loc[:,['primaryTitle', 'movieId_ori','movieId']],\n",
    "           X_val_trf1.loc[:,['primaryTitle', 'movieId_ori','movieId']],\n",
    "           X_test_trf1.loc[:,['primaryTitle', 'movieId_ori','movieId']]\n",
    "], axis = 0).drop_duplicates()\n",
    "\n",
    "userlist = pd.concat([X_train_trf1.loc[:,['userId', 'userId_ori']],\n",
    "           X_val_trf1.loc[:,['userId', 'userId_ori']],\n",
    "           X_test_trf1.loc[:,['userId', 'userId_ori']]\n",
    "], axis = 0).drop_duplicates()"
   ]
  },
  {
   "cell_type": "code",
   "execution_count": 3,
   "metadata": {
    "colab": {
     "base_uri": "https://localhost:8080/",
     "height": 423
    },
    "id": "ctqaVUqwiCG1",
    "outputId": "4a90ec74-da59-4c28-ecd4-eba84b156750"
   },
   "outputs": [
    {
     "data": {
      "text/html": [
       "<div>\n",
       "<style scoped>\n",
       "    .dataframe tbody tr th:only-of-type {\n",
       "        vertical-align: middle;\n",
       "    }\n",
       "\n",
       "    .dataframe tbody tr th {\n",
       "        vertical-align: top;\n",
       "    }\n",
       "\n",
       "    .dataframe thead th {\n",
       "        text-align: right;\n",
       "    }\n",
       "</style>\n",
       "<table border=\"1\" class=\"dataframe\">\n",
       "  <thead>\n",
       "    <tr style=\"text-align: right;\">\n",
       "      <th></th>\n",
       "      <th>userId_ori</th>\n",
       "      <th>movieId_ori</th>\n",
       "      <th>score</th>\n",
       "    </tr>\n",
       "  </thead>\n",
       "  <tbody>\n",
       "    <tr>\n",
       "      <th>0</th>\n",
       "      <td>89464</td>\n",
       "      <td>104374</td>\n",
       "      <td>3.5</td>\n",
       "    </tr>\n",
       "    <tr>\n",
       "      <th>1</th>\n",
       "      <td>1920</td>\n",
       "      <td>82459</td>\n",
       "      <td>4.0</td>\n",
       "    </tr>\n",
       "    <tr>\n",
       "      <th>2</th>\n",
       "      <td>159816</td>\n",
       "      <td>5617</td>\n",
       "      <td>4.0</td>\n",
       "    </tr>\n",
       "    <tr>\n",
       "      <th>3</th>\n",
       "      <td>30643</td>\n",
       "      <td>104841</td>\n",
       "      <td>4.0</td>\n",
       "    </tr>\n",
       "    <tr>\n",
       "      <th>4</th>\n",
       "      <td>74429</td>\n",
       "      <td>1562</td>\n",
       "      <td>1.0</td>\n",
       "    </tr>\n",
       "    <tr>\n",
       "      <th>...</th>\n",
       "      <td>...</td>\n",
       "      <td>...</td>\n",
       "      <td>...</td>\n",
       "    </tr>\n",
       "    <tr>\n",
       "      <th>68428</th>\n",
       "      <td>111038</td>\n",
       "      <td>1077</td>\n",
       "      <td>3.0</td>\n",
       "    </tr>\n",
       "    <tr>\n",
       "      <th>68429</th>\n",
       "      <td>2177</td>\n",
       "      <td>4010</td>\n",
       "      <td>3.0</td>\n",
       "    </tr>\n",
       "    <tr>\n",
       "      <th>68430</th>\n",
       "      <td>103611</td>\n",
       "      <td>1343</td>\n",
       "      <td>4.5</td>\n",
       "    </tr>\n",
       "    <tr>\n",
       "      <th>68431</th>\n",
       "      <td>94154</td>\n",
       "      <td>112552</td>\n",
       "      <td>4.0</td>\n",
       "    </tr>\n",
       "    <tr>\n",
       "      <th>68432</th>\n",
       "      <td>88230</td>\n",
       "      <td>34150</td>\n",
       "      <td>4.0</td>\n",
       "    </tr>\n",
       "  </tbody>\n",
       "</table>\n",
       "<p>68433 rows × 3 columns</p>\n",
       "</div>"
      ],
      "text/plain": [
       "       userId_ori  movieId_ori  score\n",
       "0           89464       104374    3.5\n",
       "1            1920        82459    4.0\n",
       "2          159816         5617    4.0\n",
       "3           30643       104841    4.0\n",
       "4           74429         1562    1.0\n",
       "...           ...          ...    ...\n",
       "68428      111038         1077    3.0\n",
       "68429        2177         4010    3.0\n",
       "68430      103611         1343    4.5\n",
       "68431       94154       112552    4.0\n",
       "68432       88230        34150    4.0\n",
       "\n",
       "[68433 rows x 3 columns]"
      ]
     },
     "execution_count": 3,
     "metadata": {
      "tags": []
     },
     "output_type": "execute_result"
    }
   ],
   "source": [
    "userid_movie = X_test_trf1.loc[:,['userId_ori','movieId_ori']]\n",
    "movie_user_rating = pd.concat(\n",
    "    [userid_movie,\n",
    "         pd.Series(y_test, name ='score')], axis = 1\n",
    ")\n",
    "movie_user_rating"
   ]
  },
  {
   "cell_type": "code",
   "execution_count": 4,
   "metadata": {
    "id": "BOGodyWuhRDk"
   },
   "outputs": [],
   "source": [
    "# Convert 9bins to 2bins func\n",
    "# index 0 to 6: movie scores given by user, where 0:0.5, 1:1, 2:1.5, 3:2, 4:2.5, 5: 3,  \n",
    "def nineToTwoBins(y_dataset):\n",
    "    y_dataset = (y_dataset >= 3.5).astype(int)\n",
    "    return y_dataset\n",
    "\n",
    "# Convert to binary bins, 0 if score < 3.5, 1 if score >= 3.5:\n",
    "y_train = (nineToTwoBins(y_train))\n",
    "y_val = (nineToTwoBins(y_val))\n",
    "y_test = (nineToTwoBins(y_test))\n"
   ]
  },
  {
   "cell_type": "markdown",
   "metadata": {
    "id": "W3ilA02znx4C"
   },
   "source": [
    "# Get Predictions (Probability) for validation\n",
    "\n"
   ]
  },
  {
   "cell_type": "code",
   "execution_count": 5,
   "metadata": {
    "id": "_i4R_r0SrUMF"
   },
   "outputs": [],
   "source": [
    "import keras\n",
    "from keras import backend as K\n",
    "from keras.models import Sequential\n",
    "from keras.layers import Activation\n",
    "from keras.layers.core import Dense\n",
    "from keras.optimizers import Adam\n",
    "from keras.metrics import categorical_crossentropy\n",
    "from keras.utils import to_categorical\n",
    "from keras.wrappers.scikit_learn import KerasClassifier\n",
    "from keras.layers import DenseFeatures\n",
    "\n",
    "from sklearn.model_selection import cross_val_score\n",
    "from sklearn.model_selection import KFold\n",
    "from keras.layers import Dropout\n",
    "\n",
    "best_model_bo = keras.models.load_model('/content/drive/My Drive/Colab Notebooks/best_model_bo.h5')\n",
    "\n",
    "for i in [X_val_trf1, X_test_trf1]:\n",
    "  i.drop(['rating_month__1',\n",
    " 'rating_month__2',\n",
    " 'rating_month__3',\n",
    " 'rating_month__4',\n",
    " 'rating_month__5',\n",
    " 'rating_month__6',\n",
    " 'rating_month__7',\n",
    " 'rating_month__8',\n",
    " 'rating_month__9',\n",
    " 'rating_month__10',\n",
    " 'rating_month__11',\n",
    " 'rating_month__12',\n",
    " 'rating_year',\n",
    " 'primaryTitle',\n",
    " 'movieId_ori',\n",
    " 'userId_ori'], axis=1, inplace = True)\n",
    "\n",
    "preds = best_model_bo.predict(X_test_trf1,batch_size = 400)"
   ]
  },
  {
   "cell_type": "code",
   "execution_count": 6,
   "metadata": {
    "id": "Ar9QlVmcsgFx"
   },
   "outputs": [],
   "source": [
    "movie_user_proba = pd.concat(\n",
    "    [userid_movie,\n",
    "         pd.Series(preds.flatten(), name ='probability')], axis = 1\n",
    ")"
   ]
  },
  {
   "cell_type": "markdown",
   "metadata": {
    "id": "UqnDAZDbKyio"
   },
   "source": [
    "# Hit Rate\n",
    "\n",
    "# Get all the unique users in val set\n",
    "\n",
    "1) Function\n",
    "\n",
    "-> take in userID from validation set, filter by 1 particular ID\n",
    "\n",
    "-> get list of movies & coresponding actual ratings that is rated by this user in val set\n",
    "\n",
    "\n",
    "-> feed in X_val (also need to filter by userID) get the predicted probability of each of the movies in this validation set, \n",
    "\n",
    "concat this probability with the movieID, then sort by probability\n",
    "\n",
    "-> conca\n",
    "\n"
   ]
  },
  {
   "cell_type": "code",
   "execution_count": 7,
   "metadata": {
    "colab": {
     "base_uri": "https://localhost:8080/"
    },
    "id": "r58JitYtkzR8",
    "outputId": "59129103-b0c8-4d2e-8767-7b24c15dc820"
   },
   "outputs": [
    {
     "data": {
      "text/plain": [
       "array([ 89464,   1920, 159816,  30643,  74429,  61869,  39905, 111038,\n",
       "        61379,  34217, 118906,   9620,   2177,  36883,  29054, 147898,\n",
       "        65365,  32855,  49004,  58402, 160747,  80446,  81896,  32064,\n",
       "        20179,  90691,  92046,  37438, 152107,  18306,  81403,  60305,\n",
       "        57548,  47628,  18995,   2982, 113791,  53837, 143049,  99547,\n",
       "        14831,  25554,  46638,  41608,  30024, 135672, 126180, 109480,\n",
       "        32778,  62737, 148789,  54353,  22175,  39669, 144475, 140838,\n",
       "        22253, 115102,  51238, 122011,  44147,  93451, 145626,  41487,\n",
       "        29021,  61803, 146221,  17474,  34987, 109090,  71403,  31567,\n",
       "       131293,  32462,  96495,  29803,  17783,  81216,  73300, 150005,\n",
       "       107650, 151214,   1748,  62199, 116447,  83426, 140862,  30879,\n",
       "        80974,  97452, 122803, 106507, 162516,  26672, 162047, 103611,\n",
       "       103631,  62524,  75830, 141938, 105747,  98227,  96818,  29749,\n",
       "        31776,  93855,  73949,  52190, 110971, 120793,  61010,  85859,\n",
       "        33844,  80571,  84658,  36618, 148790,  61412,  60655,  20055,\n",
       "       132651, 114682, 136949, 139523,  72315, 111258, 123711,   8619,\n",
       "       116233,  93424,  59471,  96911,  11952,  18628,  94334, 131341,\n",
       "        46264,  78849, 137293,  40636,  48845,  85844, 127311,  94154,\n",
       "        52318,  67491,   3150, 148146, 152690,  74608,  35930,  59398,\n",
       "        17941,  54213,  42790, 134109,  84293, 156480, 100171,  38588,\n",
       "        88230, 130333,  92975, 156183, 100260,  49403, 125514, 129711,\n",
       "       136310,  24869,  32063,  39896,  29179,  85757,  44895,  46342,\n",
       "        20585, 115900,  39732,  85115, 134842, 148115,  24692, 109731,\n",
       "       100510,  30111,  19886, 112101])"
      ]
     },
     "execution_count": 7,
     "metadata": {
      "tags": []
     },
     "output_type": "execute_result"
    }
   ],
   "source": [
    "movie_user_rating.userId_ori.unique()"
   ]
  },
  {
   "cell_type": "code",
   "execution_count": 8,
   "metadata": {
    "id": "ev6cQqlMJ5iq"
   },
   "outputs": [],
   "source": [
    "unique_user_ids = movie_user_rating.userId_ori.unique()\n",
    "\n",
    "def sorted_rating_by_user(userID_ori, movie_user_rating_df):\n",
    "  movie_rating = movie_user_rating_df.loc[movie_user_rating_df['userId_ori'] == userID_ori,\n",
    "                                          ['movieId_ori','score']].sort_values(by ='score',ascending=False\n",
    "                                          )\n",
    "  return movie_rating                                  \n",
    "\n",
    "def sorted_proba_by_user(userID_ori, movie_user_proba_df):\n",
    "  movie_rating = movie_user_proba_df.loc[movie_user_proba_df['userId_ori'] == userID_ori,\n",
    "                                          ['movieId_ori','probability']].sort_values(by ='probability',ascending=False\n",
    "                                          )\n",
    "  return movie_rating                                  \n",
    "  "
   ]
  },
  {
   "cell_type": "code",
   "execution_count": 9,
   "metadata": {
    "colab": {
     "base_uri": "https://localhost:8080/"
    },
    "id": "GmVN1PxQmuBV",
    "outputId": "f965e4b0-3109-4407-dfee-e524a42e0b04"
   },
   "outputs": [
    {
     "data": {
      "text/plain": [
       "0.24"
      ]
     },
     "execution_count": 9,
     "metadata": {
      "tags": []
     },
     "output_type": "execute_result"
    }
   ],
   "source": [
    "def hit_ratio(rating_df, probability_df, k):\n",
    "  movie_array_true = rating_df.movieId_ori.to_numpy().flatten()[0:k]\n",
    "  movie_array_false = probability_df.movieId_ori.to_numpy().flatten()[0:k]\n",
    "  numerator = len(np.intersect1d(movie_array_true,movie_array_false))\n",
    "  ratio = numerator/k\n",
    "  return numerator/k\n",
    "\n",
    "hit_ratio(sorted_rating_by_user(30643, movie_user_rating), sorted_proba_by_user(30643, movie_user_proba), k=100)"
   ]
  },
  {
   "cell_type": "code",
   "execution_count": 11,
   "metadata": {
    "colab": {
     "base_uri": "https://localhost:8080/"
    },
    "id": "Qpf88mf43awX",
    "outputId": "f4ae267c-673d-431d-d858-43b7c674fc52"
   },
   "outputs": [
    {
     "data": {
      "text/plain": [
       "0.16797872340425532"
      ]
     },
     "execution_count": 11,
     "metadata": {
      "tags": []
     },
     "output_type": "execute_result"
    }
   ],
   "source": [
    "# Get average hit_ratio across all users in validation set. Change k only.\n",
    "def get_average_hit_ratio(k, userid_list, movie_user_rating_df, movie_user_proba_df):\n",
    "  all_hit_ratios = []\n",
    "  for i in userid_list:\n",
    "    rating = sorted_rating_by_user(i, movie_user_rating_df)\n",
    "    proba = sorted_proba_by_user(i, movie_user_proba_df)\n",
    "    hr = hit_ratio(rating, proba, k)\n",
    "    all_hit_ratios.append(hr)\n",
    "  return np.mean(np.array(all_hit_ratios))\n",
    "\n",
    "get_average_hit_ratio(50, unique_user_ids, movie_user_rating, movie_user_proba)"
   ]
  },
  {
   "cell_type": "code",
   "execution_count": 12,
   "metadata": {
    "colab": {
     "base_uri": "https://localhost:8080/"
    },
    "id": "hbCM2NSRPJ6F",
    "outputId": "b8a4920e-e8aa-4fa2-fda7-ca7897e13e3c"
   },
   "outputs": [
    {
     "name": "stdout",
     "output_type": "stream",
     "text": [
      "Average Hit Ratio for n = 1:  0.0\n",
      "Average Hit Ratio for n = 5:  0.030851063829787237\n",
      "Average Hit Ratio for n = 10:  0.05585106382978723\n",
      "Average Hit Ratio for n = 20:  0.09441489361702128\n",
      "Average Hit Ratio for n = 50:  0.16797872340425532\n",
      "Average Hit Ratio for n = 100:  0.2832978723404255\n"
     ]
    }
   ],
   "source": [
    "for k in [1,5,10,20,50,100]:\n",
    "  average_hr = get_average_hit_ratio(k, unique_user_ids, movie_user_rating, movie_user_proba)\n",
    "  print('Average Hit Ratio for n = {}:  {}'.format(k, average_hr))"
   ]
  },
  {
   "cell_type": "markdown",
   "metadata": {
    "id": "YCt0wXk65pzG"
   },
   "source": [
    "# Computation of NDCG"
   ]
  },
  {
   "cell_type": "code",
   "execution_count": 13,
   "metadata": {
    "colab": {
     "base_uri": "https://localhost:8080/"
    },
    "id": "TqUd8BycDZZ7",
    "outputId": "5f533788-449a-4270-aa31-8743a0aef697"
   },
   "outputs": [
    {
     "data": {
      "text/plain": [
       "0"
      ]
     },
     "execution_count": 13,
     "metadata": {
      "tags": []
     },
     "output_type": "execute_result"
    }
   ],
   "source": [
    "# Get Cumulative Gain of a given user in validation set. Change k only.\n",
    "def cumulative_gain(rating_df, probability_df, k):\n",
    "  # rating_df: Given User's Dataframe of MovieId, & score with MovieId sorted by score \n",
    "  movie_array_true = rating_df.movieId_ori.to_numpy().flatten()[0:k]\n",
    "  # probability_df: Given User's Dataframe of MovieId, & probability with MovieId sorted by probability\n",
    "  movie_array_false = probability_df.movieId_ori.to_numpy().flatten()[0:k]\n",
    "  cg= len(np.intersect1d(movie_array_true,movie_array_false))\n",
    "  return cg\n",
    "\n",
    "cumulative_gain(sorted_rating_by_user(18628, movie_user_rating), sorted_proba_by_user(18628, movie_user_proba), 10)"
   ]
  },
  {
   "cell_type": "code",
   "execution_count": 14,
   "metadata": {
    "colab": {
     "base_uri": "https://localhost:8080/"
    },
    "id": "uHcToB_S5_3f",
    "outputId": "70f82fa1-7b00-429c-dac0-58e1d170a6a4"
   },
   "outputs": [
    {
     "data": {
      "text/plain": [
       "1.5"
      ]
     },
     "execution_count": 14,
     "metadata": {
      "tags": []
     },
     "output_type": "execute_result"
    }
   ],
   "source": [
    "#test code for computation of DCG, IGNORE\n",
    "common_ele = np.intersect1d(np.array([1,2,3,4,5,6,7,8,9,10]),\n",
    "                        np.array([1,12,2,14,15,11,13,16,17,18])\n",
    "                        ) # set of common movieIds in both arrays\n",
    "indices = np.where(np.in1d(np.array([1,12,2,14,15,11,13,16,17,18]), common_ele))[0]+ 1\n",
    "np.sum(1/np.log2(indices + 1))"
   ]
  },
  {
   "cell_type": "code",
   "execution_count": 15,
   "metadata": {
    "id": "U9M45e286yAC"
   },
   "outputs": [],
   "source": [
    "# Get Discounted Cumulative Gain of a given user in validation set. Change k only.\n",
    "def dis_cumulative_gain(rating_df, probability_df, k):\n",
    "\n",
    "  # rating_df: Given User's Dataframe of MovieId, & score with MovieId sorted by score \n",
    "  movie_array_true = rating_df.movieId_ori.to_numpy().flatten()[0:k]\n",
    "  ##print('ideal_movie: ', movie_array_true)\n",
    "\n",
    "  # probability_df: Given User's Dataframe of MovieId, & probability with MovieId sorted by probability\n",
    "  movie_array_false = probability_df.movieId_ori.to_numpy().flatten()[0:k]\n",
    "  ##print('predicted_movie:', movie_array_false)\n",
    "\n",
    "  # set of common movieIds in both arrays\n",
    "  common_elements = np.intersect1d(movie_array_true,\n",
    "                        movie_array_false)\n",
    "  ##print('common_movie: ', common_elements)\n",
    "\n",
    "  # find indices of common elements of movie_array_true & movie_array_false\n",
    "  # inside movie_array_false\n",
    "  # add 1 to change index 0 to 1, 1 to 2,...\n",
    "  indices = np.where(np.in1d(movie_array_false, common_elements))[0]+ 1\n",
    "  ##print('indices of common_movie: ', indices)\n",
    "  dcg = np.sum(1/np.log2(indices + 1))\n",
    "  #print('dcg:', dcg)\n",
    "  return dcg\n"
   ]
  },
  {
   "cell_type": "code",
   "execution_count": 16,
   "metadata": {
    "id": "B4UszmFi_9og"
   },
   "outputs": [],
   "source": [
    "# Get Ideal DCG for user\n",
    "# Get Discounted Cumulative Gain of a given user in validation set. Change k only.\n",
    "def ideal_cumulative_gain(rating_df, k):\n",
    "\n",
    "  # rating_df: Given User's Dataframe of MovieId, & score with MovieId sorted by score \n",
    "  movie_array_true = rating_df.movieId_ori.to_numpy().flatten()[0:k]\n",
    "  ##print('ideal_movie: ', movie_array_true)\n",
    "\n",
    "  # find indices of ideal scenario\n",
    "  # add 1 to change index 0 to 1, 1 to 2,...\n",
    "  indices = np.array([indice for indice in range(len(movie_array_true))]\n",
    "  ) + 1\n",
    "  ##print(indices)\n",
    "  ideal_dcg = np.sum(1/np.log2(indices + 1))\n",
    "  ##print(ideal_dcg)\n",
    "  return ideal_dcg\n"
   ]
  },
  {
   "cell_type": "code",
   "execution_count": 17,
   "metadata": {
    "colab": {
     "base_uri": "https://localhost:8080/"
    },
    "id": "jp1DNULoC-eQ",
    "outputId": "a22bd59c-8bfd-45fe-c9e9-a16cb46fc0a9"
   },
   "outputs": [
    {
     "data": {
      "text/plain": [
       "0.37466610587647853"
      ]
     },
     "execution_count": 17,
     "metadata": {
      "tags": []
     },
     "output_type": "execute_result"
    }
   ],
   "source": [
    "#NDCG per user\n",
    "def user_NDCG(rating_df, probability_df, k):\n",
    "  dcg_ = dis_cumulative_gain(rating_df, probability_df, k)\n",
    "  idcg_ = ideal_cumulative_gain(rating_df, k)\n",
    "  ndcg_ = dcg_ / idcg_\n",
    "  return(ndcg_)\n",
    "\n",
    "user_NDCG(sorted_rating_by_user(85844, movie_user_rating), sorted_proba_by_user(85844, movie_user_proba), 10)"
   ]
  },
  {
   "cell_type": "code",
   "execution_count": 18,
   "metadata": {
    "colab": {
     "base_uri": "https://localhost:8080/"
    },
    "id": "H_k5yWrlBv-O",
    "outputId": "f1ac2277-e00a-4558-9a28-54f99c64ee98"
   },
   "outputs": [
    {
     "data": {
      "text/plain": [
       "0.19722457712283922"
      ]
     },
     "execution_count": 18,
     "metadata": {
      "tags": []
     },
     "output_type": "execute_result"
    }
   ],
   "source": [
    "# get Average NDCG across all users, change k only\n",
    "def get_average_ndcg(k, userid_list, movie_user_rating_df, movie_user_proba_df):\n",
    "  all_ndcg = []\n",
    "  for i in userid_list:\n",
    "    rating = sorted_rating_by_user(i, movie_user_rating_df)\n",
    "    proba = sorted_proba_by_user(i, movie_user_proba_df)\n",
    "    user_ndcg = user_NDCG(rating, proba, k)\n",
    "    all_ndcg.append(user_ndcg)\n",
    "  return np.mean(np.array(all_ndcg))\n",
    "\n",
    "get_average_ndcg(50, unique_user_ids, movie_user_rating, movie_user_proba)"
   ]
  },
  {
   "cell_type": "code",
   "execution_count": 19,
   "metadata": {
    "colab": {
     "base_uri": "https://localhost:8080/"
    },
    "id": "DhJK2NcTJ8ca",
    "outputId": "db190ef7-e29f-4727-ad81-d80cf81037cb"
   },
   "outputs": [
    {
     "name": "stdout",
     "output_type": "stream",
     "text": [
      "Average Hit Ratio for n = 1:  0.0\n",
      "Average Hit Ratio for n = 5:  0.031392295775200973\n",
      "Average Hit Ratio for n = 10:  0.06184369478431828\n",
      "Average Hit Ratio for n = 20:  0.1100109469917045\n",
      "Average Hit Ratio for n = 50:  0.19722457712283922\n",
      "Average Hit Ratio for n = 100:  0.3339062048459825\n"
     ]
    }
   ],
   "source": [
    "for k in [1,5,10,20,50,100]:\n",
    "  average_ndcg = get_average_ndcg(k, unique_user_ids, movie_user_rating, movie_user_proba)\n",
    "  print('Average Hit Ratio for n = {}:  {}'.format(k, average_ndcg))"
   ]
  }
 ],
 "metadata": {
  "colab": {
   "collapsed_sections": [],
   "name": "Metrics_for_NN.ipynb",
   "provenance": []
  },
  "kernelspec": {
   "display_name": "Python 3",
   "language": "python",
   "name": "python3"
  },
  "language_info": {
   "codemirror_mode": {
    "name": "ipython",
    "version": 3
   },
   "file_extension": ".py",
   "mimetype": "text/x-python",
   "name": "python",
   "nbconvert_exporter": "python",
   "pygments_lexer": "ipython3",
   "version": "3.7.3"
  }
 },
 "nbformat": 4,
 "nbformat_minor": 4
}
