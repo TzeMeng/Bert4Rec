{
  "nbformat": 4,
  "nbformat_minor": 0,
  "metadata": {
    "colab": {
      "name": "newFinal_XgBoost_2bins",
      "provenance": [],
      "collapsed_sections": []
    },
    "kernelspec": {
      "display_name": "Python 3",
      "language": "python",
      "name": "python3"
    },
    "language_info": {
      "codemirror_mode": {
        "name": "ipython",
        "version": 3
      },
      "file_extension": ".py",
      "mimetype": "text/x-python",
      "name": "python",
      "nbconvert_exporter": "python",
      "pygments_lexer": "ipython3",
      "version": "3.7.3"
    },
    "accelerator": "GPU"
  },
  "cells": [
    {
      "cell_type": "code",
      "metadata": {
        "colab": {
          "base_uri": "https://localhost:8080/"
        },
        "id": "fHFlSObe-lLz",
        "outputId": "4290c923-57ca-4bdd-c4e6-d2be714e601c"
      },
      "source": [
        "from google.colab import drive\n",
        "drive.mount('/content/drive')"
      ],
      "execution_count": 1,
      "outputs": [
        {
          "output_type": "stream",
          "text": [
            "Mounted at /content/drive\n"
          ],
          "name": "stdout"
        }
      ]
    },
    {
      "cell_type": "code",
      "metadata": {
        "id": "o1ej2HefKrIV"
      },
      "source": [
        "import numpy as np\n",
        "import pandas as pd\n",
        "from xgboost.sklearn import XGBClassifier\n",
        "import xgboost as xgb\n",
        "from sklearn.model_selection import GridSearchCV\n",
        "import seaborn as sns\n",
        "import matplotlib.pyplot as plt"
      ],
      "execution_count": 2,
      "outputs": []
    },
    {
      "cell_type": "markdown",
      "metadata": {
        "id": "nQ5oW9-A3PUV"
      },
      "source": [
        "# Data Preparation"
      ]
    },
    {
      "cell_type": "code",
      "metadata": {
        "id": "Z4dBAYXDKt3b"
      },
      "source": [
        "X_train_trf1 = pd.read_csv('/content/drive/MyDrive/Colab Notebooks/X_train_trf1_v3.csv')\n",
        "X_val_trf1 = pd.read_csv('/content/drive/MyDrive/Colab Notebooks/X_val_trf1_v3.csv')\n",
        "X_test_trf1 = pd.read_csv('/content/drive/MyDrive/Colab Notebooks/X_test_trf1_v3.csv')\n",
        "\n",
        "#Drop rating_month and rating_year columns\n",
        "#Drop primaryTitle, userId_ori, movieId_ori\n",
        "\n",
        "extracted_cols = X_test_trf1.loc[:,['primaryTitle', 'movieId_ori','userId_ori']]\n",
        "\n",
        "def dropRatingDate(df):\n",
        "  cols = [0, 1, 2, 25, 26, 27, 28, 29, 30, 31, 32, 33, 34, 35, 36, 42]\n",
        "  return df.drop(df.columns[cols], axis=1)\n",
        "\n",
        "X_train_trf1 = dropRatingDate(X_train_trf1)\n",
        "X_test_trf1 = dropRatingDate(X_test_trf1)\n",
        "X_val_trf1 = dropRatingDate(X_val_trf1)\n",
        "\n",
        "columns_list = X_train_trf1.columns.tolist()\n",
        "\n",
        "X_train_trf1 = X_train_trf1.to_numpy()\n",
        "X_val_trf1 = X_val_trf1.to_numpy()\n",
        "X_test_trf1 = X_test_trf1.to_numpy() \n",
        "\n",
        "y_train = pd.read_csv('/content/drive/MyDrive/Colab Notebooks/y_train_xg_v3.csv').to_numpy(dtype = 'int')\n",
        "y_val= pd.read_csv('/content/drive/MyDrive/Colab Notebooks/y_val_xg_v3.csv').to_numpy(dtype = 'int')\n",
        "y_test= pd.read_csv('/content/drive/MyDrive/Colab Notebooks/y_test_xg_v3.csv').to_numpy(dtype = 'int')\n",
        "y_test_ori = y_test"
      ],
      "execution_count": 3,
      "outputs": []
    },
    {
      "cell_type": "code",
      "metadata": {
        "id": "eFBPHfRULC-D"
      },
      "source": [
        "#Convert 9bins to 2bins\n",
        "def nineToTwoBins(y_dataset):\n",
        "    for i in range(0, len(y_dataset)): \n",
        "        if y_dataset[i] < 6:\n",
        "            y_dataset[i] = 0\n",
        "        else:\n",
        "            y_dataset[i] = 1\n",
        "    return y_dataset"
      ],
      "execution_count": 4,
      "outputs": []
    },
    {
      "cell_type": "code",
      "metadata": {
        "colab": {
          "base_uri": "https://localhost:8080/"
        },
        "id": "18tzFx_ALGQP",
        "outputId": "9890a392-3d19-45fb-cbdc-2aa766279889"
      },
      "source": [
        "nineToTwoBins(y_train)\n",
        "nineToTwoBins(y_val)\n",
        "nineToTwoBins(y_test)"
      ],
      "execution_count": 5,
      "outputs": [
        {
          "output_type": "execute_result",
          "data": {
            "text/plain": [
              "array([[1],\n",
              "       [1],\n",
              "       [1],\n",
              "       ...,\n",
              "       [1],\n",
              "       [1],\n",
              "       [1]])"
            ]
          },
          "metadata": {
            "tags": []
          },
          "execution_count": 5
        }
      ]
    },
    {
      "cell_type": "code",
      "metadata": {
        "id": "T6wcdh1mLLh8"
      },
      "source": [
        "training_data = {'X_train':X_train_trf1,'Y_train':y_train,\n",
        "                'X_val': X_val_trf1,'Y_val':y_val,\n",
        "                'X_test': X_test_trf1 ,'Y_test':y_test}"
      ],
      "execution_count": 6,
      "outputs": []
    },
    {
      "cell_type": "markdown",
      "metadata": {
        "id": "ukJ6qVue3Evs"
      },
      "source": [
        "# XGBoost Model"
      ]
    },
    {
      "cell_type": "code",
      "metadata": {
        "id": "_xH8PqUyLQ6w"
      },
      "source": [
        "#allow logloss and classification error plots for each iteraetion of xgb model\n",
        "def plot_compare(metrics,eval_results,epochs):\n",
        "    for m in metrics:\n",
        "        test_score = eval_results['val'][m]\n",
        "        train_score = eval_results['train'][m]\n",
        "        rang = range(0, epochs)\n",
        "        plt.rcParams[\"figure.figsize\"] = [6,6]\n",
        "        plt.plot(rang, test_score,\"c\", label=\"Val\")\n",
        "        plt.plot(rang, train_score,\"orange\", label=\"Train\")\n",
        "        title_name = m + \" plot\"\n",
        "        plt.title(title_name)\n",
        "        plt.xlabel('Iterations')\n",
        "        plt.ylabel(m)\n",
        "        lgd = plt.legend()\n",
        "        plt.show()\n",
        "        \n",
        "def fitXgb(sk_model, training_data=training_data,epochs=50):\n",
        "    print('Fitting model...')\n",
        "    sk_model.fit(training_data['X_train'], training_data['Y_train'].reshape(training_data['Y_train'].shape[0]))\n",
        "    print('Fitting done!')\n",
        "    train = xgb.DMatrix(training_data['X_train'], label=training_data['Y_train'])\n",
        "    val = xgb.DMatrix(training_data['X_val'], label=training_data['Y_val'])\n",
        "    params = sk_model.get_xgb_params()\n",
        "    metrics = ['mlogloss','merror']\n",
        "    params['eval_metric'] = metrics\n",
        "    store = {}\n",
        "    evallist = [(val, 'val'),(train,'train')]\n",
        "    xgb_model = xgb.train(params, train, epochs, evallist,evals_result=store,verbose_eval=100)\n",
        "    print('-- Model Report --')\n",
        "    #print('XGBoost Precision: '+str(top_k_accuracy_score(training_data['Y_val'], sk_model.predict(training_data['X_val']), k=5)))\n",
        "    #print('XGBoost Recall: '+str(recall_score(sk_model.predict(training_data['X_val']),training_data['Y_val'])))\n",
        "    #print('XGBoost ROC_AUC: '+str(roc_auc_score(training_data['Y_val'],sk_model.predict_proba(training_data['X_val'])[:,1])))\n",
        "    plot_compare(metrics,store,epochs)\n",
        "    features = columns_list\n",
        "    f, ax = plt.subplots(figsize=(10,5))\n",
        "    plot = sns.barplot(x=features, y=sk_model.feature_importances_)\n",
        "    ax.set_title('Feature Importance')\n",
        "    plot.set_xticklabels(plot.get_xticklabels(),rotation='vertical')\n",
        "    plt.show()\n",
        "    \n",
        "def getTrainScores(gs):\n",
        "    results = {}\n",
        "    runs = 0\n",
        "    for x,y in zip(list(gs.cv_results_['mean_test_score']), gs.cv_results_['params']):\n",
        "        results[runs] = 'mean:' + str(x) + 'params' + str(y)\n",
        "        runs += 1\n",
        "    best = {'best_mean': gs.best_score_, \"best_param\":gs.best_params_}\n",
        "    return results, best"
      ],
      "execution_count": 7,
      "outputs": []
    },
    {
      "cell_type": "code",
      "metadata": {
        "colab": {
          "base_uri": "https://localhost:8080/",
          "height": 1000
        },
        "id": "acg5eQ-2LSO7",
        "outputId": "a6915a20-d563-4dbd-de4e-c64ea4cfc0c9"
      },
      "source": [
        "xgb1 = XGBClassifier(learning_rate=0.2,\n",
        "                    n_estimators=300,\n",
        "                    max_depth=3,\n",
        "                    min_child_weight=1,\n",
        "                    gamma=0,\n",
        "                    subsample=0.8,\n",
        "                    colsample_bytree=0.8,\n",
        "                    tree_method = \"gpu_hist\",\n",
        "                    objective='multi:softprob',\n",
        "                    num_class=2,\n",
        "                    seed=27)\n",
        "\n",
        "\n",
        "fitXgb(xgb1, training_data)"
      ],
      "execution_count": null,
      "outputs": [
        {
          "output_type": "stream",
          "text": [
            "Fitting model...\n",
            "Fitting done!\n",
            "[0]\tval-mlogloss:0.685412\tval-merror:0.404853\ttrain-mlogloss:0.685412\ttrain-merror:0.406704\n",
            "[49]\tval-mlogloss:0.623963\tval-merror:0.344483\ttrain-mlogloss:0.622557\ttrain-merror:0.341347\n",
            "-- Model Report --\n"
          ],
          "name": "stdout"
        },
        {
          "output_type": "display_data",
          "data": {
            "image/png": "[encoded data removed]",
            "text/plain": [
              "<Figure size 432x432 with 1 Axes>"
            ]
          },
          "metadata": {
            "tags": [],
            "needs_background": "light"
          }
        },
        {
          "output_type": "display_data",
          "data": {
            "image/png": "[encoded data removed]",
            "text/plain": [
              "<Figure size 432x432 with 1 Axes>"
            ]
          },
          "metadata": {
            "tags": [],
            "needs_background": "light"
          }
        },
        {
          "output_type": "display_data",
          "data": {
            "image/png": "[encoded data removed]",
            "text/plain": [
              "<Figure size 720x360 with 1 Axes>"
            ]
          },
          "metadata": {
            "tags": [],
            "needs_background": "light"
          }
        }
      ]
    },
    {
      "cell_type": "markdown",
      "metadata": {
        "id": "DMffXiHE2yVb"
      },
      "source": [
        "# GridSearch Parameter Test"
      ]
    },
    {
      "cell_type": "code",
      "metadata": {
        "colab": {
          "base_uri": "https://localhost:8080/"
        },
        "id": "gWkfL6OQ2rZ3",
        "outputId": "c2d40c21-463b-42e3-8760-f0372093e69a"
      },
      "source": [
        "#GridSearch Param Test Max_Depth and min_child_weight\n",
        "\n",
        "param_test1 = {\n",
        " 'max_depth':range(3,10,2),\n",
        " 'min_child_weight':range(1,6,2)\n",
        "}\n",
        "\n",
        "gsearch1 = GridSearchCV(estimator = xgb1, param_grid = param_test1, scoring='f1_micro',n_jobs=-1,verbose = 10, cv=5)\n",
        "gsearch1.fit(X_train_trf1, y_train)"
      ],
      "execution_count": null,
      "outputs": [
        {
          "output_type": "stream",
          "text": [
            "Fitting 5 folds for each of 12 candidates, totalling 60 fits\n"
          ],
          "name": "stdout"
        },
        {
          "output_type": "stream",
          "text": [
            "[Parallel(n_jobs=-1)]: Using backend LokyBackend with 2 concurrent workers.\n",
            "[Parallel(n_jobs=-1)]: Done   1 tasks      | elapsed:   22.0s\n",
            "[Parallel(n_jobs=-1)]: Done   4 tasks      | elapsed:   42.7s\n",
            "[Parallel(n_jobs=-1)]: Done   9 tasks      | elapsed:  1.7min\n",
            "[Parallel(n_jobs=-1)]: Done  14 tasks      | elapsed:  2.4min\n",
            "[Parallel(n_jobs=-1)]: Done  21 tasks      | elapsed:  4.0min\n",
            "[Parallel(n_jobs=-1)]: Done  28 tasks      | elapsed:  5.5min\n",
            "[Parallel(n_jobs=-1)]: Done  37 tasks      | elapsed:  8.6min\n",
            "[Parallel(n_jobs=-1)]: Done  46 tasks      | elapsed: 12.2min\n",
            "[Parallel(n_jobs=-1)]: Done  57 tasks      | elapsed: 19.1min\n",
            "[Parallel(n_jobs=-1)]: Done  60 out of  60 | elapsed: 20.7min finished\n",
            "/usr/local/lib/python3.7/dist-packages/sklearn/preprocessing/_label.py:235: DataConversionWarning: A column-vector y was passed when a 1d array was expected. Please change the shape of y to (n_samples, ), for example using ravel().\n",
            "  y = column_or_1d(y, warn=True)\n",
            "/usr/local/lib/python3.7/dist-packages/sklearn/preprocessing/_label.py:268: DataConversionWarning: A column-vector y was passed when a 1d array was expected. Please change the shape of y to (n_samples, ), for example using ravel().\n",
            "  y = column_or_1d(y, warn=True)\n"
          ],
          "name": "stderr"
        },
        {
          "output_type": "execute_result",
          "data": {
            "text/plain": [
              "GridSearchCV(cv=5, error_score=nan,\n",
              "             estimator=XGBClassifier(base_score=0.5, booster='gbtree',\n",
              "                                     colsample_bylevel=1, colsample_bynode=1,\n",
              "                                     colsample_bytree=0.8, gamma=0,\n",
              "                                     learning_rate=0.2, max_delta_step=0,\n",
              "                                     max_depth=3, min_child_weight=1,\n",
              "                                     missing=None, n_estimators=300, n_jobs=1,\n",
              "                                     nthread=None, num_class=2,\n",
              "                                     objective='multi:softmax', random_state=0,\n",
              "                                     reg_alpha=0, reg_lambda=1,\n",
              "                                     scale_pos_weight=1, seed=27, silent=None,\n",
              "                                     subsample=0.8, tree_method='gpu_hist',\n",
              "                                     verbosity=1),\n",
              "             iid='deprecated', n_jobs=-1,\n",
              "             param_grid={'max_depth': range(3, 10, 2),\n",
              "                         'min_child_weight': range(1, 6, 2)},\n",
              "             pre_dispatch='2*n_jobs', refit=True, return_train_score=False,\n",
              "             scoring='f1_micro', verbose=10)"
            ]
          },
          "metadata": {
            "tags": []
          },
          "execution_count": 12
        }
      ]
    },
    {
      "cell_type": "code",
      "metadata": {
        "id": "OT9ZNgRc6EZd",
        "colab": {
          "base_uri": "https://localhost:8080/"
        },
        "outputId": "ff8a5a39-7973-417e-deb0-79173d87d183"
      },
      "source": [
        "getTrainScores(gsearch1)"
      ],
      "execution_count": null,
      "outputs": [
        {
          "output_type": "execute_result",
          "data": {
            "text/plain": [
              "({0: \"mean:0.7545948159349158params{'max_depth': 3, 'min_child_weight': 1}\",\n",
              "  1: \"mean:0.7549989429147536params{'max_depth': 3, 'min_child_weight': 3}\",\n",
              "  2: \"mean:0.7548828633468989params{'max_depth': 3, 'min_child_weight': 5}\",\n",
              "  3: \"mean:0.7780686929629822params{'max_depth': 5, 'min_child_weight': 1}\",\n",
              "  4: \"mean:0.7778795276597842params{'max_depth': 5, 'min_child_weight': 3}\",\n",
              "  5: \"mean:0.7780428937245605params{'max_depth': 5, 'min_child_weight': 5}\",\n",
              "  6: \"mean:0.7885631439863041params{'max_depth': 7, 'min_child_weight': 1}\",\n",
              "  7: \"mean:0.788919987056944params{'max_depth': 7, 'min_child_weight': 3}\",\n",
              "  8: \"mean:0.7884728677232948params{'max_depth': 7, 'min_child_weight': 5}\",\n",
              "  9: \"mean:0.7931504452631961params{'max_depth': 9, 'min_child_weight': 1}\",\n",
              "  10: \"mean:0.7922562005886814params{'max_depth': 9, 'min_child_weight': 3}\",\n",
              "  11: \"mean:0.7917316878834464params{'max_depth': 9, 'min_child_weight': 5}\"},\n",
              " {'best_mean': 0.7931504452631961,\n",
              "  'best_param': {'max_depth': 9, 'min_child_weight': 1}})"
            ]
          },
          "metadata": {
            "tags": []
          },
          "execution_count": 13
        }
      ]
    },
    {
      "cell_type": "code",
      "metadata": {
        "id": "KXZqn_s66UWA"
      },
      "source": [
        "%%time\n",
        "xgb2 = XGBClassifier(learning_rate=0.2,\n",
        "                    n_estimators=300,\n",
        "                    max_depth=9,\n",
        "                    min_child_weight=1,\n",
        "                    gamma=0,\n",
        "                    subsample=0.8,\n",
        "                    colsample_bytree=0.8,\n",
        "                    tree_method = \"gpu_hist\",\n",
        "                    objective='multi:softprob',\n",
        "                    num_class=2,\n",
        "                    seed=27)\n",
        "\n",
        "\n",
        "fitXgb(xgb2, training_data)"
      ],
      "execution_count": null,
      "outputs": []
    },
    {
      "cell_type": "code",
      "metadata": {
        "id": "-T3o7_aX6Pco"
      },
      "source": [
        "#Test subsample and colsample_bytree\n",
        "\n",
        "param_test2 = {\n",
        " 'subsample':[i/10.0 for i in range(6,10)],\n",
        " 'colsample_bytree':[i/10.0 for i in range(6,10)]\n",
        "}\n",
        "gsearch2 = GridSearchCV(estimator = xgb2, param_grid = param_test2, scoring='f1_micro',n_jobs=-1,verbose = 10, cv=3)\n",
        "gsearch2.fit(X_train_trf1, y_train)"
      ],
      "execution_count": null,
      "outputs": []
    },
    {
      "cell_type": "code",
      "metadata": {
        "id": "n29r6O0m8Nvh"
      },
      "source": [
        "getTrainScores(gsearch2)"
      ],
      "execution_count": null,
      "outputs": []
    },
    {
      "cell_type": "code",
      "metadata": {
        "id": "Y7A6XRmgDAuc"
      },
      "source": [
        "%%time\n",
        "xgb3 = XGBClassifier(learning_rate=0.2,\n",
        "                    n_estimators=300,\n",
        "                    max_depth=9,\n",
        "                    min_child_weight=1,\n",
        "                    gamma=0,\n",
        "                    subsample=0.9,\n",
        "                    colsample_bytree=0.6,\n",
        "                    tree_method = \"gpu_hist\",\n",
        "                    objective='multi:softprob',\n",
        "                    num_class=2,\n",
        "                    seed=27)\n",
        "\n",
        "\n",
        "fitXgb(xgb3, training_data)"
      ],
      "execution_count": null,
      "outputs": []
    },
    {
      "cell_type": "code",
      "metadata": {
        "id": "QTTDQU6qDs_0"
      },
      "source": [
        "#Test reg_alpha\n",
        "\n",
        "param_test3 = {\n",
        " 'reg_alpha':[1e-5, 1e-2, 0.1, 1, 100]\n",
        "}\n",
        "gsearch2 = GridSearchCV(estimator = xgb3, param_grid = param_test3, scoring='f1_micro',n_jobs=-1,verbose = 10, cv=3)\n",
        "gsearch2.fit(X_train_trf1, y_train)"
      ],
      "execution_count": null,
      "outputs": []
    },
    {
      "cell_type": "code",
      "metadata": {
        "id": "Mnhi13glGPBY"
      },
      "source": [
        "getTrainScores(gsearch2)"
      ],
      "execution_count": null,
      "outputs": []
    },
    {
      "cell_type": "markdown",
      "metadata": {
        "id": "GVdl6DPDIgQC"
      },
      "source": [
        "Reduce learning rate and increase number of estimators"
      ]
    },
    {
      "cell_type": "code",
      "metadata": {
        "id": "sFI_stjRGZNa",
        "colab": {
          "base_uri": "https://localhost:8080/",
          "height": 1000
        },
        "outputId": "ab2ef448-1e54-4aed-8a84-7bdf33cdb5b1"
      },
      "source": [
        "xgb4 = XGBClassifier(learning_rate=0.1,\n",
        "                    n_estimators=1000,\n",
        "                    max_depth=9,\n",
        "                    min_child_weight=1,\n",
        "                    gamma=0,\n",
        "                    subsample=0.9,\n",
        "                    colsample_bytree=0.6,\n",
        "                    reg_alpha = 0.01,\n",
        "                    tree_method = \"gpu_hist\",\n",
        "                    objective='multi:softprob',\n",
        "                    num_class=2,\n",
        "                    seed=27)\n",
        "\n",
        "\n",
        "fitXgb(xgb4, training_data)"
      ],
      "execution_count": 8,
      "outputs": [
        {
          "output_type": "stream",
          "text": [
            "Fitting model...\n",
            "Fitting done!\n",
            "[0]\tval-mlogloss:0.685242\tval-merror:0.362463\ttrain-mlogloss:0.684923\ttrain-merror:0.358535\n",
            "[49]\tval-mlogloss:0.559565\tval-merror:0.27795\ttrain-mlogloss:0.544382\ttrain-merror:0.261729\n",
            "-- Model Report --\n"
          ],
          "name": "stdout"
        },
        {
          "output_type": "display_data",
          "data": {
            "image/png": "[encoded data removed]",
            "text/plain": [
              "<Figure size 432x432 with 1 Axes>"
            ]
          },
          "metadata": {
            "tags": [],
            "needs_background": "light"
          }
        },
        {
          "output_type": "display_data",
          "data": {
            "image/png": "[encoded data removed]",
            "text/plain": [
              "<Figure size 432x432 with 1 Axes>"
            ]
          },
          "metadata": {
            "tags": [],
            "needs_background": "light"
          }
        },
        {
          "output_type": "display_data",
          "data": {
            "image/png": "[encoded data removed]",
            "text/plain": [
              "<Figure size 720x360 with 1 Axes>"
            ]
          },
          "metadata": {
            "tags": [],
            "needs_background": "light"
          }
        }
      ]
    },
    {
      "cell_type": "markdown",
      "metadata": {
        "id": "0OQLeWtIpk7b"
      },
      "source": [
        "# Metrics"
      ]
    },
    {
      "cell_type": "markdown",
      "metadata": {
        "id": "hJ85OL5DCllL"
      },
      "source": [
        "**Hit Ratio**"
      ]
    },
    {
      "cell_type": "code",
      "metadata": {
        "id": "jkxspWqrrc3u"
      },
      "source": [
        "def hit_ratio(k, extracted_cols, y_test_ori, predictions):\n",
        "\n",
        "  X_test_complete = extracted_cols\n",
        "  X_test_complete['prediction'] = predictions\n",
        "  d = dict(tuple(X_test_complete.groupby(['userId_ori'])))\n",
        "\n",
        "  Y_test_complete = extracted_cols\n",
        "  Y_test_complete['actual_rating'] = y_test_ori\n",
        "  d_true = dict(tuple(Y_test_complete.groupby(['userId_ori'])))\n",
        "\n",
        "  ratio = []\n",
        "  for userId in d:\n",
        "    topk_True = d_true[userId].sort_values(['actual_rating'], ascending = False)[:k]['movieId_ori'].values.tolist()\n",
        "    topk_pred = d[userId].sort_values(['prediction'], ascending = False)[:k]['movieId_ori'].values.tolist()\n",
        "    ratio.append(len([x for x in topk_pred if x in topk_True])/k)\n",
        "  \n",
        "  #return mean hit ratio\n",
        "  return pd.Series(ratio).mean()"
      ],
      "execution_count": 11,
      "outputs": []
    },
    {
      "cell_type": "code",
      "metadata": {
        "colab": {
          "base_uri": "https://localhost:8080/"
        },
        "id": "inJSLRqi-wAx",
        "outputId": "2c26886b-d422-48f1-9d54-5c5fa4666144"
      },
      "source": [
        "#input values of k\n",
        "k = [1, 5, 10, 20, 50, 100]\n",
        "\n",
        "for i in k:\n",
        "  print('Hit Ratio @'+ str(i) +' is ' + str(hit_ratio(i, extracted_cols, y_test_ori, xgb4.predict_proba(training_data['X_test'])[:, 1:])))"
      ],
      "execution_count": 25,
      "outputs": [
        {
          "output_type": "stream",
          "text": [
            "Hit Ratio @1 is 0.0\n",
            "Hit Ratio @5 is 0.03297872340425533\n",
            "Hit Ratio @10 is 0.07765957446808504\n",
            "Hit Ratio @20 is 0.13882978723404263\n",
            "Hit Ratio @50 is 0.3020212765957446\n",
            "Hit Ratio @100 is 0.5013297872340428\n"
          ],
          "name": "stdout"
        }
      ]
    },
    {
      "cell_type": "markdown",
      "metadata": {
        "id": "S6dILNo7D36s"
      },
      "source": [
        "**NDCG**"
      ]
    },
    {
      "cell_type": "code",
      "metadata": {
        "id": "g9e_6rYarTpR"
      },
      "source": [
        "def discountedCumulativeGain(result):\n",
        "  dcg = []\n",
        "  for idx, val in enumerate(result): \n",
        "      numerator = val\n",
        "      # add 2 because python 0-index\n",
        "      denominator =  np.log2(idx + 2) \n",
        "      score = numerator/denominator\n",
        "      dcg.append(score)\n",
        "  return sum(dcg)\n",
        "\n",
        "def normalizedDiscountedCumulativeGain(k, result): \n",
        "  sorted_result = []\n",
        "  for i in range(0, k):\n",
        "    sorted_result.append(1)\n",
        "  dcg = discountedCumulativeGain(result)\n",
        "  idcg = discountedCumulativeGain(sorted_result)\n",
        "  ndcg = dcg / idcg\n",
        "  return ndcg\n",
        "\n",
        "def overallNDCG(k, extracted_cols, y_test_ori, predictions):\n",
        "  X_test_complete = extracted_cols\n",
        "  X_test_complete['prediction'] = predictions\n",
        "  d = dict(tuple(X_test_complete.groupby(['userId_ori'])))\n",
        "\n",
        "  Y_test_complete = extracted_cols\n",
        "  Y_test_complete['actual_rating'] = y_test_ori\n",
        "  d_true = dict(tuple(Y_test_complete.groupby(['userId_ori']))) \n",
        "\n",
        "  ndcg_lst = []\n",
        "  for userId in d:\n",
        "    topk_True = d_true[userId].sort_values(['actual_rating'], ascending = False)[:k]['movieId_ori'].values.tolist()\n",
        "    topk_pred = d[userId].sort_values(['prediction'], ascending = False)[:k]['movieId_ori'].values.tolist()\n",
        "    result = []\n",
        "    for i in range(0, len(topk_pred)):\n",
        "      if topk_pred[i] in topk_True:\n",
        "        result.append(1)\n",
        "      else:\n",
        "        result.append(0)\n",
        "    \n",
        "    ndcg_lst.append(normalizedDiscountedCumulativeGain(k, result))\n",
        "\n",
        "  return pd.Series(ndcg_lst).mean()"
      ],
      "execution_count": 36,
      "outputs": []
    },
    {
      "cell_type": "code",
      "metadata": {
        "colab": {
          "base_uri": "https://localhost:8080/"
        },
        "id": "S9jH7kBVH7CZ",
        "outputId": "d4cc7479-7a53-4644-bfda-fc0c598b2744"
      },
      "source": [
        "#input values of k\n",
        "k = [1, 5, 10, 20, 50, 100]\n",
        "\n",
        "for i in k:\n",
        "  print('NDCG @'+ str(i) +' is ' + str(overallNDCG(i, extracted_cols, y_test_ori, xgb4.predict_proba(training_data['X_test'])[:, 1:])))"
      ],
      "execution_count": 37,
      "outputs": [
        {
          "output_type": "stream",
          "text": [
            "NDCG @1 is 0.0\n",
            "NDCG @5 is 0.031621049910284846\n",
            "NDCG @10 is 0.07500688585031674\n",
            "NDCG @20 is 0.13948297211700902\n",
            "NDCG @50 is 0.31290762221173235\n",
            "NDCG @100 is 0.5205108929968485\n"
          ],
          "name": "stdout"
        }
      ]
    },
    {
      "cell_type": "markdown",
      "metadata": {
        "id": "rjm-WE6lqDYq"
      },
      "source": [
        "# Output"
      ]
    },
    {
      "cell_type": "code",
      "metadata": {
        "id": "yBRMf5hyqHYZ"
      },
      "source": [
        "output = extracted_cols\n",
        "predictions = xgb4.predict_proba(training_data['X_test'])[:, 1:]\n",
        "output['prediction'] = predictions\n",
        "d = dict(tuple(output.groupby(['userId_ori'])))\n",
        "\n",
        "def recommendTop10(userId):\n",
        "  return d[userId].sort_values(['prediction'], ascending = False)['primaryTitle'][:10].reset_index(drop=True)"
      ],
      "execution_count": 23,
      "outputs": []
    },
    {
      "cell_type": "code",
      "metadata": {
        "colab": {
          "base_uri": "https://localhost:8080/"
        },
        "id": "Jz0LTj4yr6kP",
        "outputId": "722dac7b-fb27-47f6-ee8f-a73dd4bda9dc"
      },
      "source": [
        "#Top 10 recommendations for user 1920\n",
        "recommendTop10(1920)"
      ],
      "execution_count": 24,
      "outputs": [
        {
          "output_type": "execute_result",
          "data": {
            "text/plain": [
              "0                         Braveheart\n",
              "1    Monty Python and the Holy Grail\n",
              "2                              Split\n",
              "3                   Some Like It Hot\n",
              "4                          Pinocchio\n",
              "5                       Forrest Gump\n",
              "6                           Superman\n",
              "7                            Amadeus\n",
              "8                      A Quiet Place\n",
              "9                            Vertigo\n",
              "Name: primaryTitle, dtype: object"
            ]
          },
          "metadata": {
            "tags": []
          },
          "execution_count": 24
        }
      ]
    }
  ]
}