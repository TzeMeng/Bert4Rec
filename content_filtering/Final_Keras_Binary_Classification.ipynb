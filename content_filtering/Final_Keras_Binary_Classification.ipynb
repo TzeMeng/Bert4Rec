{
  "nbformat": 4,
  "nbformat_minor": 0,
  "metadata": {
    "colab": {
      "name": "New_Data_Keras_Binary_Classification v3.ipynb",
      "provenance": [],
      "collapsed_sections": []
    },
    "kernelspec": {
      "name": "python3",
      "display_name": "Python 3"
    },
    "language_info": {
      "name": "python"
    },
    "accelerator": "GPU"
  },
  "cells": [
    {
      "cell_type": "code",
      "metadata": {
        "colab": {
          "base_uri": "https://localhost:8080/"
        },
        "id": "7SCjWBPfnPn2",
        "outputId": "9622bde1-49f8-4148-f92c-f553c01609c4"
      },
      "source": [
        "import numpy as np\n",
        "import pandas as pd\n",
        "import seaborn as sns\n",
        "import matplotlib.pyplot as plt\n",
        "\n",
        "from google.colab import drive\n",
        "drive.mount('/content/drive/')"
      ],
      "execution_count": null,
      "outputs": [
        {
          "output_type": "stream",
          "text": [
            "Mounted at /content/drive/\n"
          ],
          "name": "stdout"
        }
      ]
    },
    {
      "cell_type": "markdown",
      "metadata": {
        "id": "rjQY27brne3h"
      },
      "source": [
        "# Remap label values to bins of score\n",
        "\n",
        "**Current Labels & Coresponding Movie Score by User:**\n",
        "\n",
        "```score: label value```\n",
        "```{0.5: 0,\n",
        " 1.0: 1,\n",
        " 1.5: 2,\n",
        " 2.0: 3,\n",
        " 2.5: 4,\n",
        " 3.0: 5,\n",
        " 3.5: 6,\n",
        " 4.0: 7,\n",
        " 4.5: 8,\n",
        " 5.0: 9}```\n",
        "\n",
        " **Remap to:** \n",
        " ```{0.5 to 3.5 inclusive: 0 ; 4 to 5 inclusive: 1} ```"
      ]
    },
    {
      "cell_type": "code",
      "metadata": {
        "id": "h1RG-zstoOtR"
      },
      "source": [
        "# Load all data\n",
        "X_train_trf1 = pd.read_csv('/content/drive/My Drive/Colab Notebooks/X_train_trf1_v3.csv')\n",
        "X_val_trf1 = pd.read_csv('/content/drive/My Drive/Colab Notebooks/X_val_trf1_v3.csv')\n",
        "X_test_trf1 = pd.read_csv('/content/drive/My Drive/Colab Notebooks/X_test_trf1_v3.csv')\n"
      ],
      "execution_count": null,
      "outputs": []
    },
    {
      "cell_type": "code",
      "metadata": {
        "id": "UAFREbjRXJ8F"
      },
      "source": [
        "movielist = pd.concat([X_train_trf1.loc[:,['primaryTitle', 'movieId_ori','movieId']],\n",
        "           X_val_trf1.loc[:,['primaryTitle', 'movieId_ori','movieId']],\n",
        "           X_test_trf1.loc[:,['primaryTitle', 'movieId_ori','movieId']]\n",
        "], axis = 0).drop_duplicates()"
      ],
      "execution_count": null,
      "outputs": []
    },
    {
      "cell_type": "code",
      "metadata": {
        "colab": {
          "base_uri": "https://localhost:8080/",
          "height": 415
        },
        "id": "OMu32K1ydIaL",
        "outputId": "c555182e-2a1c-45b0-b6ee-bc9399f42845"
      },
      "source": [
        "userlist = pd.concat([X_train_trf1.loc[:,['userId', 'userId_ori']],\n",
        "           X_val_trf1.loc[:,['userId', 'userId_ori']],\n",
        "           X_test_trf1.loc[:,['userId', 'userId_ori']]\n",
        "], axis = 0).drop_duplicates()\n",
        "\n",
        "userlist "
      ],
      "execution_count": null,
      "outputs": [
        {
          "output_type": "execute_result",
          "data": {
            "text/html": [
              "<div>\n",
              "<style scoped>\n",
              "    .dataframe tbody tr th:only-of-type {\n",
              "        vertical-align: middle;\n",
              "    }\n",
              "\n",
              "    .dataframe tbody tr th {\n",
              "        vertical-align: top;\n",
              "    }\n",
              "\n",
              "    .dataframe thead th {\n",
              "        text-align: right;\n",
              "    }\n",
              "</style>\n",
              "<table border=\"1\" class=\"dataframe\">\n",
              "  <thead>\n",
              "    <tr style=\"text-align: right;\">\n",
              "      <th></th>\n",
              "      <th>userId</th>\n",
              "      <th>userId_ori</th>\n",
              "    </tr>\n",
              "  </thead>\n",
              "  <tbody>\n",
              "    <tr>\n",
              "      <th>0</th>\n",
              "      <td>0.758627</td>\n",
              "      <td>123711</td>\n",
              "    </tr>\n",
              "    <tr>\n",
              "      <th>1</th>\n",
              "      <td>0.176422</td>\n",
              "      <td>30111</td>\n",
              "    </tr>\n",
              "    <tr>\n",
              "      <th>2</th>\n",
              "      <td>0.633602</td>\n",
              "      <td>103611</td>\n",
              "    </tr>\n",
              "    <tr>\n",
              "      <th>3</th>\n",
              "      <td>0.191045</td>\n",
              "      <td>32462</td>\n",
              "    </tr>\n",
              "    <tr>\n",
              "      <th>4</th>\n",
              "      <td>0.600113</td>\n",
              "      <td>98227</td>\n",
              "    </tr>\n",
              "    <tr>\n",
              "      <th>...</th>\n",
              "      <td>...</td>\n",
              "      <td>...</td>\n",
              "    </tr>\n",
              "    <tr>\n",
              "      <th>650</th>\n",
              "      <td>0.572919</td>\n",
              "      <td>93855</td>\n",
              "    </tr>\n",
              "    <tr>\n",
              "      <th>667</th>\n",
              "      <td>0.408931</td>\n",
              "      <td>67491</td>\n",
              "    </tr>\n",
              "    <tr>\n",
              "      <th>668</th>\n",
              "      <td>0.894942</td>\n",
              "      <td>145626</td>\n",
              "    </tr>\n",
              "    <tr>\n",
              "      <th>695</th>\n",
              "      <td>0.186778</td>\n",
              "      <td>31776</td>\n",
              "    </tr>\n",
              "    <tr>\n",
              "      <th>908</th>\n",
              "      <td>0.235874</td>\n",
              "      <td>39669</td>\n",
              "    </tr>\n",
              "  </tbody>\n",
              "</table>\n",
              "<p>188 rows × 2 columns</p>\n",
              "</div>"
            ],
            "text/plain": [
              "       userId  userId_ori\n",
              "0    0.758627      123711\n",
              "1    0.176422       30111\n",
              "2    0.633602      103611\n",
              "3    0.191045       32462\n",
              "4    0.600113       98227\n",
              "..        ...         ...\n",
              "650  0.572919       93855\n",
              "667  0.408931       67491\n",
              "668  0.894942      145626\n",
              "695  0.186778       31776\n",
              "908  0.235874       39669\n",
              "\n",
              "[188 rows x 2 columns]"
            ]
          },
          "metadata": {
            "tags": []
          },
          "execution_count": 22
        }
      ]
    },
    {
      "cell_type": "code",
      "metadata": {
        "colab": {
          "base_uri": "https://localhost:8080/"
        },
        "id": "Rd5F__XZR7PG",
        "outputId": "009d2f22-bb8a-429d-f9c5-d11a9be85cdf"
      },
      "source": [
        "for i in [X_train_trf1,X_val_trf1,X_test_trf1]:\n",
        "  print(i.shape)\n",
        "\n",
        "X_test_complete = X_test_trf1.loc[:,['primaryTitle', 'userId_ori',\n",
        "                                     'userId']]\n",
        "\n",
        "for i in [X_train_trf1,X_val_trf1,X_test_trf1]:\n",
        "  i.drop(['rating_month__1',\n",
        " 'rating_month__2',\n",
        " 'rating_month__3',\n",
        " 'rating_month__4',\n",
        " 'rating_month__5',\n",
        " 'rating_month__6',\n",
        " 'rating_month__7',\n",
        " 'rating_month__8',\n",
        " 'rating_month__9',\n",
        " 'rating_month__10',\n",
        " 'rating_month__11',\n",
        " 'rating_month__12',\n",
        " 'rating_year',\n",
        " 'primaryTitle',\n",
        " 'movieId_ori',\n",
        " 'userId_ori'], axis=1, inplace = True)\n",
        "\n",
        "#X_train_trf1 = X_train_trf1.to_numpy()\n",
        "#X_val_trf1 = X_val_trf1.to_numpy()\n",
        "#X_test_trf1 = X_test_trf1.to_numpy() \n",
        "\n",
        "y_train = pd.read_csv('/content/drive/My Drive/Colab Notebooks/y_train_nn_v3.csv').to_numpy().flatten()\n",
        "y_val= pd.read_csv('/content/drive/My Drive/Colab Notebooks/y_val_nn_v3.csv').to_numpy().flatten()\n",
        "y_test= pd.read_csv('/content/drive/My Drive/Colab Notebooks/y_test_nn_v3.csv').to_numpy().flatten()\n",
        "\n",
        "# Convert 9bins to 2bins func\n",
        "# index 0 to 6: movie scores given by user, where 0:0.5, 1:1, 2:1.5, 3:2, 4:2.5, 5: 3,  \n",
        "def nineToTwoBins(y_dataset):\n",
        "    y_dataset = (y_dataset >= 4).astype(int)\n",
        "    return y_dataset"
      ],
      "execution_count": null,
      "outputs": [
        {
          "output_type": "stream",
          "text": [
            "(232599, 43)\n",
            "(41047, 43)\n",
            "(68433, 43)\n"
          ],
          "name": "stdout"
        }
      ]
    },
    {
      "cell_type": "code",
      "metadata": {
        "id": "02U60GESkt0G"
      },
      "source": [
        "X_test_complete.shape"
      ],
      "execution_count": null,
      "outputs": []
    },
    {
      "cell_type": "code",
      "metadata": {
        "colab": {
          "base_uri": "https://localhost:8080/"
        },
        "id": "lLG-MXznGBbk",
        "outputId": "23c3e6ec-8b73-4f5d-f51b-03225731baf0"
      },
      "source": [
        "for i in [X_train_trf1,X_val_trf1,X_test_trf1]:\n",
        "  print(i.shape)"
      ],
      "execution_count": null,
      "outputs": [
        {
          "output_type": "stream",
          "text": [
            "(232599, 27)\n",
            "(41047, 27)\n",
            "(68433, 27)\n"
          ],
          "name": "stdout"
        }
      ]
    },
    {
      "cell_type": "code",
      "metadata": {
        "id": "22KeBJ1yEf2j"
      },
      "source": [
        "pd.Series(y_train).value_counts()"
      ],
      "execution_count": null,
      "outputs": []
    },
    {
      "cell_type": "code",
      "metadata": {
        "id": "0jDVJIhbpFZa"
      },
      "source": [
        "# Convert to binary bins, 0 if score < 4, 1 if score >= 4:\n",
        "y_train = (nineToTwoBins(y_train))\n",
        "y_val = (nineToTwoBins(y_val))\n",
        "y_test = (nineToTwoBins(y_test))\n"
      ],
      "execution_count": null,
      "outputs": []
    },
    {
      "cell_type": "markdown",
      "metadata": {
        "id": "O4a4IbVurPfH"
      },
      "source": [
        "# Import Libraries for Keras"
      ]
    },
    {
      "cell_type": "code",
      "metadata": {
        "id": "_i4R_r0SrUMF"
      },
      "source": [
        "import keras\n",
        "from keras import backend as K\n",
        "from keras.models import Sequential\n",
        "from keras.layers import Activation\n",
        "from keras.layers.core import Dense\n",
        "from keras.optimizers import Adam\n",
        "from keras.metrics import categorical_crossentropy\n",
        "from keras.utils import to_categorical\n",
        "from keras.wrappers.scikit_learn import KerasClassifier\n",
        "from keras.layers import DenseFeatures\n",
        "\n",
        "from sklearn.model_selection import cross_val_score\n",
        "from sklearn.model_selection import KFold\n",
        "from keras.layers import Dropout"
      ],
      "execution_count": null,
      "outputs": []
    },
    {
      "cell_type": "code",
      "metadata": {
        "colab": {
          "base_uri": "https://localhost:8080/"
        },
        "id": "LNxYcsImpVK0",
        "outputId": "069a15d2-9539-439d-ffcc-5578ac94986d"
      },
      "source": [
        "num_classes = len(np.unique(y_train)\n",
        ")\n",
        "print(num_classes)\n",
        "\n",
        "num_features = np.shape(X_train_trf1)[1] # number of features\n",
        "num_features"
      ],
      "execution_count": null,
      "outputs": [
        {
          "output_type": "stream",
          "text": [
            "2\n"
          ],
          "name": "stdout"
        },
        {
          "output_type": "execute_result",
          "data": {
            "text/plain": [
              "27"
            ]
          },
          "metadata": {
            "tags": []
          },
          "execution_count": 26
        }
      ]
    },
    {
      "cell_type": "markdown",
      "metadata": {
        "id": "OhtorMyeryww"
      },
      "source": [
        "# Define Plotting Functions & Training Functions"
      ]
    },
    {
      "cell_type": "code",
      "metadata": {
        "id": "uPs6TVpQrxaY"
      },
      "source": [
        "# Fitting & Plotting Functions\n",
        "def train_model(model, X_train, y_train, \n",
        "                X_val,y_val, epochs,\n",
        "                batch_size=None):\n",
        "  \"\"\"Train the model by feeding it data.\"\"\"\n",
        "\n",
        "  history = model.fit(x=X_train, y=y_train, batch_size=batch_size,\n",
        "                      epochs=epochs, shuffle=True, \n",
        "                      validation_data=(X_val, y_val)\n",
        "                      )\n",
        "  \n",
        "  return history   \n",
        "\n",
        "def plot_curve(hist):\n",
        "  \"\"\"Plot a curve of one or more classification metrics vs. epoch.\"\"\"  \n",
        "  # list_of_metrics should be one of the names shown in:\n",
        "  # https://www.tensorflow.org/tutorials/structured_data/imbalanced_data#define_the_model_and_metrics  \n",
        "\n",
        "  epochs = hist.epoch\n",
        "  f, ax = plt.subplots(nrows = 2, ncols=2, figsize=(12,12))\n",
        "  ax[0,0].plot(epochs, hist.history['loss'], label='Training Loss')\n",
        "  ax[0,0].plot(epochs, hist.history['val_loss'], label='Validation Loss')\n",
        "  ax[0,0].set_xlabel('Epochs')\n",
        "  ax[0,0].set_ylabel('Loss')\n",
        "  ax[0,0].legend()\n",
        "\n",
        "  ax[0,1].plot(epochs, hist.history['auc'], label='Training AUC')\n",
        "  ax[0,1].plot(epochs, hist.history['val_auc'], label='Validation AUC')\n",
        "  ax[0,1].set_xlabel('Epochs')\n",
        "  ax[0,1].set_ylabel('AUC')\n",
        "  ax[0,1].legend() \n",
        "\n",
        "  ax[1,0].plot(epochs, hist.history['precision'], label='Training Precision')\n",
        "  ax[1,0].plot(epochs, hist.history['val_precision'], label='Validation Precision')\n",
        "  ax[1,0].set_xlabel('Epochs')\n",
        "  ax[1,0].set_ylabel('Precision')\n",
        "  ax[1,0].legend() \n",
        "\n",
        "  ax[1,1].plot(epochs, hist.history['recall'], label='Training Recall')\n",
        "  ax[1,1].plot(epochs, hist.history['val_recall'], label='Validation Recall')\n",
        "  ax[1,1].set_xlabel('Epochs')\n",
        "  ax[1,1].set_ylabel('Recall')\n",
        "  ax[1,1].legend() "
      ],
      "execution_count": null,
      "outputs": []
    },
    {
      "cell_type": "markdown",
      "metadata": {
        "id": "pPO1Bhfpr4RO"
      },
      "source": [
        "# Deep Learning NN\n",
        "\n",
        "# Deep Learning NN\n",
        "\n",
        "**Metric to focus is probably Precision**\n",
        "![image.png](data:image/png;base64,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)\n",
        "\n",
        "**Compared to Recall**\n",
        "![image.png](data:image/png;base64,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)"
      ]
    },
    {
      "cell_type": "code",
      "metadata": {
        "id": "5u-PZ1ZMvewm"
      },
      "source": [
        "from keras.metrics import AUC\n",
        "from keras.metrics import Precision\n",
        "from keras.metrics import Recall\n",
        "from keras.optimizers import Adam"
      ],
      "execution_count": null,
      "outputs": []
    },
    {
      "cell_type": "markdown",
      "metadata": {
        "id": "1YNqLS5Fzje9"
      },
      "source": [
        "# Hyperparameter Tuning \n",
        "\n",
        "Bayesian Optimization Approach:\n",
        "https://neptune.ai/blog/keras-tuner-tuning-hyperparameters-deep-learning-model"
      ]
    },
    {
      "cell_type": "code",
      "metadata": {
        "id": "vaCJd0T8rBkM",
        "colab": {
          "base_uri": "https://localhost:8080/"
        },
        "outputId": "1fbc9c1c-844b-4fad-c0a8-b3460ff336e1"
      },
      "source": [
        "!pip install -q -U keras-tuner\n",
        "from kerastuner.tuners import RandomSearch\n",
        "from kerastuner.engine.hypermodel import HyperModel\n",
        "from kerastuner.engine.hyperparameters import HyperParameters"
      ],
      "execution_count": null,
      "outputs": [
        {
          "output_type": "stream",
          "text": [
            "  Building wheel for keras-tuner (setup.py) ... \u001b[?25l\u001b[?25hdone\n",
            "  Building wheel for terminaltables (setup.py) ... \u001b[?25l\u001b[?25hdone\n"
          ],
          "name": "stdout"
        }
      ]
    },
    {
      "cell_type": "code",
      "metadata": {
        "id": "DhcBGWDSgAZ1"
      },
      "source": [
        "def build_model(hp):\n",
        "  # create model\n",
        "  model = Sequential()\n",
        "\n",
        "  # Define input layer, and first hidden layer\n",
        "  # neurons for first hidden layer\n",
        "  model.add(Dense(hp.Int('first layer', \n",
        "                                   min_value =20, \n",
        "                                   max_value = 1000,\n",
        "                                   step = 50), input_dim=num_features, activation='relu')\n",
        "  )\n",
        "\n",
        "  # Define 2nd hidden (Dense) layers onward\n",
        "  # Tune layers, neurons\n",
        "  for i in range(hp.Int('num_layers', 2, 20)):\n",
        "      model.add(Dense(units=hp.Int('units_' + str(i), \n",
        "                                   min_value =20, \n",
        "                                   max_value = 1000,\n",
        "                                   step = 50),\n",
        "                      activation='relu', \n",
        "                      name=f'Hidden{i}')\n",
        "      )\n",
        "      # Add drop out layers to 5th hidden layer\n",
        "      if i == 4:\n",
        "        model.add(Dropout(rate=0.25)\n",
        "        )\n",
        "\n",
        "  # Define output layer\n",
        "  model.add(Dense(1, activation='sigmoid')\n",
        "  )\n",
        "\n",
        "  hp_learning_rate = hp.Choice('learning_rate', values=[0.2, 0.1, 1e-2, 1e-3, 1e-4])\n",
        "\n",
        "  # Compile model\n",
        "  # Tune learning rate at optimizer\n",
        "  model.compile(loss='binary_crossentropy', \n",
        "                  optimizer=Adam(learning_rate=hp_learning_rate), \n",
        "                  metrics=[AUC(),Precision(), Recall()]\n",
        "                  )\n",
        "  return model"
      ],
      "execution_count": null,
      "outputs": []
    },
    {
      "cell_type": "markdown",
      "metadata": {
        "id": "qN9yhu-7iwxI"
      },
      "source": [
        "# Hyperparameter Tuning using Random Search"
      ]
    },
    {
      "cell_type": "code",
      "metadata": {
        "id": "E0ljZWy73--8"
      },
      "source": [
        "from kerastuner import Objective\n",
        "from keras.callbacks import EarlyStopping"
      ],
      "execution_count": null,
      "outputs": []
    },
    {
      "cell_type": "markdown",
      "metadata": {
        "id": "zz-vF3HE41ib"
      },
      "source": [
        "Try batch size = 500"
      ]
    },
    {
      "cell_type": "code",
      "metadata": {
        "colab": {
          "base_uri": "https://localhost:8080/"
        },
        "id": "kRagyANY0ezd",
        "outputId": "c2f70de1-c824-432b-8272-ddcc823375c7"
      },
      "source": [
        "tuner = RandomSearch(\n",
        "    build_model,\n",
        "    objective = Objective(\"val_loss\", direction=\"min\"),\n",
        "     max_trials=20,\n",
        "     directory='olddir_1') # each time you run random search, chnage directory name\n",
        "\n",
        "stop_early = EarlyStopping(monitor='val_loss', patience=7)\n",
        "\n",
        "tuner.search(x=X_train_trf1,\n",
        "             y=y_train,\n",
        "             batch_size = 500,\n",
        "             epochs = 100,\n",
        "             validation_data=(X_val_trf1, y_val)\n",
        "             ,callbacks = [stop_early]\n",
        "             )\n"
      ],
      "execution_count": null,
      "outputs": [
        {
          "output_type": "stream",
          "text": [
            "Trial 20 Complete [00h 00m 26s]\n",
            "val_loss: 0.6252050995826721\n",
            "\n",
            "Best val_loss So Far: 0.5612913370132446\n",
            "Total elapsed time: 00h 38m 18s\n",
            "INFO:tensorflow:Oracle triggered exit\n"
          ],
          "name": "stdout"
        }
      ]
    },
    {
      "cell_type": "code",
      "metadata": {
        "colab": {
          "base_uri": "https://localhost:8080/"
        },
        "id": "z6gtscyQ2hcu",
        "outputId": "dda0e0dd-73f3-412b-f869-2096afc84c25"
      },
      "source": [
        "tuner.hypermodel.build(tuner.get_best_hyperparameters()[0]).summary()\n"
      ],
      "execution_count": null,
      "outputs": [
        {
          "output_type": "stream",
          "text": [
            "Model: \"sequential\"\n",
            "_________________________________________________________________\n",
            "Layer (type)                 Output Shape              Param #   \n",
            "=================================================================\n",
            "dense (Dense)                (None, 720)               20160     \n",
            "_________________________________________________________________\n",
            "Hidden0 (Dense)              (None, 120)               86520     \n",
            "_________________________________________________________________\n",
            "Hidden1 (Dense)              (None, 570)               68970     \n",
            "_________________________________________________________________\n",
            "Hidden2 (Dense)              (None, 820)               468220    \n",
            "_________________________________________________________________\n",
            "Hidden3 (Dense)              (None, 120)               98520     \n",
            "_________________________________________________________________\n",
            "Hidden4 (Dense)              (None, 920)               111320    \n",
            "_________________________________________________________________\n",
            "dropout (Dropout)            (None, 920)               0         \n",
            "_________________________________________________________________\n",
            "Hidden5 (Dense)              (None, 770)               709170    \n",
            "_________________________________________________________________\n",
            "Hidden6 (Dense)              (None, 170)               131070    \n",
            "_________________________________________________________________\n",
            "Hidden7 (Dense)              (None, 570)               97470     \n",
            "_________________________________________________________________\n",
            "Hidden8 (Dense)              (None, 120)               68520     \n",
            "_________________________________________________________________\n",
            "Hidden9 (Dense)              (None, 120)               14520     \n",
            "_________________________________________________________________\n",
            "Hidden10 (Dense)             (None, 520)               62920     \n",
            "_________________________________________________________________\n",
            "dense_1 (Dense)              (None, 1)                 521       \n",
            "=================================================================\n",
            "Total params: 1,937,901\n",
            "Trainable params: 1,937,901\n",
            "Non-trainable params: 0\n",
            "_________________________________________________________________\n"
          ],
          "name": "stdout"
        }
      ]
    },
    {
      "cell_type": "code",
      "metadata": {
        "colab": {
          "base_uri": "https://localhost:8080/"
        },
        "id": "6D-DIGA1qnch",
        "outputId": "a13daedb-3150-4ee4-acf7-c945dd5bfcb9"
      },
      "source": [
        "tuner.get_best_models()[0].summary()"
      ],
      "execution_count": null,
      "outputs": [
        {
          "output_type": "stream",
          "text": [
            "Model: \"sequential\"\n",
            "_________________________________________________________________\n",
            "Layer (type)                 Output Shape              Param #   \n",
            "=================================================================\n",
            "dense (Dense)                (None, 720)               20160     \n",
            "_________________________________________________________________\n",
            "Hidden0 (Dense)              (None, 120)               86520     \n",
            "_________________________________________________________________\n",
            "Hidden1 (Dense)              (None, 570)               68970     \n",
            "_________________________________________________________________\n",
            "Hidden2 (Dense)              (None, 820)               468220    \n",
            "_________________________________________________________________\n",
            "Hidden3 (Dense)              (None, 120)               98520     \n",
            "_________________________________________________________________\n",
            "Hidden4 (Dense)              (None, 920)               111320    \n",
            "_________________________________________________________________\n",
            "dropout (Dropout)            (None, 920)               0         \n",
            "_________________________________________________________________\n",
            "Hidden5 (Dense)              (None, 770)               709170    \n",
            "_________________________________________________________________\n",
            "Hidden6 (Dense)              (None, 170)               131070    \n",
            "_________________________________________________________________\n",
            "Hidden7 (Dense)              (None, 570)               97470     \n",
            "_________________________________________________________________\n",
            "Hidden8 (Dense)              (None, 120)               68520     \n",
            "_________________________________________________________________\n",
            "Hidden9 (Dense)              (None, 120)               14520     \n",
            "_________________________________________________________________\n",
            "Hidden10 (Dense)             (None, 520)               62920     \n",
            "_________________________________________________________________\n",
            "dense_1 (Dense)              (None, 1)                 521       \n",
            "=================================================================\n",
            "Total params: 1,937,901\n",
            "Trainable params: 1,937,901\n",
            "Non-trainable params: 0\n",
            "_________________________________________________________________\n",
            "WARNING:tensorflow:Unresolved object in checkpoint: (root).optimizer.iter\n",
            "WARNING:tensorflow:Unresolved object in checkpoint: (root).optimizer.beta_1\n",
            "WARNING:tensorflow:Unresolved object in checkpoint: (root).optimizer.beta_2\n",
            "WARNING:tensorflow:Unresolved object in checkpoint: (root).optimizer.decay\n",
            "WARNING:tensorflow:Unresolved object in checkpoint: (root).optimizer.learning_rate\n",
            "WARNING:tensorflow:A checkpoint was restored (e.g. tf.train.Checkpoint.restore or tf.keras.Model.load_weights) but not all checkpointed values were used. See above for specific issues. Use expect_partial() on the load status object, e.g. tf.train.Checkpoint.restore(...).expect_partial(), to silence these warnings, or use assert_consumed() to make the check explicit. See https://www.tensorflow.org/guide/checkpoint#loading_mechanics for details.\n"
          ],
          "name": "stdout"
        }
      ]
    },
    {
      "cell_type": "code",
      "metadata": {
        "colab": {
          "base_uri": "https://localhost:8080/"
        },
        "id": "2fabRUzH3IaM",
        "outputId": "48df20e1-eb00-4955-c229-90126dbd9c1b"
      },
      "source": [
        "best_model_rs = tuner.get_best_models()[0]\n",
        "\n",
        "# After building a model against the training set, test that model\n",
        "# against the val set.\n",
        "result = best_model_rs.evaluate(x=X_val_trf1, \n",
        "                  y=y_val, \n",
        "                  batch_size=500)\n",
        "for item in zip(best_model_rs.metrics_names, result):\n",
        "  print (item[0], item[1])"
      ],
      "execution_count": null,
      "outputs": [
        {
          "output_type": "stream",
          "text": [
            "83/83 [==============================] - 1s 4ms/step - loss: 0.5599 - auc: 0.7166 - precision: 0.6025 - recall: 0.2771\n",
            "loss 0.5612913370132446\n",
            "auc 0.7146475315093994\n",
            "precision 0.597917377948761\n",
            "recall 0.2729015052318573\n"
          ],
          "name": "stdout"
        }
      ]
    },
    {
      "cell_type": "code",
      "metadata": {
        "id": "Kq2pXxG9pXP5",
        "colab": {
          "base_uri": "https://localhost:8080/"
        },
        "outputId": "6f102d69-8f11-45a1-b434-380c7ea94920"
      },
      "source": [
        "#best_model_rs.save('best_model_rs.h5')\n",
        "best_model_rs = keras.models.load_model('/content/drive/My Drive/Colab Notebooks/best_model_rs.h5')"
      ],
      "execution_count": null,
      "outputs": [
        {
          "output_type": "stream",
          "text": [
            "WARNING:tensorflow:Error in loading the saved optimizer state. As a result, your model is starting with a freshly initialized optimizer.\n"
          ],
          "name": "stdout"
        }
      ]
    },
    {
      "cell_type": "markdown",
      "metadata": {
        "id": "RVKUZRb6RYGX"
      },
      "source": [
        "Changing to Bayesian Optimization"
      ]
    },
    {
      "cell_type": "code",
      "metadata": {
        "id": "H7oNBRVw7oJA"
      },
      "source": [
        "from kerastuner.tuners import BayesianOptimization"
      ],
      "execution_count": null,
      "outputs": []
    },
    {
      "cell_type": "code",
      "metadata": {
        "colab": {
          "base_uri": "https://localhost:8080/"
        },
        "id": "ct45aaAr5PFN",
        "outputId": "0404d37f-e36b-40e6-fc86-a9167207d9d2"
      },
      "source": [
        "class MyTuner(BayesianOptimization):\n",
        "  def run_trial(self, trial, *args, **kwargs):\n",
        "    # You can add additional HyperParameters for preprocessing and custom training loops\n",
        "    # via overriding `run_trial`\n",
        "    kwargs['batch_size'] = trial.hyperparameters.Int('batch_size', 100, 1000, step=150)\n",
        "    kwargs['epochs'] = trial.hyperparameters.Int('epochs', 50, 130, step = 20)\n",
        "    super(MyTuner, self).run_trial(trial, *args, **kwargs)\n",
        "\n",
        "# Uses same arguments as the BayesianOptimization Tuner.\n",
        "tuner_bo = MyTuner(build_model,\n",
        "    objective = Objective(\"val_loss\", direction=\"min\"),\n",
        "            max_trials=10,\n",
        "            seed=42,\n",
        "            executions_per_trial=5)\n",
        "\n",
        "stop_early = EarlyStopping(monitor='val_loss', patience=7)\n",
        "\n",
        "# Don't pass epochs or batch_size here, let the Tuner tune them.\n",
        "tuner_bo.search(x=X_train_trf1,\n",
        "             y=y_train,\n",
        "             validation_data=(X_val_trf1, y_val),\n",
        "             callbacks = [stop_early]\n",
        "             )"
      ],
      "execution_count": null,
      "outputs": [
        {
          "output_type": "stream",
          "text": [
            "Trial 10 Complete [00h 06m 13s]\n",
            "val_loss: 0.5652147173881531\n",
            "\n",
            "Best val_loss So Far: 0.5622292995452881\n",
            "Total elapsed time: 01h 42m 23s\n",
            "INFO:tensorflow:Oracle triggered exit\n"
          ],
          "name": "stdout"
        }
      ]
    },
    {
      "cell_type": "code",
      "metadata": {
        "colab": {
          "base_uri": "https://localhost:8080/"
        },
        "id": "vxWTCRIH1SMA",
        "outputId": "bc31c928-47a4-4d68-fa90-d761dfdd400c"
      },
      "source": [
        "tuner_bo.get_best_hyperparameters()[0].values"
      ],
      "execution_count": null,
      "outputs": [
        {
          "output_type": "execute_result",
          "data": {
            "text/plain": [
              "{'batch_size': 1000,\n",
              " 'epochs': 130,\n",
              " 'first layer': 970,\n",
              " 'learning_rate': 0.0001,\n",
              " 'num_layers': 2,\n",
              " 'units_0': 970,\n",
              " 'units_1': 970,\n",
              " 'units_10': 970,\n",
              " 'units_11': 970,\n",
              " 'units_2': 20,\n",
              " 'units_3': 970,\n",
              " 'units_4': 970,\n",
              " 'units_5': 970,\n",
              " 'units_6': 970,\n",
              " 'units_7': 970,\n",
              " 'units_8': 970,\n",
              " 'units_9': 970}"
            ]
          },
          "metadata": {
            "tags": []
          },
          "execution_count": 28
        }
      ]
    },
    {
      "cell_type": "code",
      "metadata": {
        "id": "bm98nPzRXImO",
        "colab": {
          "base_uri": "https://localhost:8080/",
          "height": 235
        },
        "outputId": "2e4c4eba-c166-4a5f-8545-184a7eba343c"
      },
      "source": [
        "best_model_bo = tuner_bo.get_best_models()[0]\n",
        "\n",
        "# After building a model against the training set, test that model\n",
        "# against the val set.\n",
        "result = tuner_bo.evaluate(x=X_val_trf1, \n",
        "                  y=y_val, \n",
        "                  batch_size=500) #set batch size from previous block of code manually\n",
        "for item in zip(best_model_bo.metrics_names, result):\n",
        "  print (item[0], item[1])"
      ],
      "execution_count": null,
      "outputs": [
        {
          "output_type": "error",
          "ename": "AttributeError",
          "evalue": "ignored",
          "traceback": [
            "\u001b[0;31m---------------------------------------------------------------------------\u001b[0m",
            "\u001b[0;31mAttributeError\u001b[0m                            Traceback (most recent call last)",
            "\u001b[0;32m<ipython-input-29-f5277222f981>\u001b[0m in \u001b[0;36m<module>\u001b[0;34m()\u001b[0m\n\u001b[1;32m      3\u001b[0m \u001b[0;31m# After building a model against the training set, test that model\u001b[0m\u001b[0;34m\u001b[0m\u001b[0;34m\u001b[0m\u001b[0;34m\u001b[0m\u001b[0m\n\u001b[1;32m      4\u001b[0m \u001b[0;31m# against the val set.\u001b[0m\u001b[0;34m\u001b[0m\u001b[0;34m\u001b[0m\u001b[0;34m\u001b[0m\u001b[0m\n\u001b[0;32m----> 5\u001b[0;31m result = tuner_bo.evaluate(x=X_val_trf1, \n\u001b[0m\u001b[1;32m      6\u001b[0m                   \u001b[0my\u001b[0m\u001b[0;34m=\u001b[0m\u001b[0my_val\u001b[0m\u001b[0;34m,\u001b[0m\u001b[0;34m\u001b[0m\u001b[0;34m\u001b[0m\u001b[0m\n\u001b[1;32m      7\u001b[0m                   batch_size=500) #set batch size from previous block of code manually\n",
            "\u001b[0;31mAttributeError\u001b[0m: 'MyTuner' object has no attribute 'evaluate'"
          ]
        }
      ]
    },
    {
      "cell_type": "code",
      "metadata": {
        "colab": {
          "base_uri": "https://localhost:8080/"
        },
        "id": "N8rogpbm3Uwz",
        "outputId": "287dcb0f-375c-4d3b-ecb3-6069276e6e8f"
      },
      "source": [
        "best_hps_bo = tuner_bo.get_best_hyperparameters()[0]\n",
        "best_model_bo = tuner_bo.hypermodel.build(best_hps_bo)\n",
        "best_model_bo.summary() # equivalent to tuner_bo.get_best_models()[0].summary()\n"
      ],
      "execution_count": null,
      "outputs": [
        {
          "output_type": "stream",
          "text": [
            "WARNING:tensorflow:Unresolved object in checkpoint: (root).optimizer.iter\n",
            "WARNING:tensorflow:Unresolved object in checkpoint: (root).optimizer.beta_1\n",
            "WARNING:tensorflow:Unresolved object in checkpoint: (root).optimizer.beta_2\n",
            "WARNING:tensorflow:Unresolved object in checkpoint: (root).optimizer.decay\n",
            "WARNING:tensorflow:Unresolved object in checkpoint: (root).optimizer.learning_rate\n",
            "WARNING:tensorflow:A checkpoint was restored (e.g. tf.train.Checkpoint.restore or tf.keras.Model.load_weights) but not all checkpointed values were used. See above for specific issues. Use expect_partial() on the load status object, e.g. tf.train.Checkpoint.restore(...).expect_partial(), to silence these warnings, or use assert_consumed() to make the check explicit. See https://www.tensorflow.org/guide/checkpoint#loading_mechanics for details.\n",
            "Model: \"sequential\"\n",
            "_________________________________________________________________\n",
            "Layer (type)                 Output Shape              Param #   \n",
            "=================================================================\n",
            "dense (Dense)                (None, 970)               27160     \n",
            "_________________________________________________________________\n",
            "Hidden0 (Dense)              (None, 970)               941870    \n",
            "_________________________________________________________________\n",
            "Hidden1 (Dense)              (None, 970)               941870    \n",
            "_________________________________________________________________\n",
            "dense_1 (Dense)              (None, 1)                 971       \n",
            "=================================================================\n",
            "Total params: 1,911,871\n",
            "Trainable params: 1,911,871\n",
            "Non-trainable params: 0\n",
            "_________________________________________________________________\n"
          ],
          "name": "stdout"
        }
      ]
    },
    {
      "cell_type": "code",
      "metadata": {
        "id": "UY3BbH6R-fTN"
      },
      "source": [
        "# Export your models & weights. Remember to download them from the folder tab on the left\n",
        "best_model_bo.save('best_model_bo.h5')\n",
        "#best_model_bo = keras.models.load_model('/content/drive/My Drive/Colab Notebooks/best_model_bo.h5').summary()"
      ],
      "execution_count": null,
      "outputs": []
    },
    {
      "cell_type": "markdown",
      "metadata": {
        "id": "HYEM1xnU5Jls"
      },
      "source": [
        "# Choose Neural Network based on validation precision"
      ]
    },
    {
      "cell_type": "markdown",
      "metadata": {
        "id": "GMjA461fvPNr"
      },
      "source": [
        "**Random Search Model**\n"
      ]
    },
    {
      "cell_type": "code",
      "metadata": {
        "id": "rrzTy816XYKx",
        "colab": {
          "base_uri": "https://localhost:8080/",
          "height": 201
        },
        "outputId": "7b959654-3d5b-4d3b-f2f2-6c7f9f123bb0"
      },
      "source": [
        "# Import your models \n",
        "\n",
        "best_model_rs = keras.models.load_model('/content/drive/My Drive/Colab Notebooks/best_model_rs.h5')"
      ],
      "execution_count": null,
      "outputs": [
        {
          "output_type": "error",
          "ename": "NameError",
          "evalue": "ignored",
          "traceback": [
            "\u001b[0;31m---------------------------------------------------------------------------\u001b[0m",
            "\u001b[0;31mNameError\u001b[0m                                 Traceback (most recent call last)",
            "\u001b[0;32m<ipython-input-7-ee989270bc3f>\u001b[0m in \u001b[0;36m<module>\u001b[0;34m()\u001b[0m\n\u001b[1;32m      1\u001b[0m \u001b[0;31m# Import your models\u001b[0m\u001b[0;34m\u001b[0m\u001b[0;34m\u001b[0m\u001b[0;34m\u001b[0m\u001b[0m\n\u001b[1;32m      2\u001b[0m \u001b[0;31m#best_model_bo = keras.models.load_model('/content/drive/My Drive/Colab Notebooks/best_model_bo.h5')\u001b[0m\u001b[0;34m\u001b[0m\u001b[0;34m\u001b[0m\u001b[0;34m\u001b[0m\u001b[0m\n\u001b[0;32m----> 3\u001b[0;31m \u001b[0mbest_model_rs\u001b[0m \u001b[0;34m=\u001b[0m \u001b[0mkeras\u001b[0m\u001b[0;34m.\u001b[0m\u001b[0mmodels\u001b[0m\u001b[0;34m.\u001b[0m\u001b[0mload_model\u001b[0m\u001b[0;34m(\u001b[0m\u001b[0;34m'/content/drive/My Drive/Colab Notebooks/best_model_rs.h5'\u001b[0m\u001b[0;34m)\u001b[0m\u001b[0;34m\u001b[0m\u001b[0;34m\u001b[0m\u001b[0m\n\u001b[0m",
            "\u001b[0;31mNameError\u001b[0m: name 'keras' is not defined"
          ]
        }
      ]
    },
    {
      "cell_type": "code",
      "metadata": {
        "colab": {
          "base_uri": "https://localhost:8080/"
        },
        "id": "bkQ4E9lU_PXN",
        "outputId": "6eb20079-c35e-450d-8c60-44a74a46c389"
      },
      "source": [
        "# The following variables are the hyperparameters.\n",
        "lr = 0.01\n",
        "epochs = 80\n",
        "batch_size = 500\n",
        "\n",
        "\n",
        "# Train the best model from  Random Search on training set.\n",
        "hist = train_model(best_model_rs, X_train_trf1, y_train, \n",
        "                   X_val_trf1, y_val, \n",
        "                   epochs, batch_size)\n"
      ],
      "execution_count": null,
      "outputs": [
        {
          "output_type": "stream",
          "text": [
            "Epoch 1/80\n",
            "466/466 [==============================] - 11s 17ms/step - loss: 0.5469 - auc: 0.7349 - precision: 0.6090 - recall: 0.3351 - val_loss: 0.5629 - val_auc: 0.7140 - val_precision: 0.5736 - val_recall: 0.3172\n",
            "Epoch 2/80\n",
            "466/466 [==============================] - 7s 15ms/step - loss: 0.5466 - auc: 0.7354 - precision: 0.6090 - recall: 0.3334 - val_loss: 0.5644 - val_auc: 0.7125 - val_precision: 0.5610 - val_recall: 0.3680\n",
            "Epoch 3/80\n",
            "466/466 [==============================] - 7s 15ms/step - loss: 0.5462 - auc: 0.7358 - precision: 0.6110 - recall: 0.3298 - val_loss: 0.5629 - val_auc: 0.7139 - val_precision: 0.5774 - val_recall: 0.3132\n",
            "Epoch 4/80\n",
            "466/466 [==============================] - 7s 15ms/step - loss: 0.5455 - auc: 0.7367 - precision: 0.6128 - recall: 0.3281 - val_loss: 0.5652 - val_auc: 0.7114 - val_precision: 0.5687 - val_recall: 0.3395\n",
            "Epoch 5/80\n",
            "466/466 [==============================] - 7s 15ms/step - loss: 0.5455 - auc: 0.7368 - precision: 0.6082 - recall: 0.3409 - val_loss: 0.5684 - val_auc: 0.7124 - val_precision: 0.5614 - val_recall: 0.3638\n",
            "Epoch 6/80\n",
            "466/466 [==============================] - 7s 15ms/step - loss: 0.5450 - auc: 0.7375 - precision: 0.6113 - recall: 0.3361 - val_loss: 0.5678 - val_auc: 0.7136 - val_precision: 0.5966 - val_recall: 0.2787\n",
            "Epoch 7/80\n",
            "466/466 [==============================] - 7s 15ms/step - loss: 0.5449 - auc: 0.7375 - precision: 0.6101 - recall: 0.3371 - val_loss: 0.5626 - val_auc: 0.7137 - val_precision: 0.5886 - val_recall: 0.2853\n",
            "Epoch 8/80\n",
            "466/466 [==============================] - 7s 15ms/step - loss: 0.5443 - auc: 0.7384 - precision: 0.6134 - recall: 0.3327 - val_loss: 0.5639 - val_auc: 0.7128 - val_precision: 0.5668 - val_recall: 0.3309\n",
            "Epoch 9/80\n",
            "466/466 [==============================] - 7s 15ms/step - loss: 0.5440 - auc: 0.7388 - precision: 0.6103 - recall: 0.3416 - val_loss: 0.5692 - val_auc: 0.7138 - val_precision: 0.5817 - val_recall: 0.3034\n",
            "Epoch 10/80\n",
            "466/466 [==============================] - 7s 15ms/step - loss: 0.5436 - auc: 0.7394 - precision: 0.6125 - recall: 0.3430 - val_loss: 0.5633 - val_auc: 0.7128 - val_precision: 0.5798 - val_recall: 0.3184\n",
            "Epoch 11/80\n",
            "466/466 [==============================] - 7s 14ms/step - loss: 0.5433 - auc: 0.7399 - precision: 0.6118 - recall: 0.3437 - val_loss: 0.5675 - val_auc: 0.7119 - val_precision: 0.5579 - val_recall: 0.3617\n",
            "Epoch 12/80\n",
            "466/466 [==============================] - 7s 14ms/step - loss: 0.5428 - auc: 0.7405 - precision: 0.6105 - recall: 0.3565 - val_loss: 0.5657 - val_auc: 0.7132 - val_precision: 0.5777 - val_recall: 0.3087\n",
            "Epoch 13/80\n",
            "466/466 [==============================] - 7s 14ms/step - loss: 0.5425 - auc: 0.7408 - precision: 0.6066 - recall: 0.3613 - val_loss: 0.5635 - val_auc: 0.7139 - val_precision: 0.5783 - val_recall: 0.3158\n",
            "Epoch 14/80\n",
            "466/466 [==============================] - 7s 14ms/step - loss: 0.5421 - auc: 0.7414 - precision: 0.6154 - recall: 0.3451 - val_loss: 0.5634 - val_auc: 0.7130 - val_precision: 0.5723 - val_recall: 0.3120\n",
            "Epoch 15/80\n",
            "466/466 [==============================] - 7s 14ms/step - loss: 0.5421 - auc: 0.7413 - precision: 0.6084 - recall: 0.3635 - val_loss: 0.5635 - val_auc: 0.7139 - val_precision: 0.5639 - val_recall: 0.3494\n",
            "Epoch 16/80\n",
            "466/466 [==============================] - 7s 14ms/step - loss: 0.5415 - auc: 0.7422 - precision: 0.6067 - recall: 0.3653 - val_loss: 0.5651 - val_auc: 0.7134 - val_precision: 0.5578 - val_recall: 0.3674\n",
            "Epoch 17/80\n",
            "466/466 [==============================] - 7s 14ms/step - loss: 0.5409 - auc: 0.7428 - precision: 0.6097 - recall: 0.3652 - val_loss: 0.5658 - val_auc: 0.7149 - val_precision: 0.5697 - val_recall: 0.3247\n",
            "Epoch 18/80\n",
            "466/466 [==============================] - 7s 15ms/step - loss: 0.5410 - auc: 0.7427 - precision: 0.6109 - recall: 0.3575 - val_loss: 0.5633 - val_auc: 0.7124 - val_precision: 0.5932 - val_recall: 0.2747\n",
            "Epoch 19/80\n",
            "466/466 [==============================] - 7s 14ms/step - loss: 0.5403 - auc: 0.7437 - precision: 0.6156 - recall: 0.3485 - val_loss: 0.5719 - val_auc: 0.7128 - val_precision: 0.5570 - val_recall: 0.3638\n",
            "Epoch 20/80\n",
            "466/466 [==============================] - 7s 14ms/step - loss: 0.5402 - auc: 0.7436 - precision: 0.6138 - recall: 0.3556 - val_loss: 0.5689 - val_auc: 0.7083 - val_precision: 0.5603 - val_recall: 0.3540\n",
            "Epoch 21/80\n",
            "466/466 [==============================] - 7s 14ms/step - loss: 0.5400 - auc: 0.7441 - precision: 0.6169 - recall: 0.3484 - val_loss: 0.5658 - val_auc: 0.7139 - val_precision: 0.5731 - val_recall: 0.3284\n",
            "Epoch 22/80\n",
            "466/466 [==============================] - 7s 14ms/step - loss: 0.5394 - auc: 0.7448 - precision: 0.6177 - recall: 0.3506 - val_loss: 0.5646 - val_auc: 0.7132 - val_precision: 0.5758 - val_recall: 0.3119\n",
            "Epoch 23/80\n",
            "466/466 [==============================] - 7s 14ms/step - loss: 0.5390 - auc: 0.7453 - precision: 0.6103 - recall: 0.3659 - val_loss: 0.5636 - val_auc: 0.7139 - val_precision: 0.5589 - val_recall: 0.3611\n",
            "Epoch 24/80\n",
            "466/466 [==============================] - 7s 14ms/step - loss: 0.5387 - auc: 0.7456 - precision: 0.6154 - recall: 0.3610 - val_loss: 0.5659 - val_auc: 0.7127 - val_precision: 0.5900 - val_recall: 0.2739\n",
            "Epoch 25/80\n",
            "466/466 [==============================] - 7s 14ms/step - loss: 0.5382 - auc: 0.7461 - precision: 0.6161 - recall: 0.3601 - val_loss: 0.5665 - val_auc: 0.7128 - val_precision: 0.5648 - val_recall: 0.3400\n",
            "Epoch 26/80\n",
            "466/466 [==============================] - 7s 14ms/step - loss: 0.5381 - auc: 0.7463 - precision: 0.6161 - recall: 0.3632 - val_loss: 0.5662 - val_auc: 0.7124 - val_precision: 0.5914 - val_recall: 0.2726\n",
            "Epoch 27/80\n",
            "466/466 [==============================] - 7s 14ms/step - loss: 0.5376 - auc: 0.7472 - precision: 0.6200 - recall: 0.3516 - val_loss: 0.5684 - val_auc: 0.7128 - val_precision: 0.5580 - val_recall: 0.3567\n",
            "Epoch 28/80\n",
            "466/466 [==============================] - 7s 14ms/step - loss: 0.5373 - auc: 0.7474 - precision: 0.6181 - recall: 0.3607 - val_loss: 0.5630 - val_auc: 0.7147 - val_precision: 0.5809 - val_recall: 0.3067\n",
            "Epoch 29/80\n",
            "466/466 [==============================] - 7s 14ms/step - loss: 0.5368 - auc: 0.7481 - precision: 0.6155 - recall: 0.3690 - val_loss: 0.5655 - val_auc: 0.7124 - val_precision: 0.5811 - val_recall: 0.2957\n",
            "Epoch 30/80\n",
            "466/466 [==============================] - 6s 14ms/step - loss: 0.5365 - auc: 0.7485 - precision: 0.6150 - recall: 0.3670 - val_loss: 0.5692 - val_auc: 0.7113 - val_precision: 0.5750 - val_recall: 0.3128\n",
            "Epoch 31/80\n",
            "466/466 [==============================] - 6s 14ms/step - loss: 0.5361 - auc: 0.7488 - precision: 0.6184 - recall: 0.3648 - val_loss: 0.5674 - val_auc: 0.7120 - val_precision: 0.5785 - val_recall: 0.3148\n",
            "Epoch 32/80\n",
            "466/466 [==============================] - 6s 14ms/step - loss: 0.5359 - auc: 0.7492 - precision: 0.6168 - recall: 0.3697 - val_loss: 0.5655 - val_auc: 0.7132 - val_precision: 0.5762 - val_recall: 0.3146\n",
            "Epoch 33/80\n",
            "466/466 [==============================] - 6s 14ms/step - loss: 0.5355 - auc: 0.7495 - precision: 0.6165 - recall: 0.3664 - val_loss: 0.5663 - val_auc: 0.7140 - val_precision: 0.5549 - val_recall: 0.3667\n",
            "Epoch 34/80\n",
            "466/466 [==============================] - 6s 14ms/step - loss: 0.5348 - auc: 0.7504 - precision: 0.6226 - recall: 0.3578 - val_loss: 0.5657 - val_auc: 0.7119 - val_precision: 0.5785 - val_recall: 0.3102\n",
            "Epoch 35/80\n",
            "466/466 [==============================] - 6s 14ms/step - loss: 0.5346 - auc: 0.7508 - precision: 0.6196 - recall: 0.3688 - val_loss: 0.5673 - val_auc: 0.7124 - val_precision: 0.5630 - val_recall: 0.3432\n",
            "Epoch 36/80\n",
            "466/466 [==============================] - 6s 14ms/step - loss: 0.5345 - auc: 0.7507 - precision: 0.6188 - recall: 0.3730 - val_loss: 0.5683 - val_auc: 0.7120 - val_precision: 0.5696 - val_recall: 0.3324\n",
            "Epoch 37/80\n",
            "466/466 [==============================] - 6s 14ms/step - loss: 0.5343 - auc: 0.7509 - precision: 0.6189 - recall: 0.3716 - val_loss: 0.5648 - val_auc: 0.7125 - val_precision: 0.5809 - val_recall: 0.2990\n",
            "Epoch 38/80\n",
            "466/466 [==============================] - 6s 14ms/step - loss: 0.5334 - auc: 0.7520 - precision: 0.6222 - recall: 0.3676 - val_loss: 0.5675 - val_auc: 0.7119 - val_precision: 0.5681 - val_recall: 0.3360\n",
            "Epoch 39/80\n",
            "466/466 [==============================] - 6s 14ms/step - loss: 0.5335 - auc: 0.7519 - precision: 0.6229 - recall: 0.3689 - val_loss: 0.5679 - val_auc: 0.7129 - val_precision: 0.5455 - val_recall: 0.3962\n",
            "Epoch 40/80\n",
            "466/466 [==============================] - 7s 14ms/step - loss: 0.5326 - auc: 0.7531 - precision: 0.6217 - recall: 0.3695 - val_loss: 0.5687 - val_auc: 0.7114 - val_precision: 0.5974 - val_recall: 0.2684\n",
            "Epoch 41/80\n",
            "466/466 [==============================] - 6s 14ms/step - loss: 0.5328 - auc: 0.7529 - precision: 0.6237 - recall: 0.3674 - val_loss: 0.5697 - val_auc: 0.7117 - val_precision: 0.5699 - val_recall: 0.3289\n",
            "Epoch 42/80\n",
            "466/466 [==============================] - 6s 14ms/step - loss: 0.5322 - auc: 0.7534 - precision: 0.6216 - recall: 0.3708 - val_loss: 0.5683 - val_auc: 0.7113 - val_precision: 0.5826 - val_recall: 0.2954\n",
            "Epoch 43/80\n",
            "466/466 [==============================] - 7s 14ms/step - loss: 0.5315 - auc: 0.7543 - precision: 0.6246 - recall: 0.3692 - val_loss: 0.5714 - val_auc: 0.7129 - val_precision: 0.5740 - val_recall: 0.3091\n",
            "Epoch 44/80\n",
            "466/466 [==============================] - 7s 14ms/step - loss: 0.5312 - auc: 0.7546 - precision: 0.6242 - recall: 0.3682 - val_loss: 0.5700 - val_auc: 0.7137 - val_precision: 0.5740 - val_recall: 0.3076\n",
            "Epoch 45/80\n",
            "466/466 [==============================] - 7s 14ms/step - loss: 0.5309 - auc: 0.7550 - precision: 0.6279 - recall: 0.3672 - val_loss: 0.5699 - val_auc: 0.7127 - val_precision: 0.5657 - val_recall: 0.3226\n",
            "Epoch 46/80\n",
            "466/466 [==============================] - 7s 14ms/step - loss: 0.5307 - auc: 0.7551 - precision: 0.6309 - recall: 0.3587 - val_loss: 0.5695 - val_auc: 0.7126 - val_precision: 0.5575 - val_recall: 0.3539\n",
            "Epoch 47/80\n",
            "466/466 [==============================] - 6s 14ms/step - loss: 0.5302 - auc: 0.7557 - precision: 0.6278 - recall: 0.3691 - val_loss: 0.5676 - val_auc: 0.7110 - val_precision: 0.5852 - val_recall: 0.2741\n",
            "Epoch 48/80\n",
            "466/466 [==============================] - 6s 14ms/step - loss: 0.5302 - auc: 0.7558 - precision: 0.6261 - recall: 0.3707 - val_loss: 0.5694 - val_auc: 0.7106 - val_precision: 0.5853 - val_recall: 0.2841\n",
            "Epoch 49/80\n",
            "466/466 [==============================] - 6s 14ms/step - loss: 0.5294 - auc: 0.7568 - precision: 0.6268 - recall: 0.3704 - val_loss: 0.5707 - val_auc: 0.7122 - val_precision: 0.5563 - val_recall: 0.3622\n",
            "Epoch 50/80\n",
            "466/466 [==============================] - 7s 14ms/step - loss: 0.5293 - auc: 0.7567 - precision: 0.6245 - recall: 0.3736 - val_loss: 0.5755 - val_auc: 0.7111 - val_precision: 0.5676 - val_recall: 0.3394\n",
            "Epoch 51/80\n",
            "466/466 [==============================] - 6s 14ms/step - loss: 0.5287 - auc: 0.7576 - precision: 0.6272 - recall: 0.3763 - val_loss: 0.5734 - val_auc: 0.7121 - val_precision: 0.5723 - val_recall: 0.3269\n",
            "Epoch 52/80\n",
            "466/466 [==============================] - 7s 14ms/step - loss: 0.5284 - auc: 0.7578 - precision: 0.6270 - recall: 0.3721 - val_loss: 0.5732 - val_auc: 0.7113 - val_precision: 0.5572 - val_recall: 0.3564\n",
            "Epoch 53/80\n",
            "466/466 [==============================] - 6s 14ms/step - loss: 0.5278 - auc: 0.7585 - precision: 0.6252 - recall: 0.3825 - val_loss: 0.5700 - val_auc: 0.7115 - val_precision: 0.5809 - val_recall: 0.2994\n",
            "Epoch 54/80\n",
            "466/466 [==============================] - 7s 14ms/step - loss: 0.5277 - auc: 0.7587 - precision: 0.6286 - recall: 0.3788 - val_loss: 0.5743 - val_auc: 0.7107 - val_precision: 0.5570 - val_recall: 0.3576\n",
            "Epoch 55/80\n",
            "466/466 [==============================] - 6s 14ms/step - loss: 0.5275 - auc: 0.7588 - precision: 0.6285 - recall: 0.3739 - val_loss: 0.5744 - val_auc: 0.7106 - val_precision: 0.5509 - val_recall: 0.3667\n",
            "Epoch 56/80\n",
            "466/466 [==============================] - 7s 14ms/step - loss: 0.5273 - auc: 0.7589 - precision: 0.6304 - recall: 0.3762 - val_loss: 0.5709 - val_auc: 0.7115 - val_precision: 0.5661 - val_recall: 0.3330\n",
            "Epoch 57/80\n",
            "466/466 [==============================] - 7s 14ms/step - loss: 0.5263 - auc: 0.7602 - precision: 0.6291 - recall: 0.3806 - val_loss: 0.5750 - val_auc: 0.7110 - val_precision: 0.5716 - val_recall: 0.3153\n",
            "Epoch 58/80\n",
            "466/466 [==============================] - 7s 14ms/step - loss: 0.5265 - auc: 0.7599 - precision: 0.6295 - recall: 0.3774 - val_loss: 0.5759 - val_auc: 0.7123 - val_precision: 0.5599 - val_recall: 0.3426\n",
            "Epoch 59/80\n",
            "466/466 [==============================] - 6s 14ms/step - loss: 0.5259 - auc: 0.7606 - precision: 0.6281 - recall: 0.3814 - val_loss: 0.5749 - val_auc: 0.7128 - val_precision: 0.5854 - val_recall: 0.2896\n",
            "Epoch 60/80\n",
            "466/466 [==============================] - 6s 14ms/step - loss: 0.5257 - auc: 0.7606 - precision: 0.6318 - recall: 0.3721 - val_loss: 0.5740 - val_auc: 0.7112 - val_precision: 0.5830 - val_recall: 0.2916\n",
            "Epoch 61/80\n",
            "466/466 [==============================] - 7s 14ms/step - loss: 0.5252 - auc: 0.7615 - precision: 0.6293 - recall: 0.3813 - val_loss: 0.5753 - val_auc: 0.7115 - val_precision: 0.5405 - val_recall: 0.4018\n",
            "Epoch 62/80\n",
            "466/466 [==============================] - 7s 14ms/step - loss: 0.5244 - auc: 0.7623 - precision: 0.6272 - recall: 0.3938 - val_loss: 0.5778 - val_auc: 0.7083 - val_precision: 0.5634 - val_recall: 0.3302\n",
            "Epoch 63/80\n",
            "466/466 [==============================] - 7s 14ms/step - loss: 0.5245 - auc: 0.7621 - precision: 0.6287 - recall: 0.3834 - val_loss: 0.5760 - val_auc: 0.7112 - val_precision: 0.5703 - val_recall: 0.3179\n",
            "Epoch 64/80\n",
            "466/466 [==============================] - 7s 14ms/step - loss: 0.5239 - auc: 0.7629 - precision: 0.6316 - recall: 0.3862 - val_loss: 0.5735 - val_auc: 0.7104 - val_precision: 0.5639 - val_recall: 0.3340\n",
            "Epoch 65/80\n",
            "466/466 [==============================] - 7s 14ms/step - loss: 0.5232 - auc: 0.7635 - precision: 0.6302 - recall: 0.3906 - val_loss: 0.5773 - val_auc: 0.7107 - val_precision: 0.5564 - val_recall: 0.3556\n",
            "Epoch 66/80\n",
            "466/466 [==============================] - 7s 14ms/step - loss: 0.5231 - auc: 0.7637 - precision: 0.6309 - recall: 0.3898 - val_loss: 0.5779 - val_auc: 0.7100 - val_precision: 0.5455 - val_recall: 0.3931\n",
            "Epoch 67/80\n",
            "466/466 [==============================] - 7s 14ms/step - loss: 0.5228 - auc: 0.7640 - precision: 0.6307 - recall: 0.3934 - val_loss: 0.5767 - val_auc: 0.7088 - val_precision: 0.5721 - val_recall: 0.2961\n",
            "Epoch 68/80\n",
            "466/466 [==============================] - 7s 14ms/step - loss: 0.5224 - auc: 0.7644 - precision: 0.6343 - recall: 0.3884 - val_loss: 0.5794 - val_auc: 0.7101 - val_precision: 0.5826 - val_recall: 0.2899\n",
            "Epoch 69/80\n",
            "466/466 [==============================] - 7s 14ms/step - loss: 0.5222 - auc: 0.7646 - precision: 0.6339 - recall: 0.3892 - val_loss: 0.5813 - val_auc: 0.7094 - val_precision: 0.5649 - val_recall: 0.3404\n",
            "Epoch 70/80\n",
            "466/466 [==============================] - 7s 14ms/step - loss: 0.5218 - auc: 0.7650 - precision: 0.6325 - recall: 0.3923 - val_loss: 0.5819 - val_auc: 0.7106 - val_precision: 0.5672 - val_recall: 0.3259\n",
            "Epoch 71/80\n",
            "466/466 [==============================] - 7s 14ms/step - loss: 0.5214 - auc: 0.7653 - precision: 0.6362 - recall: 0.3837 - val_loss: 0.5820 - val_auc: 0.7107 - val_precision: 0.5579 - val_recall: 0.3573\n",
            "Epoch 72/80\n",
            "466/466 [==============================] - 7s 14ms/step - loss: 0.5204 - auc: 0.7665 - precision: 0.6333 - recall: 0.3965 - val_loss: 0.5864 - val_auc: 0.7086 - val_precision: 0.5627 - val_recall: 0.3272\n",
            "Epoch 73/80\n",
            "466/466 [==============================] - 7s 14ms/step - loss: 0.5204 - auc: 0.7666 - precision: 0.6362 - recall: 0.3879 - val_loss: 0.5837 - val_auc: 0.7076 - val_precision: 0.5584 - val_recall: 0.3330\n",
            "Epoch 74/80\n",
            "466/466 [==============================] - 7s 15ms/step - loss: 0.5202 - auc: 0.7667 - precision: 0.6387 - recall: 0.3846 - val_loss: 0.5828 - val_auc: 0.7091 - val_precision: 0.5675 - val_recall: 0.3246\n",
            "Epoch 75/80\n",
            "466/466 [==============================] - 7s 15ms/step - loss: 0.5199 - auc: 0.7670 - precision: 0.6392 - recall: 0.3825 - val_loss: 0.5932 - val_auc: 0.7106 - val_precision: 0.5459 - val_recall: 0.3654\n",
            "Epoch 76/80\n",
            "466/466 [==============================] - 7s 15ms/step - loss: 0.5193 - auc: 0.7677 - precision: 0.6346 - recall: 0.3962 - val_loss: 0.5799 - val_auc: 0.7101 - val_precision: 0.5563 - val_recall: 0.3342\n",
            "Epoch 77/80\n",
            "466/466 [==============================] - 7s 15ms/step - loss: 0.5186 - auc: 0.7684 - precision: 0.6370 - recall: 0.3935 - val_loss: 0.5855 - val_auc: 0.7102 - val_precision: 0.5389 - val_recall: 0.3908\n",
            "Epoch 78/80\n",
            "466/466 [==============================] - 7s 15ms/step - loss: 0.5182 - auc: 0.7690 - precision: 0.6334 - recall: 0.4031 - val_loss: 0.5839 - val_auc: 0.7106 - val_precision: 0.5534 - val_recall: 0.3676\n",
            "Epoch 79/80\n",
            "466/466 [==============================] - 7s 15ms/step - loss: 0.5180 - auc: 0.7692 - precision: 0.6352 - recall: 0.4023 - val_loss: 0.5968 - val_auc: 0.7092 - val_precision: 0.5535 - val_recall: 0.3633\n",
            "Epoch 80/80\n",
            "466/466 [==============================] - 7s 15ms/step - loss: 0.5176 - auc: 0.7695 - precision: 0.6371 - recall: 0.3991 - val_loss: 0.5895 - val_auc: 0.7092 - val_precision: 0.5437 - val_recall: 0.3741\n"
          ],
          "name": "stdout"
        }
      ]
    },
    {
      "cell_type": "code",
      "metadata": {
        "colab": {
          "base_uri": "https://localhost:8080/",
          "height": 716
        },
        "id": "0JoduVJnBNVV",
        "outputId": "bbd98416-7d30-4b82-fd50-69af25c70e39"
      },
      "source": [
        "# Plot a graph of the metric vs. epochs.\n",
        "plot_curve(hist)"
      ],
      "execution_count": null,
      "outputs": [
        {
          "output_type": "display_data",
          "data": {
            "image/png": "[encoded data removed]",
            "text/plain": [
              "<Figure size 864x864 with 4 Axes>"
            ]
          },
          "metadata": {
            "tags": [],
            "needs_background": "light"
          }
        }
      ]
    },
    {
      "cell_type": "code",
      "metadata": {
        "colab": {
          "base_uri": "https://localhost:8080/"
        },
        "id": "Gwaq-hpjBi0v",
        "outputId": "9d6cea92-b8bd-443a-c60f-02c0d0fdc326"
      },
      "source": [
        "# After building a model against the training set, test that model\n",
        "# against the test set.\n",
        "result = best_model_rs.evaluate(x=X_test_trf1, \n",
        "                  y=y_test, \n",
        "                  batch_size=batch_size)\n",
        "\n",
        "for item in zip(best_model_rs.metrics_names, result):\n",
        "  print(item[0], item[1])"
      ],
      "execution_count": null,
      "outputs": [
        {
          "output_type": "stream",
          "text": [
            "137/137 [==============================] - 1s 8ms/step - loss: 0.5886 - auc: 0.7125 - precision: 0.5539 - recall: 0.3823\n",
            "loss 0.5886018872261047\n",
            "auc 0.7124671339988708\n",
            "precision 0.5539424419403076\n",
            "recall 0.38227859139442444\n"
          ],
          "name": "stdout"
        }
      ]
    },
    {
      "cell_type": "markdown",
      "metadata": {
        "id": "rpgFSlUcvlJF"
      },
      "source": [
        "**Bayesian Optimized Model**"
      ]
    },
    {
      "cell_type": "code",
      "metadata": {
        "id": "sxL2zlI-vovH"
      },
      "source": [
        "#Import Model\n",
        "\n",
        "best_model_bo = keras.models.load_model('/content/drive/My Drive/Colab Notebooks/best_model_bo.h5')"
      ],
      "execution_count": null,
      "outputs": []
    },
    {
      "cell_type": "code",
      "metadata": {
        "colab": {
          "base_uri": "https://localhost:8080/"
        },
        "id": "-Tm_pehYv8VI",
        "outputId": "d6224581-ddd6-4ae7-9a2a-e4fcbf97f18b"
      },
      "source": [
        "# The following variables are the hyperparameters.\n",
        "lr = 0.01\n",
        "epochs = 80\n",
        "batch_size = 500\n",
        "\n",
        "\n",
        "# Train the best model from  Random Search on training set.\n",
        "hist = train_model(best_model_bo, X_train_trf1, y_train, \n",
        "                   X_val_trf1, y_val, \n",
        "                   epochs, batch_size)\n"
      ],
      "execution_count": null,
      "outputs": [
        {
          "output_type": "stream",
          "text": [
            "Epoch 1/80\n",
            "466/466 [==============================] - 4s 7ms/step - loss: 0.5959 - auc: 0.6454 - precision: 0.5789 - recall: 0.1149 - val_loss: 0.5862 - val_auc: 0.6689 - val_precision: 0.6054 - val_recall: 0.1585\n",
            "Epoch 2/80\n",
            "466/466 [==============================] - 3s 6ms/step - loss: 0.5841 - auc: 0.6721 - precision: 0.5939 - recall: 0.1826 - val_loss: 0.5817 - val_auc: 0.6775 - val_precision: 0.6102 - val_recall: 0.1762\n",
            "Epoch 3/80\n",
            "466/466 [==============================] - 3s 6ms/step - loss: 0.5795 - auc: 0.6813 - precision: 0.5916 - recall: 0.2016 - val_loss: 0.5790 - val_auc: 0.6853 - val_precision: 0.5759 - val_recall: 0.2534\n",
            "Epoch 4/80\n",
            "466/466 [==============================] - 3s 6ms/step - loss: 0.5767 - auc: 0.6863 - precision: 0.5988 - recall: 0.2145 - val_loss: 0.5760 - val_auc: 0.6888 - val_precision: 0.6073 - val_recall: 0.1950\n",
            "Epoch 5/80\n",
            "466/466 [==============================] - 3s 6ms/step - loss: 0.5747 - auc: 0.6901 - precision: 0.5968 - recall: 0.2262 - val_loss: 0.5780 - val_auc: 0.6906 - val_precision: 0.6376 - val_recall: 0.1647\n",
            "Epoch 6/80\n",
            "466/466 [==============================] - 3s 6ms/step - loss: 0.5721 - auc: 0.6949 - precision: 0.6013 - recall: 0.2362 - val_loss: 0.5735 - val_auc: 0.6934 - val_precision: 0.5913 - val_recall: 0.2356\n",
            "Epoch 7/80\n",
            "466/466 [==============================] - 3s 6ms/step - loss: 0.5702 - auc: 0.6979 - precision: 0.5988 - recall: 0.2447 - val_loss: 0.5714 - val_auc: 0.6973 - val_precision: 0.5976 - val_recall: 0.2323\n",
            "Epoch 8/80\n",
            "466/466 [==============================] - 3s 6ms/step - loss: 0.5685 - auc: 0.7010 - precision: 0.5992 - recall: 0.2511 - val_loss: 0.5704 - val_auc: 0.6985 - val_precision: 0.5873 - val_recall: 0.2821\n",
            "Epoch 9/80\n",
            "466/466 [==============================] - 3s 6ms/step - loss: 0.5672 - auc: 0.7032 - precision: 0.5999 - recall: 0.2592 - val_loss: 0.5696 - val_auc: 0.7001 - val_precision: 0.5828 - val_recall: 0.2823\n",
            "Epoch 10/80\n",
            "466/466 [==============================] - 3s 6ms/step - loss: 0.5659 - auc: 0.7055 - precision: 0.5991 - recall: 0.2643 - val_loss: 0.5695 - val_auc: 0.6998 - val_precision: 0.5896 - val_recall: 0.2536\n",
            "Epoch 11/80\n",
            "466/466 [==============================] - 3s 6ms/step - loss: 0.5649 - auc: 0.7072 - precision: 0.6027 - recall: 0.2654 - val_loss: 0.5686 - val_auc: 0.7019 - val_precision: 0.5802 - val_recall: 0.2911\n",
            "Epoch 12/80\n",
            "466/466 [==============================] - 3s 6ms/step - loss: 0.5637 - auc: 0.7092 - precision: 0.6012 - recall: 0.2723 - val_loss: 0.5672 - val_auc: 0.7044 - val_precision: 0.6013 - val_recall: 0.2433\n",
            "Epoch 13/80\n",
            "466/466 [==============================] - 3s 6ms/step - loss: 0.5632 - auc: 0.7101 - precision: 0.5998 - recall: 0.2714 - val_loss: 0.5684 - val_auc: 0.7035 - val_precision: 0.6077 - val_recall: 0.2311\n",
            "Epoch 14/80\n",
            "466/466 [==============================] - 3s 6ms/step - loss: 0.5622 - auc: 0.7116 - precision: 0.6025 - recall: 0.2750 - val_loss: 0.5666 - val_auc: 0.7058 - val_precision: 0.5999 - val_recall: 0.2544\n",
            "Epoch 15/80\n",
            "466/466 [==============================] - 3s 6ms/step - loss: 0.5619 - auc: 0.7118 - precision: 0.6032 - recall: 0.2733 - val_loss: 0.5662 - val_auc: 0.7062 - val_precision: 0.5877 - val_recall: 0.2860\n",
            "Epoch 16/80\n",
            "466/466 [==============================] - 3s 6ms/step - loss: 0.5609 - auc: 0.7136 - precision: 0.6025 - recall: 0.2780 - val_loss: 0.5669 - val_auc: 0.7065 - val_precision: 0.5746 - val_recall: 0.3128\n",
            "Epoch 17/80\n",
            "466/466 [==============================] - 3s 6ms/step - loss: 0.5603 - auc: 0.7145 - precision: 0.6045 - recall: 0.2814 - val_loss: 0.5665 - val_auc: 0.7059 - val_precision: 0.5801 - val_recall: 0.2995\n",
            "Epoch 18/80\n",
            "466/466 [==============================] - 3s 6ms/step - loss: 0.5596 - auc: 0.7158 - precision: 0.6062 - recall: 0.2821 - val_loss: 0.5663 - val_auc: 0.7067 - val_precision: 0.6067 - val_recall: 0.2409\n",
            "Epoch 19/80\n",
            "466/466 [==============================] - 3s 6ms/step - loss: 0.5590 - auc: 0.7168 - precision: 0.6062 - recall: 0.2811 - val_loss: 0.5653 - val_auc: 0.7078 - val_precision: 0.5954 - val_recall: 0.2668\n",
            "Epoch 20/80\n",
            "466/466 [==============================] - 3s 6ms/step - loss: 0.5590 - auc: 0.7168 - precision: 0.6035 - recall: 0.2832 - val_loss: 0.5656 - val_auc: 0.7071 - val_precision: 0.5878 - val_recall: 0.2834\n",
            "Epoch 21/80\n",
            "466/466 [==============================] - 3s 6ms/step - loss: 0.5582 - auc: 0.7181 - precision: 0.6047 - recall: 0.2874 - val_loss: 0.5654 - val_auc: 0.7079 - val_precision: 0.5988 - val_recall: 0.2532\n",
            "Epoch 22/80\n",
            "466/466 [==============================] - 3s 6ms/step - loss: 0.5578 - auc: 0.7186 - precision: 0.6068 - recall: 0.2881 - val_loss: 0.5652 - val_auc: 0.7074 - val_precision: 0.6011 - val_recall: 0.2609\n",
            "Epoch 23/80\n",
            "466/466 [==============================] - 3s 6ms/step - loss: 0.5576 - auc: 0.7188 - precision: 0.6061 - recall: 0.2871 - val_loss: 0.5644 - val_auc: 0.7104 - val_precision: 0.6034 - val_recall: 0.2563\n",
            "Epoch 24/80\n",
            "466/466 [==============================] - 3s 6ms/step - loss: 0.5568 - auc: 0.7204 - precision: 0.6062 - recall: 0.2899 - val_loss: 0.5653 - val_auc: 0.7100 - val_precision: 0.5706 - val_recall: 0.3287\n",
            "Epoch 25/80\n",
            "466/466 [==============================] - 3s 6ms/step - loss: 0.5562 - auc: 0.7212 - precision: 0.6065 - recall: 0.2914 - val_loss: 0.5645 - val_auc: 0.7093 - val_precision: 0.5980 - val_recall: 0.2542\n",
            "Epoch 26/80\n",
            "466/466 [==============================] - 3s 6ms/step - loss: 0.5560 - auc: 0.7213 - precision: 0.6062 - recall: 0.2929 - val_loss: 0.5648 - val_auc: 0.7097 - val_precision: 0.5986 - val_recall: 0.2611\n",
            "Epoch 27/80\n",
            "466/466 [==============================] - 3s 6ms/step - loss: 0.5556 - auc: 0.7219 - precision: 0.6082 - recall: 0.2933 - val_loss: 0.5627 - val_auc: 0.7120 - val_precision: 0.5918 - val_recall: 0.2842\n",
            "Epoch 28/80\n",
            "466/466 [==============================] - 3s 6ms/step - loss: 0.5553 - auc: 0.7225 - precision: 0.6080 - recall: 0.2950 - val_loss: 0.5657 - val_auc: 0.7100 - val_precision: 0.6077 - val_recall: 0.2418\n",
            "Epoch 29/80\n",
            "466/466 [==============================] - 3s 6ms/step - loss: 0.5549 - auc: 0.7230 - precision: 0.6080 - recall: 0.2958 - val_loss: 0.5639 - val_auc: 0.7097 - val_precision: 0.6083 - val_recall: 0.2476\n",
            "Epoch 30/80\n",
            "466/466 [==============================] - 3s 6ms/step - loss: 0.5545 - auc: 0.7237 - precision: 0.6087 - recall: 0.2967 - val_loss: 0.5631 - val_auc: 0.7115 - val_precision: 0.6029 - val_recall: 0.2549\n",
            "Epoch 31/80\n",
            "466/466 [==============================] - 3s 6ms/step - loss: 0.5540 - auc: 0.7243 - precision: 0.6100 - recall: 0.2988 - val_loss: 0.5630 - val_auc: 0.7115 - val_precision: 0.5929 - val_recall: 0.2849\n",
            "Epoch 32/80\n",
            "466/466 [==============================] - 3s 6ms/step - loss: 0.5538 - auc: 0.7247 - precision: 0.6082 - recall: 0.2995 - val_loss: 0.5635 - val_auc: 0.7111 - val_precision: 0.5946 - val_recall: 0.2726\n",
            "Epoch 33/80\n",
            "466/466 [==============================] - 3s 6ms/step - loss: 0.5534 - auc: 0.7253 - precision: 0.6088 - recall: 0.3010 - val_loss: 0.5618 - val_auc: 0.7139 - val_precision: 0.6013 - val_recall: 0.2797\n",
            "Epoch 34/80\n",
            "466/466 [==============================] - 3s 6ms/step - loss: 0.5529 - auc: 0.7261 - precision: 0.6090 - recall: 0.3020 - val_loss: 0.5631 - val_auc: 0.7118 - val_precision: 0.5984 - val_recall: 0.2702\n",
            "Epoch 35/80\n",
            "466/466 [==============================] - 3s 6ms/step - loss: 0.5527 - auc: 0.7265 - precision: 0.6102 - recall: 0.3019 - val_loss: 0.5644 - val_auc: 0.7124 - val_precision: 0.5993 - val_recall: 0.2674\n",
            "Epoch 36/80\n",
            "466/466 [==============================] - 3s 6ms/step - loss: 0.5525 - auc: 0.7267 - precision: 0.6095 - recall: 0.3052 - val_loss: 0.5629 - val_auc: 0.7127 - val_precision: 0.5986 - val_recall: 0.2773\n",
            "Epoch 37/80\n",
            "466/466 [==============================] - 3s 6ms/step - loss: 0.5522 - auc: 0.7272 - precision: 0.6106 - recall: 0.3056 - val_loss: 0.5621 - val_auc: 0.7137 - val_precision: 0.5822 - val_recall: 0.3202\n",
            "Epoch 38/80\n",
            "466/466 [==============================] - 3s 6ms/step - loss: 0.5517 - auc: 0.7279 - precision: 0.6101 - recall: 0.3059 - val_loss: 0.5624 - val_auc: 0.7126 - val_precision: 0.5846 - val_recall: 0.3069\n",
            "Epoch 39/80\n",
            "466/466 [==============================] - 3s 6ms/step - loss: 0.5511 - auc: 0.7287 - precision: 0.6111 - recall: 0.3078 - val_loss: 0.5621 - val_auc: 0.7132 - val_precision: 0.5814 - val_recall: 0.3000\n",
            "Epoch 40/80\n",
            "466/466 [==============================] - 3s 6ms/step - loss: 0.5511 - auc: 0.7288 - precision: 0.6106 - recall: 0.3089 - val_loss: 0.5622 - val_auc: 0.7138 - val_precision: 0.5841 - val_recall: 0.2985\n",
            "Epoch 41/80\n",
            "466/466 [==============================] - 3s 6ms/step - loss: 0.5507 - auc: 0.7293 - precision: 0.6114 - recall: 0.3096 - val_loss: 0.5623 - val_auc: 0.7139 - val_precision: 0.5830 - val_recall: 0.3151\n",
            "Epoch 42/80\n",
            "466/466 [==============================] - 3s 6ms/step - loss: 0.5503 - auc: 0.7301 - precision: 0.6110 - recall: 0.3122 - val_loss: 0.5627 - val_auc: 0.7127 - val_precision: 0.5901 - val_recall: 0.2674\n",
            "Epoch 43/80\n",
            "466/466 [==============================] - 3s 6ms/step - loss: 0.5502 - auc: 0.7301 - precision: 0.6107 - recall: 0.3120 - val_loss: 0.5626 - val_auc: 0.7144 - val_precision: 0.5692 - val_recall: 0.3509\n",
            "Epoch 44/80\n",
            "466/466 [==============================] - 3s 6ms/step - loss: 0.5499 - auc: 0.7306 - precision: 0.6140 - recall: 0.3146 - val_loss: 0.5616 - val_auc: 0.7145 - val_precision: 0.5819 - val_recall: 0.3144\n",
            "Epoch 45/80\n",
            "466/466 [==============================] - 3s 6ms/step - loss: 0.5496 - auc: 0.7310 - precision: 0.6133 - recall: 0.3134 - val_loss: 0.5624 - val_auc: 0.7138 - val_precision: 0.5866 - val_recall: 0.2996\n",
            "Epoch 46/80\n",
            "466/466 [==============================] - 3s 6ms/step - loss: 0.5491 - auc: 0.7315 - precision: 0.6122 - recall: 0.3156 - val_loss: 0.5631 - val_auc: 0.7141 - val_precision: 0.5647 - val_recall: 0.3484\n",
            "Epoch 47/80\n",
            "466/466 [==============================] - 3s 6ms/step - loss: 0.5488 - auc: 0.7320 - precision: 0.6139 - recall: 0.3148 - val_loss: 0.5606 - val_auc: 0.7157 - val_precision: 0.5801 - val_recall: 0.3151\n",
            "Epoch 48/80\n",
            "466/466 [==============================] - 3s 6ms/step - loss: 0.5487 - auc: 0.7323 - precision: 0.6122 - recall: 0.3165 - val_loss: 0.5626 - val_auc: 0.7146 - val_precision: 0.6087 - val_recall: 0.2498\n",
            "Epoch 49/80\n",
            "466/466 [==============================] - 3s 6ms/step - loss: 0.5483 - auc: 0.7328 - precision: 0.6137 - recall: 0.3176 - val_loss: 0.5623 - val_auc: 0.7141 - val_precision: 0.5762 - val_recall: 0.3348\n",
            "Epoch 50/80\n",
            "466/466 [==============================] - 3s 6ms/step - loss: 0.5480 - auc: 0.7332 - precision: 0.6132 - recall: 0.3209 - val_loss: 0.5608 - val_auc: 0.7161 - val_precision: 0.5767 - val_recall: 0.3296\n",
            "Epoch 51/80\n",
            "466/466 [==============================] - 3s 6ms/step - loss: 0.5476 - auc: 0.7338 - precision: 0.6127 - recall: 0.3222 - val_loss: 0.5609 - val_auc: 0.7158 - val_precision: 0.5958 - val_recall: 0.2813\n",
            "Epoch 52/80\n",
            "466/466 [==============================] - 3s 6ms/step - loss: 0.5473 - auc: 0.7342 - precision: 0.6150 - recall: 0.3224 - val_loss: 0.5613 - val_auc: 0.7155 - val_precision: 0.5777 - val_recall: 0.3284\n",
            "Epoch 53/80\n",
            "466/466 [==============================] - 3s 6ms/step - loss: 0.5469 - auc: 0.7347 - precision: 0.6129 - recall: 0.3220 - val_loss: 0.5615 - val_auc: 0.7155 - val_precision: 0.5789 - val_recall: 0.3189\n",
            "Epoch 54/80\n",
            "466/466 [==============================] - 3s 6ms/step - loss: 0.5466 - auc: 0.7351 - precision: 0.6163 - recall: 0.3270 - val_loss: 0.5615 - val_auc: 0.7158 - val_precision: 0.5844 - val_recall: 0.3153\n",
            "Epoch 55/80\n",
            "466/466 [==============================] - 3s 6ms/step - loss: 0.5465 - auc: 0.7353 - precision: 0.6153 - recall: 0.3239 - val_loss: 0.5636 - val_auc: 0.7135 - val_precision: 0.5628 - val_recall: 0.3585\n",
            "Epoch 56/80\n",
            "466/466 [==============================] - 3s 6ms/step - loss: 0.5462 - auc: 0.7357 - precision: 0.6167 - recall: 0.3272 - val_loss: 0.5607 - val_auc: 0.7166 - val_precision: 0.5852 - val_recall: 0.3100\n",
            "Epoch 57/80\n",
            "466/466 [==============================] - 3s 6ms/step - loss: 0.5460 - auc: 0.7360 - precision: 0.6152 - recall: 0.3289 - val_loss: 0.5602 - val_auc: 0.7171 - val_precision: 0.5834 - val_recall: 0.3307\n",
            "Epoch 58/80\n",
            "466/466 [==============================] - 3s 6ms/step - loss: 0.5457 - auc: 0.7365 - precision: 0.6153 - recall: 0.3276 - val_loss: 0.5623 - val_auc: 0.7149 - val_precision: 0.5660 - val_recall: 0.3543\n",
            "Epoch 59/80\n",
            "466/466 [==============================] - 3s 6ms/step - loss: 0.5453 - auc: 0.7370 - precision: 0.6149 - recall: 0.3315 - val_loss: 0.5607 - val_auc: 0.7156 - val_precision: 0.5838 - val_recall: 0.3032\n",
            "Epoch 60/80\n",
            "466/466 [==============================] - 3s 6ms/step - loss: 0.5453 - auc: 0.7370 - precision: 0.6152 - recall: 0.3293 - val_loss: 0.5614 - val_auc: 0.7150 - val_precision: 0.5928 - val_recall: 0.3013\n",
            "Epoch 61/80\n",
            "466/466 [==============================] - 3s 6ms/step - loss: 0.5451 - auc: 0.7372 - precision: 0.6144 - recall: 0.3308 - val_loss: 0.5605 - val_auc: 0.7172 - val_precision: 0.5788 - val_recall: 0.3425\n",
            "Epoch 62/80\n",
            "466/466 [==============================] - 3s 6ms/step - loss: 0.5447 - auc: 0.7378 - precision: 0.6153 - recall: 0.3320 - val_loss: 0.5616 - val_auc: 0.7164 - val_precision: 0.5861 - val_recall: 0.3036\n",
            "Epoch 63/80\n",
            "466/466 [==============================] - 3s 6ms/step - loss: 0.5444 - auc: 0.7381 - precision: 0.6172 - recall: 0.3339 - val_loss: 0.5608 - val_auc: 0.7165 - val_precision: 0.5792 - val_recall: 0.3279\n",
            "Epoch 64/80\n",
            "466/466 [==============================] - 3s 6ms/step - loss: 0.5440 - auc: 0.7387 - precision: 0.6162 - recall: 0.3334 - val_loss: 0.5608 - val_auc: 0.7159 - val_precision: 0.5833 - val_recall: 0.3233\n",
            "Epoch 65/80\n",
            "466/466 [==============================] - 3s 6ms/step - loss: 0.5441 - auc: 0.7384 - precision: 0.6147 - recall: 0.3342 - val_loss: 0.5609 - val_auc: 0.7158 - val_precision: 0.5947 - val_recall: 0.2845\n",
            "Epoch 66/80\n",
            "466/466 [==============================] - 3s 6ms/step - loss: 0.5435 - auc: 0.7393 - precision: 0.6157 - recall: 0.3351 - val_loss: 0.5616 - val_auc: 0.7166 - val_precision: 0.5979 - val_recall: 0.2902\n",
            "Epoch 67/80\n",
            "466/466 [==============================] - 3s 6ms/step - loss: 0.5438 - auc: 0.7389 - precision: 0.6167 - recall: 0.3355 - val_loss: 0.5611 - val_auc: 0.7162 - val_precision: 0.5953 - val_recall: 0.2877\n",
            "Epoch 68/80\n",
            "466/466 [==============================] - 3s 6ms/step - loss: 0.5433 - auc: 0.7397 - precision: 0.6181 - recall: 0.3367 - val_loss: 0.5612 - val_auc: 0.7169 - val_precision: 0.5824 - val_recall: 0.3176\n",
            "Epoch 69/80\n",
            "466/466 [==============================] - 3s 6ms/step - loss: 0.5431 - auc: 0.7399 - precision: 0.6168 - recall: 0.3387 - val_loss: 0.5624 - val_auc: 0.7163 - val_precision: 0.6039 - val_recall: 0.2772\n",
            "Epoch 70/80\n",
            "466/466 [==============================] - 3s 6ms/step - loss: 0.5428 - auc: 0.7403 - precision: 0.6164 - recall: 0.3380 - val_loss: 0.5607 - val_auc: 0.7164 - val_precision: 0.5767 - val_recall: 0.3299\n",
            "Epoch 71/80\n",
            "466/466 [==============================] - 3s 6ms/step - loss: 0.5424 - auc: 0.7409 - precision: 0.6178 - recall: 0.3397 - val_loss: 0.5615 - val_auc: 0.7158 - val_precision: 0.5803 - val_recall: 0.3138\n",
            "Epoch 72/80\n",
            "466/466 [==============================] - 3s 6ms/step - loss: 0.5420 - auc: 0.7413 - precision: 0.6161 - recall: 0.3402 - val_loss: 0.5621 - val_auc: 0.7159 - val_precision: 0.5872 - val_recall: 0.3041\n",
            "Epoch 73/80\n",
            "466/466 [==============================] - 3s 6ms/step - loss: 0.5420 - auc: 0.7413 - precision: 0.6181 - recall: 0.3411 - val_loss: 0.5605 - val_auc: 0.7177 - val_precision: 0.5895 - val_recall: 0.3000\n",
            "Epoch 74/80\n",
            "466/466 [==============================] - 3s 6ms/step - loss: 0.5420 - auc: 0.7414 - precision: 0.6159 - recall: 0.3409 - val_loss: 0.5613 - val_auc: 0.7176 - val_precision: 0.5691 - val_recall: 0.3660\n",
            "Epoch 75/80\n",
            "466/466 [==============================] - 3s 6ms/step - loss: 0.5417 - auc: 0.7417 - precision: 0.6194 - recall: 0.3452 - val_loss: 0.5614 - val_auc: 0.7164 - val_precision: 0.5744 - val_recall: 0.3391\n",
            "Epoch 76/80\n",
            "466/466 [==============================] - 3s 6ms/step - loss: 0.5416 - auc: 0.7419 - precision: 0.6170 - recall: 0.3424 - val_loss: 0.5619 - val_auc: 0.7163 - val_precision: 0.5649 - val_recall: 0.3568\n",
            "Epoch 77/80\n",
            "466/466 [==============================] - 3s 6ms/step - loss: 0.5413 - auc: 0.7423 - precision: 0.6187 - recall: 0.3433 - val_loss: 0.5602 - val_auc: 0.7179 - val_precision: 0.5790 - val_recall: 0.3313\n",
            "Epoch 78/80\n",
            "466/466 [==============================] - 3s 6ms/step - loss: 0.5410 - auc: 0.7426 - precision: 0.6175 - recall: 0.3454 - val_loss: 0.5608 - val_auc: 0.7174 - val_precision: 0.5740 - val_recall: 0.3412\n",
            "Epoch 79/80\n",
            "466/466 [==============================] - 3s 6ms/step - loss: 0.5408 - auc: 0.7430 - precision: 0.6189 - recall: 0.3440 - val_loss: 0.5614 - val_auc: 0.7161 - val_precision: 0.5734 - val_recall: 0.3450\n",
            "Epoch 80/80\n",
            "466/466 [==============================] - 3s 6ms/step - loss: 0.5405 - auc: 0.7434 - precision: 0.6176 - recall: 0.3469 - val_loss: 0.5622 - val_auc: 0.7159 - val_precision: 0.5693 - val_recall: 0.3430\n"
          ],
          "name": "stdout"
        }
      ]
    },
    {
      "cell_type": "code",
      "metadata": {
        "colab": {
          "base_uri": "https://localhost:8080/",
          "height": 714
        },
        "id": "gKj8yA5ixMcz",
        "outputId": "098de310-6e52-45cd-db84-7e2961997649"
      },
      "source": [
        "# Plot a graph of the metric vs. epochs.\n",
        "plot_curve(hist)"
      ],
      "execution_count": null,
      "outputs": [
        {
          "output_type": "display_data",
          "data": {
            "image/png": "[encoded data removed]",
            "text/plain": [
              "<Figure size 864x864 with 4 Axes>"
            ]
          },
          "metadata": {
            "tags": [],
            "needs_background": "light"
          }
        }
      ]
    },
    {
      "cell_type": "code",
      "metadata": {
        "colab": {
          "base_uri": "https://localhost:8080/"
        },
        "id": "E7HdeD6xxue_",
        "outputId": "c8493648-e2da-4ea9-ab12-edfbc5d54c7b"
      },
      "source": [
        "# After building a model against the training set, test that model\n",
        "# against the test set.\n",
        "result = best_model_bo.evaluate(x=X_test_trf1, \n",
        "                  y=y_test, \n",
        "                  batch_size=batch_size)\n",
        "\n",
        "for item in zip(best_model_bo.metrics_names, result):\n",
        "  print(item[0], item[1])"
      ],
      "execution_count": null,
      "outputs": [
        {
          "output_type": "stream",
          "text": [
            "137/137 [==============================] - 1s 4ms/step - loss: 0.5617 - auc: 0.7169 - precision: 0.5792 - recall: 0.3461\n",
            "loss 0.5616964101791382\n",
            "auc 0.7169485092163086\n",
            "precision 0.5792185664176941\n",
            "recall 0.34610965847969055\n"
          ],
          "name": "stdout"
        }
      ]
    },
    {
      "cell_type": "markdown",
      "metadata": {
        "id": "oUHOhMxTn9N_"
      },
      "source": [
        "# Tweak decision threshold"
      ]
    },
    {
      "cell_type": "code",
      "metadata": {
        "colab": {
          "base_uri": "https://localhost:8080/"
        },
        "id": "u734WfmNn8mn",
        "outputId": "9ff77652-d5c1-47ba-bbc5-742f61b4d117"
      },
      "source": [
        "from sklearn.metrics import precision_score\n",
        "def get_precision_score(threshold, y_true, x_true, model):\n",
        "  preds = model.predict(x_true)\n",
        "  preds[preds >= threshold] = 1\n",
        "  preds[preds < threshold] = 0\n",
        "  return precision_score(y_true, preds)\n",
        "\n",
        "get_precision_score(threshold = 0.8, y_true = y_val, x_true = X_val_trf1, model = best_model_rs)"
      ],
      "execution_count": null,
      "outputs": [
        {
          "output_type": "execute_result",
          "data": {
            "text/plain": [
              "0.680365296803653"
            ]
          },
          "metadata": {
            "tags": []
          },
          "execution_count": 71
        }
      ]
    },
    {
      "cell_type": "code",
      "metadata": {
        "colab": {
          "base_uri": "https://localhost:8080/"
        },
        "id": "fXxkmfA-rzHX",
        "outputId": "9670ab04-dc29-4ebf-be8c-155b57d2b7f0"
      },
      "source": [
        "get_precision_score(threshold = 0.8, y_true = y_test, x_true = X_test_trf1, model = best_model_rs)"
      ],
      "execution_count": null,
      "outputs": [
        {
          "output_type": "execute_result",
          "data": {
            "text/plain": [
              "0.6746113989637306"
            ]
          },
          "metadata": {
            "tags": []
          },
          "execution_count": 73
        }
      ]
    },
    {
      "cell_type": "markdown",
      "metadata": {
        "id": "X2YWAfBEJKx9"
      },
      "source": [
        "# Make recommendation"
      ]
    },
    {
      "cell_type": "code",
      "metadata": {
        "colab": {
          "base_uri": "https://localhost:8080/"
        },
        "id": "IFqPI4zJiOef",
        "outputId": "bb40cfaf-a062-4647-96b1-5e301ce97bd5"
      },
      "source": [
        "X_test_complete.shape"
      ],
      "execution_count": null,
      "outputs": [
        {
          "output_type": "execute_result",
          "data": {
            "text/plain": [
              "(73742, 2)"
            ]
          },
          "metadata": {
            "tags": []
          },
          "execution_count": 8
        }
      ]
    },
    {
      "cell_type": "code",
      "metadata": {
        "id": "5pYQ4gyFLo66",
        "colab": {
          "base_uri": "https://localhost:8080/",
          "height": 423
        },
        "outputId": "c6dc071c-b519-40e3-ff88-44c7eeda02d2"
      },
      "source": [
        "def show_recommendation(model, X_features_complete, X_trf1,\n",
        "                        threshold):\n",
        "  prediction = model.predict(X_trf1) # probabilities\n",
        "  prediction[prediction >= threshold] = 1\n",
        "  prediction[prediction< threshold] = 0\n",
        "  prediction_ser = pd.DataFrame(prediction,\n",
        "                                columns = ['Reccomend?'])\n",
        "\n",
        "  # Combine\n",
        "  movie_user = pd.concat([X_features_complete,prediction_ser], axis=1)\n",
        "\n",
        "  # show primaryTitle, userID_ori & reccomend or not\n",
        "  return movie_user.loc[movie_user['Reccomend?'] == 1]\n",
        "\n",
        "show_recommendation(best_model_rs, X_test_complete, X_test_trf1,\n",
        "                        0.8)"
      ],
      "execution_count": null,
      "outputs": [
        {
          "output_type": "execute_result",
          "data": {
            "text/html": [
              "<div>\n",
              "<style scoped>\n",
              "    .dataframe tbody tr th:only-of-type {\n",
              "        vertical-align: middle;\n",
              "    }\n",
              "\n",
              "    .dataframe tbody tr th {\n",
              "        vertical-align: top;\n",
              "    }\n",
              "\n",
              "    .dataframe thead th {\n",
              "        text-align: right;\n",
              "    }\n",
              "</style>\n",
              "<table border=\"1\" class=\"dataframe\">\n",
              "  <thead>\n",
              "    <tr style=\"text-align: right;\">\n",
              "      <th></th>\n",
              "      <th>primaryTitle</th>\n",
              "      <th>userId_ori</th>\n",
              "      <th>userId</th>\n",
              "      <th>Reccomend?</th>\n",
              "    </tr>\n",
              "  </thead>\n",
              "  <tbody>\n",
              "    <tr>\n",
              "      <th>12</th>\n",
              "      <td>Black Beauty</td>\n",
              "      <td>9620</td>\n",
              "      <td>0.048965</td>\n",
              "      <td>1.0</td>\n",
              "    </tr>\n",
              "    <tr>\n",
              "      <th>111</th>\n",
              "      <td>Die Hard</td>\n",
              "      <td>106507</td>\n",
              "      <td>0.651616</td>\n",
              "      <td>1.0</td>\n",
              "    </tr>\n",
              "    <tr>\n",
              "      <th>116</th>\n",
              "      <td>Hud</td>\n",
              "      <td>90691</td>\n",
              "      <td>0.553238</td>\n",
              "      <td>1.0</td>\n",
              "    </tr>\n",
              "    <tr>\n",
              "      <th>119</th>\n",
              "      <td>Taxi Driver</td>\n",
              "      <td>18995</td>\n",
              "      <td>0.107279</td>\n",
              "      <td>1.0</td>\n",
              "    </tr>\n",
              "    <tr>\n",
              "      <th>123</th>\n",
              "      <td>Fargo</td>\n",
              "      <td>103611</td>\n",
              "      <td>0.633602</td>\n",
              "      <td>1.0</td>\n",
              "    </tr>\n",
              "    <tr>\n",
              "      <th>...</th>\n",
              "      <td>...</td>\n",
              "      <td>...</td>\n",
              "      <td>...</td>\n",
              "      <td>...</td>\n",
              "    </tr>\n",
              "    <tr>\n",
              "      <th>68159</th>\n",
              "      <td>Rosemary's Baby</td>\n",
              "      <td>11952</td>\n",
              "      <td>0.063470</td>\n",
              "      <td>1.0</td>\n",
              "    </tr>\n",
              "    <tr>\n",
              "      <th>68185</th>\n",
              "      <td>12 Angry Men</td>\n",
              "      <td>129711</td>\n",
              "      <td>0.795948</td>\n",
              "      <td>1.0</td>\n",
              "    </tr>\n",
              "    <tr>\n",
              "      <th>68214</th>\n",
              "      <td>Nixon</td>\n",
              "      <td>18995</td>\n",
              "      <td>0.107279</td>\n",
              "      <td>1.0</td>\n",
              "    </tr>\n",
              "    <tr>\n",
              "      <th>68291</th>\n",
              "      <td>Citizen Kane</td>\n",
              "      <td>30111</td>\n",
              "      <td>0.176422</td>\n",
              "      <td>1.0</td>\n",
              "    </tr>\n",
              "    <tr>\n",
              "      <th>68399</th>\n",
              "      <td>Saving Private Ryan</td>\n",
              "      <td>106507</td>\n",
              "      <td>0.651616</td>\n",
              "      <td>1.0</td>\n",
              "    </tr>\n",
              "  </tbody>\n",
              "</table>\n",
              "<p>965 rows × 4 columns</p>\n",
              "</div>"
            ],
            "text/plain": [
              "              primaryTitle  userId_ori    userId  Reccomend?\n",
              "12            Black Beauty        9620  0.048965         1.0\n",
              "111               Die Hard      106507  0.651616         1.0\n",
              "116                    Hud       90691  0.553238         1.0\n",
              "119            Taxi Driver       18995  0.107279         1.0\n",
              "123                  Fargo      103611  0.633602         1.0\n",
              "...                    ...         ...       ...         ...\n",
              "68159      Rosemary's Baby       11952  0.063470         1.0\n",
              "68185         12 Angry Men      129711  0.795948         1.0\n",
              "68214                Nixon       18995  0.107279         1.0\n",
              "68291         Citizen Kane       30111  0.176422         1.0\n",
              "68399  Saving Private Ryan      106507  0.651616         1.0\n",
              "\n",
              "[965 rows x 4 columns]"
            ]
          },
          "metadata": {
            "tags": []
          },
          "execution_count": 70
        }
      ]
    }
  ]
}